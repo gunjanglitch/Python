{
 "cells": [
  {
   "cell_type": "code",
   "execution_count": 4,
   "id": "14c228a2-e1fb-4c34-b917-b5ac938cf3bc",
   "metadata": {},
   "outputs": [
    {
     "name": "stdout",
     "output_type": "stream",
     "text": [
      "[10, 20, 30, [120, 130], 40, 50, 60, (120, 130), 70]\n",
      "10\n",
      "(10, 20, 30, (120, 130), 40, 50, 60, [120, 130], 70)\n"
     ]
    }
   ],
   "source": [
    "#single valued variable\n",
    "x=10\n",
    "\n",
    "#list\n",
    "abc=[10,20,30,40]\n",
    "abc=[10,20,30,[120,130],40,50,60,(120,130),70] \n",
    "\n",
    "\n",
    "#tuple\n",
    "pqr=(10,20,30,40)\n",
    "pqr=(10,20,30,(120,130),40,50,60,[120,130],70)\n",
    "\n",
    "print(abc)\n",
    "print(x)\n",
    "print(pqr)"
   ]
  },
  {
   "cell_type": "code",
   "execution_count": 11,
   "id": "4918c724-7a04-487f-bd31-dbc07faeb380",
   "metadata": {},
   "outputs": [
    {
     "name": "stdout",
     "output_type": "stream",
     "text": [
      "{'a': 10, 'b': 300, 'abc': 70, 'pqr': [120, 130, 140, 150], 'xyz': (130, 140, 150), 'lmn': 'bioinfo', 'ATG': 'M', 'x1': {'bio': 400, 'micro': 300}}\n"
     ]
    }
   ],
   "source": [
    "#dictionary\n",
    "x={\"a\":10, \"b\":300, \"abc\":70, \"pqr\":[120,130,140,150], \"xyz\":(130,140,150), \"lmn\":\"bioinfo\",\"ATG\":\"M\", \"x1\":{\"bio\":400, \"micro\":300}};\n",
    "print(x)"
   ]
  },
  {
   "cell_type": "code",
   "execution_count": 19,
   "id": "418b7627-bf5f-4a34-b92e-514c506b1889",
   "metadata": {},
   "outputs": [
    {
     "name": "stdout",
     "output_type": "stream",
     "text": [
      "10\n",
      "70\n",
      "[120, 130, 140, 150]\n",
      "140\n",
      "bioinfo\n",
      "{'bio': 400, 'micro': 300}\n",
      "300\n"
     ]
    }
   ],
   "source": [
    "#how to fetch keys and values from a dictionary\n",
    "x={\"a\":10, \"b\":300, \"abc\":70, \"pqr\":[120,130,140,150], \"xyz\":(130,140,150), \"lmn\":\"bioinfo\",\"ATG\":\"M\", \"x1\":{\"bio\":400, \"micro\":300}};\n",
    "print(x[\"a\"])\n",
    "print(x[\"abc\"])\n",
    "print(x[\"pqr\"])\n",
    "print(x[\"pqr\"][2])\n",
    "print(x[\"lmn\"])\n",
    "print(x[\"x1\"])\n",
    "print(x[\"x1\"][\"micro\"])"
   ]
  },
  {
   "cell_type": "code",
   "execution_count": 21,
   "id": "93635dad-f0d4-44f2-83c6-4ec5a95aeab5",
   "metadata": {},
   "outputs": [
    {
     "name": "stdout",
     "output_type": "stream",
     "text": [
      "dict_keys(['a', 'b', 'abc', 'pqr', 'xyz', 'lmn', 'ATG', 'x1'])\n",
      "dict_values([10, 300, 70, [120, 130, 140, 150], (130, 140, 150), 'bioinfo', 'M', {'bio': 400, 'micro': 300}])\n"
     ]
    }
   ],
   "source": [
    "#print keys and values of dictionary\n",
    "x={\"a\":10, \"b\":300, \"abc\":70, \"pqr\":[120,130,140,150], \"xyz\":(130,140,150), \"lmn\":\"bioinfo\",\"ATG\":\"M\", \"x1\":{\"bio\":400, \"micro\":300}};\n",
    "print(x.keys())\n",
    "print(x.values())"
   ]
  },
  {
   "cell_type": "code",
   "execution_count": 22,
   "id": "5571dedd-9d94-48d8-9963-9fd7025e8bc0",
   "metadata": {},
   "outputs": [
    {
     "name": "stdout",
     "output_type": "stream",
     "text": [
      "{'a': 10, 'b': 300, 'abc': 70, 'pqr': [120, 130, 140, 150], 'xyz': (130, 140, 150), 'lmn': 'bioinfo', 'ATG': 'M', 'x1': {'bio': 400, 'micro': 300}}\n",
      "{'a': 10, 'b': 300, 'abc': 900, 'pqr': [120, 130, 140, 150], 'xyz': (130, 140, 150), 'lmn': 'bioinfo', 'ATG': 'M', 'x1': {'bio': 400, 'micro': 300}}\n"
     ]
    }
   ],
   "source": [
    "#how to update the values of key\n",
    "x={\"a\":10, \"b\":300, \"abc\":70, \"pqr\":[120,130,140,150], \"xyz\":(130,140,150), \"lmn\":\"bioinfo\",\"ATG\":\"M\", \"x1\":{\"bio\":400, \"micro\":300}};\n",
    "print(x)\n",
    "x[\"abc\"]=900\n",
    "print(x)"
   ]
  },
  {
   "cell_type": "code",
   "execution_count": 25,
   "id": "df521b41-e17f-413e-b86d-dcb20c0184f7",
   "metadata": {},
   "outputs": [
    {
     "name": "stdout",
     "output_type": "stream",
     "text": [
      "{'a': 10, 'b': 300, 'abc': 70, 'pqr': [120, 130, 140, 150], 'xyz': (130, 140, 150), 'lmn': 'bioinfo', 'ATG': 'M', 'x1': {'bio': 400, 'micro': 300}}\n",
      "{'a': 10, 'b': 300, 'abc': 70, 'pqr': [120, 130, 140, 150], 'xyz': (130, 140, 150), 'lmn': 'bioinfo', 'ATG': 'M', 'x1': {'bio': 400, 'micro': 300}, 'embs': [1200, 1300]}\n"
     ]
    },
    {
     "data": {
      "text/plain": [
       "dict_keys(['a', 'b', 'abc', 'pqr', 'xyz', 'lmn', 'ATG', 'x1', 'embs'])"
      ]
     },
     "execution_count": 25,
     "metadata": {},
     "output_type": "execute_result"
    }
   ],
   "source": [
    "#how to insert a new key and values into an exisiting dictionary\n",
    "x={\"a\":10, \"b\":300, \"abc\":70, \"pqr\":[120,130,140,150], \"xyz\":(130,140,150), \"lmn\":\"bioinfo\",\"ATG\":\"M\", \"x1\":{\"bio\":400, \"micro\":300}};\n",
    "print(x)\n",
    "x[\"embs\"]=[1200,1300]\n",
    "print(x)\n",
    "x.keys()"
   ]
  },
  {
   "cell_type": "code",
   "execution_count": 30,
   "id": "e9b0f9de-1998-4149-8dcc-ee65e1bf09c8",
   "metadata": {},
   "outputs": [
    {
     "name": "stdout",
     "output_type": "stream",
     "text": [
      "{'a': 10, 'b': 300, 'abc': 70, 'xyz': (130, 140, 150), 'lmn': 'bioinfo', 'ATG': 'M', 'x1': {'bio': 400, 'micro': 300}}\n"
     ]
    }
   ],
   "source": [
    "#how to delete a key from existing dictionary\n",
    "x={\"a\":10, \"b\":300, \"abc\":70, \"pqr\":[120,130,140,150], \"xyz\":(130,140,150), \"lmn\":\"bioinfo\",\"ATG\":\"M\", \"x1\":{\"bio\":400, \"micro\":300}};\n",
    "print(x)\n",
    "del x[\"pqr\"]\n",
    "print(x)"
   ]
  },
  {
   "cell_type": "code",
   "execution_count": 29,
   "id": "fab39323-0a14-481f-826d-e017645851eb",
   "metadata": {},
   "outputs": [
    {
     "name": "stdout",
     "output_type": "stream",
     "text": [
      "{}\n"
     ]
    }
   ],
   "source": [
    "#how to empty a dictionary\n",
    "x={\"a\":10, \"b\":300, \"abc\":70, \"pqr\":[120,130,140,150], \"xyz\":(130,140,150), \"lmn\":\"bioinfo\",\"ATG\":\"M\", \"x1\":{\"bio\":400, \"micro\":300}};\n",
    "x.clear()\n",
    "print(x)"
   ]
  },
  {
   "cell_type": "code",
   "execution_count": 33,
   "id": "937ac90b-664b-4c43-91b6-4816396d2497",
   "metadata": {},
   "outputs": [
    {
     "ename": "NameError",
     "evalue": "name 'x' is not defined",
     "output_type": "error",
     "traceback": [
      "\u001b[1;31m---------------------------------------------------------------------------\u001b[0m",
      "\u001b[1;31mNameError\u001b[0m                                 Traceback (most recent call last)",
      "Cell \u001b[1;32mIn[33], line 4\u001b[0m\n\u001b[0;32m      2\u001b[0m x\u001b[38;5;241m=\u001b[39m{\u001b[38;5;124m\"\u001b[39m\u001b[38;5;124ma\u001b[39m\u001b[38;5;124m\"\u001b[39m:\u001b[38;5;241m10\u001b[39m, \u001b[38;5;124m\"\u001b[39m\u001b[38;5;124mb\u001b[39m\u001b[38;5;124m\"\u001b[39m:\u001b[38;5;241m300\u001b[39m, \u001b[38;5;124m\"\u001b[39m\u001b[38;5;124mabc\u001b[39m\u001b[38;5;124m\"\u001b[39m:\u001b[38;5;241m70\u001b[39m, \u001b[38;5;124m\"\u001b[39m\u001b[38;5;124mpqr\u001b[39m\u001b[38;5;124m\"\u001b[39m:[\u001b[38;5;241m120\u001b[39m,\u001b[38;5;241m130\u001b[39m,\u001b[38;5;241m140\u001b[39m,\u001b[38;5;241m150\u001b[39m], \u001b[38;5;124m\"\u001b[39m\u001b[38;5;124mxyz\u001b[39m\u001b[38;5;124m\"\u001b[39m:(\u001b[38;5;241m130\u001b[39m,\u001b[38;5;241m140\u001b[39m,\u001b[38;5;241m150\u001b[39m), \u001b[38;5;124m\"\u001b[39m\u001b[38;5;124mlmn\u001b[39m\u001b[38;5;124m\"\u001b[39m:\u001b[38;5;124m\"\u001b[39m\u001b[38;5;124mbioinfo\u001b[39m\u001b[38;5;124m\"\u001b[39m,\u001b[38;5;124m\"\u001b[39m\u001b[38;5;124mATG\u001b[39m\u001b[38;5;124m\"\u001b[39m:\u001b[38;5;124m\"\u001b[39m\u001b[38;5;124mM\u001b[39m\u001b[38;5;124m\"\u001b[39m, \u001b[38;5;124m\"\u001b[39m\u001b[38;5;124mx1\u001b[39m\u001b[38;5;124m\"\u001b[39m:{\u001b[38;5;124m\"\u001b[39m\u001b[38;5;124mbio\u001b[39m\u001b[38;5;124m\"\u001b[39m:\u001b[38;5;241m400\u001b[39m, \u001b[38;5;124m\"\u001b[39m\u001b[38;5;124mmicro\u001b[39m\u001b[38;5;124m\"\u001b[39m:\u001b[38;5;241m300\u001b[39m}};\n\u001b[0;32m      3\u001b[0m \u001b[38;5;28;01mdel\u001b[39;00m(x)\n\u001b[1;32m----> 4\u001b[0m \u001b[38;5;28mprint\u001b[39m(\u001b[43mx\u001b[49m)\n",
      "\u001b[1;31mNameError\u001b[0m: name 'x' is not defined"
     ]
    }
   ],
   "source": [
    "#how to delete a dictionary\n",
    "x={\"a\":10, \"b\":300, \"abc\":70, \"pqr\":[120,130,140,150], \"xyz\":(130,140,150), \"lmn\":\"bioinfo\",\"ATG\":\"M\", \"x1\":{\"bio\":400, \"micro\":300}};\n",
    "del(x)\n",
    "print(x)"
   ]
  },
  {
   "cell_type": "code",
   "execution_count": 34,
   "id": "27a867eb-b4c5-48c6-ab90-b809711d261d",
   "metadata": {},
   "outputs": [
    {
     "name": "stdout",
     "output_type": "stream",
     "text": [
      "{'a': 10, 'b': 20, 'c': 30}\n",
      "{'m': 90, 'j': 80, 'k': 70}\n",
      "{'a': 10, 'b': 20, 'c': 30, 'm': 90, 'j': 80, 'k': 70}\n"
     ]
    }
   ],
   "source": [
    "#how to merge two dictionary\n",
    "x={\"a\":10, \"b\":20, \"c\":30}\n",
    "y={\"m\":90, \"j\":80, \"k\":70}\n",
    "print(x)\n",
    "print(y)\n",
    "print({**x, **y})"
   ]
  },
  {
   "cell_type": "code",
   "execution_count": null,
   "id": "16bf3bb3-9162-43b6-a313-2a5c6d7d2d90",
   "metadata": {},
   "outputs": [],
   "source": [
    "#how to merge two dictionary\n",
    "x={\"a\":10, \"b\":20, \"c\":30}\n",
    "y={\"m\":90, \"j\":80, \"k\":70}\n",
    "print(x)\n",
    "print(y)\n",
    "print({**x, **y})"
   ]
  },
  {
   "cell_type": "code",
   "execution_count": 38,
   "id": "a4b511cb-a65c-4052-8bab-831cef66b8fa",
   "metadata": {},
   "outputs": [
    {
     "name": "stdout",
     "output_type": "stream",
     "text": [
      "3\n",
      "True\n",
      "False\n",
      "True\n"
     ]
    }
   ],
   "source": [
    "#length\n",
    "x={\"a\":10, \"b\":20, \"c\":30}\n",
    "print(len(x))\n",
    "\n",
    "#checking the membership of a key\n",
    "print(\"b\" in x.keys())\n",
    "print(\"c\" not in x.keys())\n",
    "\n",
    "#checking the membership of a value in a dictionary\n",
    "print(20 in x.values())"
   ]
  },
  {
   "cell_type": "code",
   "execution_count": 40,
   "id": "0019d9f2-f523-4fbe-a67c-b755fd34b0e2",
   "metadata": {},
   "outputs": [
    {
     "name": "stdout",
     "output_type": "stream",
     "text": [
      "[10, 20, [120, 130, 140], 30, 40, [500, 600, 700, 800], 50, 60, 70, 80, {'a': 20, 'b': [150, 160, 170]}, 90, 120]\n"
     ]
    }
   ],
   "source": [
    "abc=[10,20,[120,130,140],30,40,[500,600,700,800],50,60,70,80,{'a':20,'b':[150,160,170],'c':40},90,120]\n",
    "del(abc[10]['c'])\n",
    "print(abc)"
   ]
  },
  {
   "cell_type": "code",
   "execution_count": null,
   "id": "625b5cd3-59c0-4681-8bde-a00bea132a68",
   "metadata": {},
   "outputs": [],
   "source": []
  }
 ],
 "metadata": {
  "kernelspec": {
   "display_name": "Python 3 (ipykernel)",
   "language": "python",
   "name": "python3"
  },
  "language_info": {
   "codemirror_mode": {
    "name": "ipython",
    "version": 3
   },
   "file_extension": ".py",
   "mimetype": "text/x-python",
   "name": "python",
   "nbconvert_exporter": "python",
   "pygments_lexer": "ipython3",
   "version": "3.12.6"
  }
 },
 "nbformat": 4,
 "nbformat_minor": 5
}
