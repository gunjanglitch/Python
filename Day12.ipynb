{
 "cells": [
  {
   "cell_type": "code",
   "execution_count": 6,
   "id": "91cc0adb-5fee-472f-8f93-f1add8409240",
   "metadata": {},
   "outputs": [
    {
     "ename": "IndentationError",
     "evalue": "expected an indented block after function definition on line 5 (4201111575.py, line 8)",
     "output_type": "error",
     "traceback": [
      "\u001b[1;36m  Cell \u001b[1;32mIn[6], line 8\u001b[1;36m\u001b[0m\n\u001b[1;33m    def _init_(self,name,age,gender):\u001b[0m\n\u001b[1;37m                                     ^\u001b[0m\n\u001b[1;31mIndentationError\u001b[0m\u001b[1;31m:\u001b[0m expected an indented block after function definition on line 5\n"
     ]
    }
   ],
   "source": [
    "#creating a class with name student\n",
    "class student:\n",
    "\n",
    "#creating a constructor\n",
    "   def _init_():\n",
    "\n",
    "#iniside the function we need to write blindly something called 'self'. self means object itself\n",
    "def _init_(self,):"
   ]
  },
  {
   "cell_type": "code",
   "execution_count": 7,
   "id": "a0cc14b1-966b-4d91-9e8a-f59c61c1a987",
   "metadata": {},
   "outputs": [
    {
     "ename": "SyntaxError",
     "evalue": "expected ':' (764936945.py, line 3)",
     "output_type": "error",
     "traceback": [
      "\u001b[1;36m  Cell \u001b[1;32mIn[7], line 3\u001b[1;36m\u001b[0m\n\u001b[1;33m    class student\u001b[0m\n\u001b[1;37m                 ^\u001b[0m\n\u001b[1;31mSyntaxError\u001b[0m\u001b[1;31m:\u001b[0m expected ':'\n"
     ]
    }
   ],
   "source": [
    "#lets our class student have 3 properitrs. for example name, age and gender\n",
    "\n",
    "class student:\n",
    "    def _init_(self,name,age,gender)\n",
    "    self.name\n",
    "\n",
    "#lets say gunjan is the object f the class. So if we prinitng gunjan.name, gunjan.age. We can add any number of properties"
   ]
  },
  {
   "cell_type": "code",
   "execution_count": 12,
   "id": "a4ab7718-ced7-49b8-9125-bf5cb2f00938",
   "metadata": {},
   "outputs": [
    {
     "ename": "NameError",
     "evalue": "name 'name' is not defined",
     "output_type": "error",
     "traceback": [
      "\u001b[1;31m---------------------------------------------------------------------------\u001b[0m",
      "\u001b[1;31mNameError\u001b[0m                                 Traceback (most recent call last)",
      "Cell \u001b[1;32mIn[12], line 7\u001b[0m\n\u001b[0;32m      4\u001b[0m         \u001b[38;5;28mself\u001b[39m\u001b[38;5;241m.\u001b[39mageparam\u001b[38;5;241m=\u001b[39mage\n\u001b[0;32m      5\u001b[0m         \u001b[38;5;28mself\u001b[39m\u001b[38;5;241m.\u001b[39mgenderparam\u001b[38;5;241m=\u001b[39mgender\n\u001b[1;32m----> 7\u001b[0m x1\u001b[38;5;241m=\u001b[39m \u001b[43mStudent\u001b[49m\u001b[43m(\u001b[49m\u001b[38;5;124;43m\"\u001b[39;49m\u001b[38;5;124;43mGunjan\u001b[39;49m\u001b[38;5;124;43m\"\u001b[39;49m\u001b[43m,\u001b[49m\u001b[43m \u001b[49m\u001b[38;5;241;43m24\u001b[39;49m\u001b[43m,\u001b[49m\u001b[43m \u001b[49m\u001b[38;5;124;43m\"\u001b[39;49m\u001b[38;5;124;43mF\u001b[39;49m\u001b[38;5;124;43m\"\u001b[39;49m\u001b[43m)\u001b[49m\n\u001b[0;32m      8\u001b[0m x2\u001b[38;5;241m=\u001b[39m Student(\u001b[38;5;124m\"\u001b[39m\u001b[38;5;124mRandom\u001b[39m\u001b[38;5;124m\"\u001b[39m, \u001b[38;5;241m90\u001b[39m, \u001b[38;5;124m\"\u001b[39m\u001b[38;5;124mM\u001b[39m\u001b[38;5;124m\"\u001b[39m)\n\u001b[0;32m      9\u001b[0m x3\u001b[38;5;241m=\u001b[39m Student(\u001b[38;5;124m\"\u001b[39m\u001b[38;5;124mSomerandom\u001b[39m\u001b[38;5;124m\"\u001b[39m, \u001b[38;5;241m30\u001b[39m, \u001b[38;5;124m\"\u001b[39m\u001b[38;5;124mM\u001b[39m\u001b[38;5;124m\"\u001b[39m)\n",
      "Cell \u001b[1;32mIn[12], line 3\u001b[0m, in \u001b[0;36mStudent.__init__\u001b[1;34m(self, nameparam, ageparam, genderparam)\u001b[0m\n\u001b[0;32m      2\u001b[0m \u001b[38;5;28;01mdef\u001b[39;00m \u001b[38;5;21m__init__\u001b[39m(\u001b[38;5;28mself\u001b[39m,nameparam,ageparam,genderparam):\n\u001b[1;32m----> 3\u001b[0m     \u001b[38;5;28mself\u001b[39m\u001b[38;5;241m.\u001b[39mnameparam\u001b[38;5;241m=\u001b[39m\u001b[43mname\u001b[49m\n\u001b[0;32m      4\u001b[0m     \u001b[38;5;28mself\u001b[39m\u001b[38;5;241m.\u001b[39mageparam\u001b[38;5;241m=\u001b[39mage\n\u001b[0;32m      5\u001b[0m     \u001b[38;5;28mself\u001b[39m\u001b[38;5;241m.\u001b[39mgenderparam\u001b[38;5;241m=\u001b[39mgender\n",
      "\u001b[1;31mNameError\u001b[0m: name 'name' is not defined"
     ]
    }
   ],
   "source": [
    "class Student:\n",
    "    def __init__(self,nameparam,ageparam,genderparam):\n",
    "        self.nameparam=name\n",
    "        self.ageparam=age\n",
    "        self.genderparam=gender\n",
    "\n",
    "x1= Student(\"Gunjan\", 24, \"F\")\n",
    "x2= Student(\"Random\", 90, \"M\")\n",
    "x3= Student(\"Somerandom\", 30, \"M\")\n",
    "x4= Student(\"Milind\", 27, \"M\")\n",
    "x5= Student(\"Deepika\", 100, \"F\")\n",
    "x6= Student(\"Katrina\", 300, \"F\")\n",
    "\n",
    "print(x6.name)"
   ]
  },
  {
   "cell_type": "code",
   "execution_count": 16,
   "id": "7e861304-4333-47ae-87b2-e2e24ce2a7fe",
   "metadata": {},
   "outputs": [
    {
     "name": "stdout",
     "output_type": "stream",
     "text": [
      "Katrina\n",
      "Gunjan\n",
      "30\n",
      "M\n"
     ]
    }
   ],
   "source": [
    "class Student:\n",
    "    def __init__(self, nameparam, ageparam, genderparam):\n",
    "        self.name = nameparam\n",
    "        self.age = ageparam\n",
    "        self.gender = genderparam\n",
    "\n",
    "x1 = Student(\"Gunjan\", 24, \"F\")\n",
    "x2 = Student(\"Random\", 90, \"M\")\n",
    "x3 = Student(\"Somerandom\", 30, \"M\")\n",
    "x4 = Student(\"Milind\", 27, \"M\")\n",
    "x5 = Student(\"Deepika\", 25, \"F\")\n",
    "x6 = Student(\"Katrina\", 300, \"F\")\n",
    "\n",
    "print(x6.name)\n",
    "print(x1.name)\n",
    "print(x3.age)\n",
    "print(x4.gender)"
   ]
  },
  {
   "cell_type": "code",
   "execution_count": 21,
   "id": "2445bb1d-886b-4fdb-9a42-d7649626a820",
   "metadata": {},
   "outputs": [
    {
     "name": "stdout",
     "output_type": "stream",
     "text": [
      "Komla\n",
      "Yes eligible\n",
      "not eligible\n"
     ]
    }
   ],
   "source": [
    "class Student:\n",
    "    def __init__(self, nameparam, ageparam, genderparam):\n",
    "        self.name = nameparam\n",
    "        self.age = ageparam\n",
    "        self.gender = genderparam\n",
    "    def eligibleforDBTproj(self):\n",
    "        if(self.age>25):\n",
    "            return(\"Yes eligible\")\n",
    "        else:\n",
    "            return(\"not eligible\")\n",
    "        \n",
    "\n",
    "x1 = Student(\"Gunjan\", 24, \"F\")\n",
    "x7=Student(\"Komla\",27,\"M\")\n",
    "print(x7.name)\n",
    "print(x7.eligibleforDBTproj())\n",
    "print(x1.eligibleforDBTproj())"
   ]
  },
  {
   "cell_type": "code",
   "execution_count": 28,
   "id": "d0fa7961-d00c-47d4-9b2f-f9517f6ee699",
   "metadata": {},
   "outputs": [
    {
     "name": "stdout",
     "output_type": "stream",
     "text": [
      "Gunjna\n",
      "24\n",
      "not eligible\n",
      "('hello how are you', 'Gunjna')\n"
     ]
    }
   ],
   "source": [
    "class Student:\n",
    "    def __init__(self, nameparam, ageparam, genderparam):\n",
    "        self.name = nameparam\n",
    "        self.age = ageparam\n",
    "        self.gender = genderparam\n",
    "    def eligibleforDBTproj(self):\n",
    "        if(self.age>25):\n",
    "            return(\"Yes eligible\")\n",
    "        else:\n",
    "            return(\"not eligible\")\n",
    "    def hii(self):\n",
    "        return(\"hello how are you\", self.name)\n",
    "\n",
    "abc=Student(\"Gunjna\",24,\"F\")\n",
    "print(abc.name)\n",
    "print(abc.age)\n",
    "print(abc.eligibleforDBTproj())\n",
    "print(abc.hii())"
   ]
  },
  {
   "cell_type": "code",
   "execution_count": 31,
   "id": "fe8cd589-dbce-4711-b9ec-e4e1e894d77e",
   "metadata": {},
   "outputs": [
    {
     "name": "stdout",
     "output_type": "stream",
     "text": [
      "Ishita\n",
      "30\n",
      "match found\n"
     ]
    }
   ],
   "source": [
    "class Student:\n",
    "    def __init__(self, nameparam, ageparam, genderparam):\n",
    "        self.name = nameparam\n",
    "        self.age = ageparam\n",
    "        self.gender = genderparam\n",
    "    def eligibleforDBTproj(self):\n",
    "        if(self.age>25):\n",
    "            return(\"Yes eligible\")\n",
    "        else:\n",
    "            return(\"not eligible\")\n",
    "    def hii(self):\n",
    "        return(\"hello how are you\", self.name)\n",
    "    def searchname(self,query):\n",
    "        if(self.name==query):\n",
    "            return(\"match found\")\n",
    "        else:\n",
    "            return(\"no matches\")\n",
    "\n",
    "a1=Student(\"Ishita\",30,\"F\")\n",
    "print(a1.name)\n",
    "print(a1.age)\n",
    "print(a1.searchname(\"Ishita\"))"
   ]
  },
  {
   "cell_type": "code",
   "execution_count": 37,
   "id": "7bad526d-7011-4760-9071-a2c61e728b5b",
   "metadata": {},
   "outputs": [
    {
     "name": "stdout",
     "output_type": "stream",
     "text": [
      "Naina\n",
      "27\n",
      "High BP\n"
     ]
    }
   ],
   "source": [
    "class Student:\n",
    "    def __init__(self, nameparam, ageparam, genderparam,BP=0):\n",
    "        self.name = nameparam\n",
    "        self.age = ageparam\n",
    "        self.gender = genderparam\n",
    "        self.bp=Health(BP)\n",
    "    def eligibleforDBTproj(self):\n",
    "        if(self.age>25):\n",
    "            return(\"Yes eligible\")\n",
    "        else:\n",
    "            return(\"not eligible\")\n",
    "    def hii(self):\n",
    "        return(\"hello how are you\", self.name)\n",
    "    def searchname(self,query):\n",
    "        if(self.name==query):\n",
    "            return(\"match found\")\n",
    "        else:\n",
    "            return(\"no matches\")\n",
    "\n",
    "class Health:\n",
    "    def __init__(self,BP=0):\n",
    "        self.bp=BP\n",
    "    def checkbp(self):\n",
    "        if(self.bp>110):\n",
    "            return(\"High BP\")\n",
    "        else:\n",
    "            return(\"Low BP\")\n",
    "\n",
    "x12=Student(\"Naina\", 27, \"M\", 120)\n",
    "print(x12.name)\n",
    "print(x12.age)\n",
    "print(x12.bp.checkbp())"
   ]
  },
  {
   "cell_type": "code",
   "execution_count": null,
   "id": "2247e0a3-0237-44a5-a1a6-c1733fbdb8a7",
   "metadata": {},
   "outputs": [],
   "source": []
  },
  {
   "cell_type": "code",
   "execution_count": null,
   "id": "63df1dfa-ca62-46f1-8b2a-f4ba8337186f",
   "metadata": {},
   "outputs": [],
   "source": []
  },
  {
   "cell_type": "code",
   "execution_count": null,
   "id": "9db441a8-59b0-476b-88a7-975242dbe285",
   "metadata": {},
   "outputs": [],
   "source": []
  },
  {
   "cell_type": "code",
   "execution_count": null,
   "id": "6932c0b8-0206-4f9a-9eb7-7cbcebe1ff15",
   "metadata": {},
   "outputs": [],
   "source": []
  },
  {
   "cell_type": "code",
   "execution_count": null,
   "id": "2d8b1419-950a-4fe3-8574-4e346cf64c55",
   "metadata": {},
   "outputs": [],
   "source": []
  },
  {
   "cell_type": "code",
   "execution_count": null,
   "id": "5f5d5071-c292-4a1c-bfe0-767947eb32b3",
   "metadata": {},
   "outputs": [],
   "source": []
  },
  {
   "cell_type": "code",
   "execution_count": null,
   "id": "33fdef8e-c6fa-4c9d-bf5b-8feb197e1854",
   "metadata": {},
   "outputs": [],
   "source": []
  },
  {
   "cell_type": "code",
   "execution_count": null,
   "id": "41487ddc-ace1-4152-8009-ef4f31e1ddf0",
   "metadata": {},
   "outputs": [],
   "source": []
  },
  {
   "cell_type": "code",
   "execution_count": null,
   "id": "254845a6-0605-47b1-a638-ae388e74526d",
   "metadata": {},
   "outputs": [],
   "source": []
  }
 ],
 "metadata": {
  "kernelspec": {
   "display_name": "Python 3 (ipykernel)",
   "language": "python",
   "name": "python3"
  },
  "language_info": {
   "codemirror_mode": {
    "name": "ipython",
    "version": 3
   },
   "file_extension": ".py",
   "mimetype": "text/x-python",
   "name": "python",
   "nbconvert_exporter": "python",
   "pygments_lexer": "ipython3",
   "version": "3.12.6"
  }
 },
 "nbformat": 4,
 "nbformat_minor": 5
}
