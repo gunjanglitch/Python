{
 "cells": [
  {
   "cell_type": "code",
   "execution_count": 1,
   "id": "91cc0adb-5fee-472f-8f93-f1add8409240",
   "metadata": {},
   "outputs": [],
   "source": [
    "#function"
   ]
  },
  {
   "cell_type": "code",
   "execution_count": 2,
   "id": "a7825196-2775-44c2-9661-2f2a533b07c7",
   "metadata": {},
   "outputs": [
    {
     "name": "stdout",
     "output_type": "stream",
     "text": [
      "140\n",
      "250\n",
      "630\n",
      "740\n",
      "900\n",
      "3\n",
      "1200\n",
      "2600\n"
     ]
    }
   ],
   "source": [
    "x=[140,250,630,740,900,3,1200,2600]\n",
    "for i in x:\n",
    "    print(i)"
   ]
  },
  {
   "cell_type": "code",
   "execution_count": 9,
   "id": "ce6c90ac-29ea-45e5-8bd2-ed0415110329",
   "metadata": {},
   "outputs": [
    {
     "name": "stdout",
     "output_type": "stream",
     "text": [
      "The biggest number in the list is: 2600\n"
     ]
    }
   ],
   "source": [
    "#for finding biggest number\n",
    "x=[140,250,630,740,900,3,1200,2600]\n",
    "a=-1\n",
    "for i in x:\n",
    "    if(i>a):\n",
    "        a=i\n",
    "print(\"The biggest number in the list is:\",a)"
   ]
  },
  {
   "cell_type": "code",
   "execution_count": 14,
   "id": "4131300f-e055-4524-b305-fbb5cd4d18f5",
   "metadata": {},
   "outputs": [
    {
     "name": "stdout",
     "output_type": "stream",
     "text": [
      "The smallest number in the list is: 3\n"
     ]
    }
   ],
   "source": [
    "#for finding smallest number\n",
    "x=[140,250,630,740,900,3,1200,2600]\n",
    "a=99999999\n",
    "for i in x:\n",
    "    if(i<a):\n",
    "        a=i\n",
    "print(\"The smallest number in the list is:\",a)"
   ]
  },
  {
   "cell_type": "code",
   "execution_count": 19,
   "id": "fd390b4d-817e-4337-832d-eaed2d6575cc",
   "metadata": {},
   "outputs": [
    {
     "name": "stdout",
     "output_type": "stream",
     "text": [
      "The mean of the elements in the list is: 807.875\n"
     ]
    }
   ],
   "source": [
    "#for finding mean\n",
    "x=[140,250,630,740,900,3,1200,2600]\n",
    "a=0\n",
    "for i in x:\n",
    "    a=a+i\n",
    "abc=a/len(x)\n",
    "print(\"The mean of the elements in the list is:\", abc)"
   ]
  },
  {
   "cell_type": "code",
   "execution_count": 29,
   "id": "08bd838c-9cca-48da-a5cb-2c3ab2c9de3e",
   "metadata": {},
   "outputs": [
    {
     "name": "stdout",
     "output_type": "stream",
     "text": [
      "The median of the list is 3\n"
     ]
    }
   ],
   "source": [
    "#for finding median\n",
    "x=[1,2,10,3,6]\n",
    "abc=sorted(x)\n",
    "x1=len(abc)\n",
    "for i in abc:\n",
    "    if x1%2==0:\n",
    "        pqr=(abc[x1//2-1] + abc[x1//2]) / 2\n",
    "    else:\n",
    "        pqr=abc[x1//2]\n",
    "print(\"The median of the list is\", pqr)\n",
    "        "
   ]
  },
  {
   "cell_type": "code",
   "execution_count": 31,
   "id": "c15d25a7-380b-4e52-b53b-67c20459fb83",
   "metadata": {},
   "outputs": [],
   "source": [
    "def gunjan():\n",
    "    print(\"good morning\")"
   ]
  },
  {
   "cell_type": "code",
   "execution_count": 32,
   "id": "5c29fdc7-2ec8-49c8-8f3b-56d69141071b",
   "metadata": {},
   "outputs": [
    {
     "name": "stdout",
     "output_type": "stream",
     "text": [
      "good morning\n"
     ]
    }
   ],
   "source": [
    "gunjan()"
   ]
  },
  {
   "cell_type": "code",
   "execution_count": 35,
   "id": "d44e54d9-497a-4690-a353-6c529646f92e",
   "metadata": {},
   "outputs": [],
   "source": [
    "def embs(x):\n",
    "\n",
    "    #for finding the largest number\n",
    "    a=-999999999\n",
    "    for i in x:\n",
    "        if (i>a):\n",
    "            a=i\n",
    "    print(\"The bigggest number in the list is:\",a)\n",
    "\n",
    "    #finding the smallest number\n",
    "    a=99999999\n",
    "    for i in x:\n",
    "        if(i<a):\n",
    "            a=i\n",
    "    print(\"The smallest number in the list is:\",a)\n",
    "\n",
    "    #for finding the mean\n",
    "    a=0\n",
    "    for i in x:\n",
    "        a=a+i\n",
    "    abc=a/len(x)\n",
    "    print(\"The mean of the elements in the list is:\", abc)\n",
    "\n",
    "    #for finding the median\n",
    "    abc=sorted(x)\n",
    "    x1=len(abc)\n",
    "    for i in abc:\n",
    "        if x1 % 2 == 0:\n",
    "            pqr=(abc[x1//2-1] + abc[x1//2] / 2)\n",
    "        else:\n",
    "            pqr=abc[x1//2]\n",
    "    print(\"The median of the list is:\", pqr)\n",
    "\n",
    "    "
   ]
  },
  {
   "cell_type": "code",
   "execution_count": 37,
   "id": "aca1f18c-b377-4fbb-b3ca-7a0e69931be2",
   "metadata": {},
   "outputs": [
    {
     "name": "stdout",
     "output_type": "stream",
     "text": [
      "The bigggest number in the list is: 3200\n",
      "The smallest number in the list is: 10\n",
      "The mean of the elements in the list is: 785.4\n",
      "The median of the list is: 70.0\n"
     ]
    }
   ],
   "source": [
    "xyz=[10,3200,70,12,18,19,2400,35,190,1900]\n",
    "embs(xyz)"
   ]
  },
  {
   "cell_type": "code",
   "execution_count": 38,
   "id": "b8552bac-8edc-4cd6-ac01-cd3ec54d7223",
   "metadata": {},
   "outputs": [
    {
     "name": "stdout",
     "output_type": "stream",
     "text": [
      "The bigggest number in the list is: 1900\n",
      "The smallest number in the list is: 12\n",
      "The mean of the elements in the list is: 607.0\n",
      "The median of the list is: 575.0\n"
     ]
    }
   ],
   "source": [
    "x5={12,80,1900,650,250,750}\n",
    "embs(x5)"
   ]
  },
  {
   "cell_type": "code",
   "execution_count": 43,
   "id": "1c2b5ca8-3b1d-45ef-93d7-915fee863ab0",
   "metadata": {},
   "outputs": [],
   "source": [
    "def embs_max(x):\n",
    "    #for finding the largest number\n",
    "    a=-999999999\n",
    "    for i in x:\n",
    "        if (i>a):\n",
    "            a=i\n",
    "    return(\"The bigggest number in the list is:\",a)\n",
    "\n",
    "def embs_min(x):\n",
    "    #finding the smallest number\n",
    "    a=99999999\n",
    "    for i in x:\n",
    "        if(i<a):\n",
    "            a=i\n",
    "    return(\"The smallest number in the list is:\",a)\n",
    "\n",
    "def embs_mean(x):\n",
    "    #for finding the mean\n",
    "    a=0\n",
    "    for i in x:\n",
    "        a=a+i\n",
    "    abc=a/len(x)\n",
    "    return(\"The mean of the elements in the list is:\", abc)\n",
    "\n",
    "def embs_median(x): \n",
    "    #for finding the median\n",
    "    abc=sorted(x)\n",
    "    x1=len(abc)\n",
    "    for i in abc:\n",
    "        if x1 % 2 == 0:\n",
    "            pqr=(abc[x1//2-1] + abc[x1//2] / 2)\n",
    "        else:\n",
    "            pqr=abc[x1//2]\n",
    "    return(\"The median of the list is:\", pqr)\n",
    "\n",
    "    "
   ]
  },
  {
   "cell_type": "code",
   "execution_count": 48,
   "id": "e419ce7f-d5d7-4c1a-b929-9723aa4ba10d",
   "metadata": {},
   "outputs": [
    {
     "name": "stdout",
     "output_type": "stream",
     "text": [
      "('The bigggest number in the list is:', 1900)\n",
      "('The mean of the elements in the list is:', 607.0)\n",
      "('The smallest number in the list is:', 2)\n",
      "('The median of the list is:', 7)\n"
     ]
    }
   ],
   "source": [
    "x5=[12,80,1900,650,250,750]\n",
    "x6=[2,4,7,9,12]\n",
    "print(embs_max(x5))\n",
    "print(embs_mean(x5))\n",
    "print(embs_min(x5+x6))\n",
    "print(embs_median(x6))"
   ]
  },
  {
   "cell_type": "code",
   "execution_count": null,
   "id": "b2652740-bcb4-4e20-949e-d16428c49667",
   "metadata": {},
   "outputs": [],
   "source": [
    "#standard deviation\n",
    "#variance\n",
    "#mode\n",
    "#create x and y then find the variable whose mean is greater\n",
    "#create x and y and do correlation"
   ]
  },
  {
   "cell_type": "code",
   "execution_count": 49,
   "id": "af6c8018-b6e0-4f9c-9ff8-70acb598b890",
   "metadata": {},
   "outputs": [
    {
     "name": "stdin",
     "output_type": "stream",
     "text": [
      "Enter any value: 10\n",
      "Enter another value 20\n"
     ]
    },
    {
     "name": "stdout",
     "output_type": "stream",
     "text": [
      "The sum of two values are: 30\n"
     ]
    }
   ],
   "source": [
    "a=int(input(\"Enter any value:\"))\n",
    "b=int(input(\"Enter another value\"))\n",
    "x=a+b\n",
    "print(\"The sum of two values are:\", x)"
   ]
  },
  {
   "cell_type": "code",
   "execution_count": 51,
   "id": "212ddf1b-8d9a-4a27-bf16-11708f5d43b9",
   "metadata": {},
   "outputs": [],
   "source": [
    "def addition(a,b):\n",
    "    a=int(input(\"Enter any value:\"))\n",
    "    b=int(input(\"Enter another value\"))\n",
    "    x=a+b\n",
    "    print(\"The sum of two values are:\", x)"
   ]
  },
  {
   "cell_type": "code",
   "execution_count": 53,
   "id": "4a15d7d5-090d-4793-8832-174bc1deb0c0",
   "metadata": {},
   "outputs": [
    {
     "name": "stdin",
     "output_type": "stream",
     "text": [
      "Enter any value: 10\n",
      "Enter another value 10\n"
     ]
    },
    {
     "name": "stdout",
     "output_type": "stream",
     "text": [
      "The sum of two values are: 20\n"
     ]
    }
   ],
   "source": [
    "addition(a,b)"
   ]
  },
  {
   "cell_type": "code",
   "execution_count": 54,
   "id": "33b93adc-791a-434e-9e17-074da6463345",
   "metadata": {},
   "outputs": [
    {
     "name": "stdout",
     "output_type": "stream",
     "text": [
      "12\n",
      "14\n",
      "26\n"
     ]
    }
   ],
   "source": [
    "x=\"ATGCTGATCGTAGCTAGCTAGCTCTAGCTGATCGATCGCTGCATCGCTAC\"\n",
    "g=x.count(\"G\")\n",
    "c=x.count(\"C\")\n",
    "a=x.count(\"A\")\n",
    "t=x.count(\"T\")\n",
    "gc=g+c\n",
    "print(g)\n",
    "print(c)\n",
    "print(gc)"
   ]
  },
  {
   "cell_type": "code",
   "execution_count": 56,
   "id": "68252a5c-a2c9-429b-afe9-1953f5837fef",
   "metadata": {},
   "outputs": [
    {
     "name": "stdout",
     "output_type": "stream",
     "text": [
      "53.06122448979592\n",
      "46.93877551020408\n"
     ]
    }
   ],
   "source": [
    "x=\"ATGCTGATCGTAGCTAGCTAGCTCTAGCTGTCGATCGCTGCATCGCTAC\"\n",
    "g=x.count(\"G\")\n",
    "c=x.count(\"C\")\n",
    "a=x.count(\"A\")\n",
    "t=x.count(\"T\")\n",
    "gc=g+c\n",
    "total=len(x)\n",
    "gcp=(gc*100)/total\n",
    "atp=100-gcp\n",
    "print(gcp)\n",
    "print(atp)"
   ]
  },
  {
   "cell_type": "code",
   "execution_count": 58,
   "id": "4ea55c09-b0bb-465f-9a6d-aa507401667d",
   "metadata": {},
   "outputs": [],
   "source": [
    "def seq(x):\n",
    "    g=x.count(\"G\")\n",
    "    c=x.count(\"C\")\n",
    "    a=x.count(\"A\")\n",
    "    t=x.count(\"T\")\n",
    "    gc=g+c\n",
    "    total=len(x)\n",
    "    gcp=(gc*100)/total\n",
    "    atp=100-gcp\n",
    "    print(\"gc percentage is:\",gcp, \"%\")\n",
    "    print(\"at percentage is :\",atp, \"%\")"
   ]
  },
  {
   "cell_type": "code",
   "execution_count": 59,
   "id": "8793ecdd-f733-4d65-a705-eb72e3578e10",
   "metadata": {},
   "outputs": [
    {
     "name": "stdout",
     "output_type": "stream",
     "text": [
      "gc percentage is: 58.44155844155844 %\n",
      "at percentage is : 41.55844155844156 %\n"
     ]
    }
   ],
   "source": [
    "a1=\"ATCGTAGCTGTCGATCGCTGCTAGCTCGATCGACTGCTGCTACGCTGCTCGCTGCTAGCTCGATCGCTAGCTAGCTC\"\n",
    "seq(a1)"
   ]
  },
  {
   "cell_type": "code",
   "execution_count": 60,
   "id": "645865cd-8dba-4dce-9415-95fc3bbd5694",
   "metadata": {},
   "outputs": [
    {
     "name": "stdin",
     "output_type": "stream",
     "text": [
      "Enter a gene sequence TAGTGATCGTAGCTGCTAGCTCGCTATCT\n"
     ]
    },
    {
     "name": "stdout",
     "output_type": "stream",
     "text": [
      "gc percentage is: 48.275862068965516 %\n",
      "at percentage is : 51.724137931034484 %\n"
     ]
    }
   ],
   "source": [
    "a2=input(\"Enter a gene sequence\")\n",
    "seq(a2)"
   ]
  },
  {
   "cell_type": "code",
   "execution_count": null,
   "id": "0cef6554-abf0-44d8-be1f-559213297a23",
   "metadata": {},
   "outputs": [],
   "source": []
  },
  {
   "cell_type": "code",
   "execution_count": null,
   "id": "f1ed27ba-787e-4983-9ea5-00d701e45983",
   "metadata": {},
   "outputs": [],
   "source": []
  },
  {
   "cell_type": "code",
   "execution_count": null,
   "id": "130bafa0-8555-476c-b5e9-bce15c2cf12e",
   "metadata": {},
   "outputs": [],
   "source": []
  },
  {
   "cell_type": "code",
   "execution_count": null,
   "id": "cc5caf04-609a-41bf-8652-9b33b1c17a1a",
   "metadata": {},
   "outputs": [],
   "source": []
  }
 ],
 "metadata": {
  "kernelspec": {
   "display_name": "Python 3 (ipykernel)",
   "language": "python",
   "name": "python3"
  },
  "language_info": {
   "codemirror_mode": {
    "name": "ipython",
    "version": 3
   },
   "file_extension": ".py",
   "mimetype": "text/x-python",
   "name": "python",
   "nbconvert_exporter": "python",
   "pygments_lexer": "ipython3",
   "version": "3.12.6"
  }
 },
 "nbformat": 4,
 "nbformat_minor": 5
}
