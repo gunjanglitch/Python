{
 "cells": [
  {
   "cell_type": "code",
   "execution_count": 4,
   "id": "9f662ff7-9a5d-4485-9bc6-76f618189e25",
   "metadata": {},
   "outputs": [
    {
     "name": "stdout",
     "output_type": "stream",
     "text": [
      "10\n",
      "30\n",
      "[10, 20, 30, 40]\n",
      "[30, 40, 50, 60, 70]\n",
      "140\n",
      "130\n",
      "[40, 50, 60, 70, 80, 90, 120, 130]\n"
     ]
    }
   ],
   "source": [
    "#List\n",
    "#how to create a List\n",
    "x=[10,20,30,40,50,60,70,80,90,120,130,140]\n",
    "print(x[0])\n",
    "print(x[2])\n",
    "print(x[:4]) #start index : end index -1th index\n",
    "\n",
    "print(x[2:7]) #end index: 6th index\n",
    "print(x[-1])\n",
    "print(x[-2])\n",
    "print(x[3:-1]) #3rd index: -1-1th index= -2nd index i.e. 130"
   ]
  },
  {
   "cell_type": "code",
   "execution_count": 10,
   "id": "4b7d9d2d-5d85-4308-908e-ac297ac23c30",
   "metadata": {},
   "outputs": [
    {
     "name": "stdout",
     "output_type": "stream",
     "text": [
      "[12, 13, [44, 45, 46, 47, 48], 14, 15, 16, 17, [121, 122, [141, 142, 143], 123, 124, 125], 18, 19, 20, 21, 22, 23]\n",
      "13\n",
      "46\n"
     ]
    }
   ],
   "source": [
    "abc=[12,13,[44,45,46,47,48],14,15,16,17,[121,122,[141,142,143],123,124,125],18,19,20,21,22,23]\n",
    "print(abc)\n",
    "print(abc[1])\n",
    "print(abc[2][2])"
   ]
  },
  {
   "cell_type": "code",
   "execution_count": 13,
   "id": "c308689a-1a42-413b-bb88-de1baa2c4372",
   "metadata": {},
   "outputs": [
    {
     "name": "stdout",
     "output_type": "stream",
     "text": [
      "[10, 20, 30, 40, 50, 60]\n",
      "[10, 20, 30, 40, 50, 60, 70, 80, 90, 100]\n"
     ]
    }
   ],
   "source": [
    "#how to append a list\n",
    "x=[10,20,30,40,50,60];\n",
    "print(x)\n",
    "x=x+[70,80,90,100]\n",
    "print(x)"
   ]
  },
  {
   "cell_type": "code",
   "execution_count": 16,
   "id": "93c2745e-adeb-4a43-813e-0ac6c4e7d4fb",
   "metadata": {},
   "outputs": [
    {
     "name": "stdout",
     "output_type": "stream",
     "text": [
      "[10, 20, 30, 40, 50, 60, 70, 80]\n",
      "[10, 20, 30, 40, 50, 60, 70, 80, [90, 100, 110, 120]]\n"
     ]
    }
   ],
   "source": [
    "#append function\n",
    "x=[10,20,30,40,50,60,70,80]\n",
    "print(x)\n",
    "x.append([90,100,110,120])\n",
    "print(x)"
   ]
  },
  {
   "cell_type": "code",
   "execution_count": 18,
   "id": "2e122bc1-d02d-436a-a7f3-ee0e8f79ad32",
   "metadata": {},
   "outputs": [
    {
     "name": "stdout",
     "output_type": "stream",
     "text": [
      "['bioinfo', 'biotech', 'molecular biology']\n",
      "['immunology', 'bacteriology']\n",
      "['immunology', 'bacteriology', ['cardiology', 'genetics']]\n"
     ]
    }
   ],
   "source": [
    "abc=[\"bioinfo\",\"biotech\",\"molecular biology\"];\n",
    "print(abc)\n",
    "abc=abc=[\"immunology\",\"bacteriology\"];\n",
    "print(abc)\n",
    "abc.append([\"cardiology\",\"genetics\"])\n",
    "print(abc)"
   ]
  },
  {
   "cell_type": "code",
   "execution_count": 40,
   "id": "3cf52085-b0fa-4de2-99c5-6b85143e0e68",
   "metadata": {},
   "outputs": [
    {
     "name": "stdout",
     "output_type": "stream",
     "text": [
      "[10, 20, 30, 40, [42, 43, 44, 45, 46], 50, 60, 70, 80, [81, 82, 83, 84, 85], 90, 100, 'biology', 200, 'covid']\n",
      "[10, 20, 30, [42, 43, 44, 45, 46], 50, 60, 70, 80, [81, 82, 83, 84, 85], 90, 100, 'biology', 200, 'covid']\n",
      "[10, 20, 30, 50, 60, 70, 80, [81, 82, 83, 84, 85], 90, 100, 'biology', 200, 'covid']\n",
      "[10, 20, 50, 60, 70, 80, [81, 82, 83, 84, 85], 90, 100, 'biology', 200, 'covid']\n",
      "[10, 20, 50, 60, 70, 80, [81, 82, 83, 84, 85], 90, 100, 200, 'covid']\n",
      "[10, 20, 50, 60, 70, 80, 90, 100, 200, 'covid']\n"
     ]
    }
   ],
   "source": [
    "#how to delete \n",
    "pqr=[10,20,30,40,[42,43,44,45,46],50,60,70,80,[81,82,83,84,85],90,100,\"biology\",200,\"covid\"]\n",
    "print(pqr)\n",
    "del pqr[3];\n",
    "print(pqr)\n",
    "del pqr[3]\n",
    "print(pqr)\n",
    "\n",
    "#difference betwenn delete and remove\n",
    "pqr.remove(30)\n",
    "print(pqr)\n",
    "pqr.remove(\"biology\")\n",
    "print(pqr)\n",
    "pqr.remove([81, 82, 83, 84, 85])\n",
    "print(pqr)"
   ]
  },
  {
   "cell_type": "code",
   "execution_count": 33,
   "id": "bc67fda4-259c-4476-8c85-d8dc9a4152b8",
   "metadata": {},
   "outputs": [
    {
     "name": "stdout",
     "output_type": "stream",
     "text": [
      "[10, 20, 30, 40, 50, 60, 70, 20, 80, 20, 20, 20, 90, 100]\n",
      "[10, 30, 40, 50, 60, 70, 20, 80, 20, 20, 20, 90, 100]\n"
     ]
    }
   ],
   "source": [
    "pqr=[10,20,30,40,50,60,70,20,80,20,20,20,90,100]\n",
    "print(pqr)\n",
    "pqr.remove(20) #we have multiple 20 in the list but remove fucntion will only remove the first 20 not all \n",
    "print(pqr) \n",
    "#only first 20 will be removed. it will remove only the first occurence. if you want to remove all the 20s then we need to apply for loop"
   ]
  },
  {
   "cell_type": "code",
   "execution_count": 39,
   "id": "205b9f2c-276e-4976-95a7-440e11a33f50",
   "metadata": {},
   "outputs": [
    {
     "name": "stdout",
     "output_type": "stream",
     "text": [
      "[10, 20, 30, 40, 50, 60, 70, 80, 90]\n",
      "[10, 20, 30, 200, 40, 50, 60, 70, 80, 90]\n",
      "[10, 20, 30, 200, 40, [300, 400, 500], 50, 60, 70, 80, 90]\n"
     ]
    }
   ],
   "source": [
    "#how to insert\n",
    "xyz=[10,20,30,40,50,60,70,80,90]\n",
    "print(xyz)\n",
    "xyz.insert(3,200)\n",
    "print(xyz)\n",
    "xyz.insert(5,[300,400,500])\n",
    "print(xyz)"
   ]
  },
  {
   "cell_type": "code",
   "execution_count": 44,
   "id": "9ac9dfae-9a19-4c48-9c33-f8f1dfa1bbfb",
   "metadata": {},
   "outputs": [
    {
     "name": "stdout",
     "output_type": "stream",
     "text": [
      "[10, 20, [41, 42, 43, 44, 45], 30, 40, 50, 60, 70, 80]\n",
      "[10, 20, [42, 43, 44, 45], 30, 40, 50, 60, 70, 80]\n",
      "[10, 20, [42, 43, 45], 30, 40, 50, 60, 70, 80]\n"
     ]
    }
   ],
   "source": [
    "x1=[10,20,[41,42,43,44,45],30,40,50,60,70,80]\n",
    "print(x1)\n",
    "del x1[2][0]\n",
    "print(x1)\n",
    "x1[2].remove(44)\n",
    "print(x1)"
   ]
  },
  {
   "cell_type": "code",
   "execution_count": 45,
   "id": "dfbf380c-1d0d-4568-9dd1-681c0d7f89ee",
   "metadata": {},
   "outputs": [
    {
     "name": "stdout",
     "output_type": "stream",
     "text": [
      "[1, 2, 3, 4, 5, 6, 7, 8, 9, 10]\n"
     ]
    }
   ],
   "source": [
    "x=[1,2,3,4,5]\n",
    "x.extend([6,7,8,9,10])\n",
    "print(x)"
   ]
  },
  {
   "cell_type": "code",
   "execution_count": 46,
   "id": "89bcf090-c03e-49bf-a980-70e9657252f8",
   "metadata": {},
   "outputs": [
    {
     "name": "stdout",
     "output_type": "stream",
     "text": [
      "[1, 2, 3, 4, 5, 6]\n"
     ]
    }
   ],
   "source": [
    "x=[1,2,3]\n",
    "y=[4,5,6]\n",
    "z=x+y\n",
    "print(z)"
   ]
  },
  {
   "cell_type": "code",
   "execution_count": 57,
   "id": "23814c7d-559e-40ac-8d37-56a55564e625",
   "metadata": {},
   "outputs": [
    {
     "name": "stdout",
     "output_type": "stream",
     "text": [
      "[10, 20, 30, 40, 50, 'gunjan', 'milind', 'random', 'names', 60, 80, 90]\n",
      "True\n",
      "True\n",
      "False\n",
      "False\n",
      "True\n",
      "6\n"
     ]
    }
   ],
   "source": [
    "#\"in\" and \"not in\": for checking the membership\n",
    "abc=[10,20,30,40,50,\"gunjan\",\"milind\",\"random\",\"names\",60,80,90]\n",
    "print(abc)\n",
    "print(\"gunjan\" in abc)\n",
    "print(30 in abc)\n",
    "print(\"naina\" in abc)\n",
    "print(\"gunjan\" not in abc)\n",
    "print(\"milind\" in abc)\n",
    "\n",
    "print(abc.index(\"milind\"));"
   ]
  },
  {
   "cell_type": "code",
   "execution_count": 66,
   "id": "52f2e363-a3e5-4d0a-87df-f49371d77e0b",
   "metadata": {},
   "outputs": [
    {
     "name": "stdout",
     "output_type": "stream",
     "text": [
      "[10, 20, 30, 40, 50, 10, 20, 30, 40, 50]\n",
      "[]\n",
      "[10, 20, 30, 40, 50, 10, 20, 30, 40, 50, 10, 20, 30, 40, 50, 10, 20, 30, 40, 50]\n",
      "90\n",
      "[30, 30]\n"
     ]
    }
   ],
   "source": [
    "#repeat elements using * operator\n",
    "pqr=[10,20,30,40,50]\n",
    "print(pqr*2)\n",
    "print(pqr*0)\n",
    "print(pqr*4)\n",
    "print(pqr[2]*3)\n",
    "print([pqr[2]]*2)\n"
   ]
  },
  {
   "cell_type": "code",
   "execution_count": 75,
   "id": "05a1d989-526d-4c69-a750-3261a29280da",
   "metadata": {},
   "outputs": [
    {
     "name": "stdout",
     "output_type": "stream",
     "text": [
      "[120, 2, 1400, 1800, 7, 16, 1200, 2400, 3400, 23, 43, 12, 2344]\n",
      "13\n",
      "3400\n",
      "2\n",
      "1800\n",
      "16\n",
      "3400\n",
      "23\n"
     ]
    }
   ],
   "source": [
    "pqr=[120,2,1400,1800,7,16,1200,2400,3400,23,43,12,2344]\n",
    "print(pqr)\n",
    "print(len(pqr))\n",
    "print(max(pqr))\n",
    "print(min(pqr))\n",
    "print(max(pqr[0:5]))\n",
    "print(min(pqr[5:9]))\n",
    "print(max(pqr[6:-1]))\n",
    "print(min(pqr[-6:-2]))"
   ]
  },
  {
   "cell_type": "code",
   "execution_count": 79,
   "id": "1a81e584-1d44-4f29-b451-8eb093236ca3",
   "metadata": {},
   "outputs": [
    {
     "name": "stdout",
     "output_type": "stream",
     "text": [
      "[2, 3, 7, 16, 27, 80, 120, 1200, 1400, 1800, 2400, 5600]\n",
      "[5600, 2400, 1800, 1400, 1200, 120, 80, 27, 16, 7, 3, 2]\n"
     ]
    }
   ],
   "source": [
    "#sorting in ascending and descending order\n",
    "pqr=[120,2,1400,1800,7,16,1200,2400,5600,80,27,3,]\n",
    "print(sorted(pqr)); #ascending\n",
    "print(sorted(pqr, reverse=True)) #descending"
   ]
  },
  {
   "cell_type": "code",
   "execution_count": 82,
   "id": "7c055de6-9382-4095-951b-6b296cbacf79",
   "metadata": {},
   "outputs": [
    {
     "name": "stdout",
     "output_type": "stream",
     "text": [
      "[20, 30, 40, 50, 60, 70, 80, 90, 20, 120, 130, 140, 20]\n"
     ]
    },
    {
     "data": {
      "text/plain": [
       "3"
      ]
     },
     "execution_count": 82,
     "metadata": {},
     "output_type": "execute_result"
    }
   ],
   "source": [
    "abc=[20,30,40,50,60,70,80,90,20,120,130,140,20]\n",
    "print(abc)\n",
    "abc.count(20)"
   ]
  },
  {
   "cell_type": "code",
   "execution_count": 93,
   "id": "5fee6855-629a-4288-8d67-df6517e4c5c5",
   "metadata": {},
   "outputs": [
    {
     "name": "stdout",
     "output_type": "stream",
     "text": [
      "The number of A in : 23\n",
      "The number of G in : 35\n",
      "The number of C in : 21\n",
      "The number of T in : 22\n",
      "length of the gene is: 101 bp\n",
      "The GC% is : 55.44554455445545\n",
      "The AT% is : 44.55445544554455\n",
      "Molecualr weight of the gene is: 31508.37 daltons\n"
     ]
    }
   ],
   "source": [
    "xyz=\"ATCGATGCATGCGTACGTGACTGATCGTAGCTGTAGCGATGCGATGCAGGTACAATGCCGTAGCGTAGCGATGACGTGACGTGAGCGTAGCGATGCGATGC\"\n",
    "print(\"The number of A in :\",xyz.count(\"A\"))\n",
    "print(\"The number of G in :\",xyz.count(\"G\"))\n",
    "print(\"The number of C in :\",xyz.count(\"C\"))\n",
    "print(\"The number of T in :\",xyz.count(\"T\"))\n",
    "\n",
    "tot=xyz.count(\"A\")+xyz.count(\"T\")+xyz.count(\"G\")+xyz.count(\"C\");\n",
    "print(\"length of the gene is:\", tot, \"bp\")\n",
    "gc=xyz.count(\"G\")+xyz.count(\"C\")\n",
    "at=xyz.count(\"A\")+xyz.count(\"T\")\n",
    "gcp=(gc/tot)*100\n",
    "atp=100-gcp\n",
    "print(\"The GC% is :\", gcp);\n",
    "print(\"The AT% is :\", atp);\n",
    "mw=xyz.count(\"G\")*329.21 + xyz.count(\"A\")*313.21+xyz.count(\"T\")*304.2+xyz.count(\"C\")*289.18 + 17.01\n",
    "print(\"Molecualr weight of the gene is:\", round(mw,2), \"daltons\")"
   ]
  },
  {
   "cell_type": "code",
   "execution_count": null,
   "id": "66e6a181-c4f6-4933-b3ca-a004957c77ad",
   "metadata": {},
   "outputs": [],
   "source": []
  },
  {
   "cell_type": "code",
   "execution_count": null,
   "id": "ebdba63f-f8c5-41f0-b989-80d9f990cf29",
   "metadata": {},
   "outputs": [],
   "source": []
  }
 ],
 "metadata": {
  "kernelspec": {
   "display_name": "Python 3 (ipykernel)",
   "language": "python",
   "name": "python3"
  },
  "language_info": {
   "codemirror_mode": {
    "name": "ipython",
    "version": 3
   },
   "file_extension": ".py",
   "mimetype": "text/x-python",
   "name": "python",
   "nbconvert_exporter": "python",
   "pygments_lexer": "ipython3",
   "version": "3.12.6"
  }
 },
 "nbformat": 4,
 "nbformat_minor": 5
}
