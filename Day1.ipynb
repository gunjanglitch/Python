{
 "cells": [
  {
   "cell_type": "code",
   "execution_count": 1,
   "id": "1cf79d78-666e-4526-85e2-b6345e6db9fd",
   "metadata": {},
   "outputs": [
    {
     "name": "stdout",
     "output_type": "stream",
     "text": [
      "10\n"
     ]
    }
   ],
   "source": [
    "x=10\n",
    "print(x)"
   ]
  },
  {
   "cell_type": "code",
   "execution_count": 3,
   "id": "7be43517-7fb2-4008-b03b-e9995d498398",
   "metadata": {},
   "outputs": [
    {
     "name": "stdout",
     "output_type": "stream",
     "text": [
      "10\n",
      "20\n",
      "30\n"
     ]
    }
   ],
   "source": [
    "a=10;\n",
    "b=20;\n",
    "c=a+b;\n",
    "print(a);\n",
    "print(b);\n",
    "print(c);"
   ]
  },
  {
   "cell_type": "code",
   "execution_count": 5,
   "id": "41dac860-fb44-4fc3-8f38-352abbacfbc3",
   "metadata": {},
   "outputs": [
    {
     "name": "stdout",
     "output_type": "stream",
     "text": [
      "10\n"
     ]
    }
   ],
   "source": [
    "#multiple statements we can assign on a single line by giving semicolon(;) at the end of every statement\n",
    "x=10;print(x)"
   ]
  },
  {
   "cell_type": "code",
   "execution_count": 6,
   "id": "17f70934-bc68-4f79-bcd7-49c743fd7f10",
   "metadata": {},
   "outputs": [
    {
     "name": "stdout",
     "output_type": "stream",
     "text": [
      "15\n",
      "18\n"
     ]
    }
   ],
   "source": [
    "x=15; print(x); x=x+3; print(x)"
   ]
  },
  {
   "cell_type": "code",
   "execution_count": 10,
   "id": "c19a189a-5e86-473b-aa7a-208af0a9074c",
   "metadata": {},
   "outputs": [
    {
     "name": "stdout",
     "output_type": "stream",
     "text": [
      "20\n",
      "20\n"
     ]
    }
   ],
   "source": [
    "#multiple assignment\n",
    "x=y=z=abc=pqr=20\n",
    "print(x)\n",
    "print(abc)"
   ]
  },
  {
   "cell_type": "code",
   "execution_count": 11,
   "id": "c7c82e9a-15b9-4dc2-87f8-8ab24b2c3593",
   "metadata": {},
   "outputs": [
    {
     "name": "stdout",
     "output_type": "stream",
     "text": [
      "66\n",
      "55\n"
     ]
    }
   ],
   "source": [
    "x,y,z,lmn=35,45,55,66\n",
    "print(lmn)\n",
    "print(z)"
   ]
  },
  {
   "cell_type": "code",
   "execution_count": 22,
   "id": "830b0790-820b-421b-818a-dfaff278b04e",
   "metadata": {},
   "outputs": [
    {
     "name": "stdout",
     "output_type": "stream",
     "text": [
      "40\n",
      "30\n"
     ]
    }
   ],
   "source": [
    "#swapping variables without any temporary a variable\n",
    "a=40\n",
    "b=30\n",
    "a,b=b,a\n",
    "print(b)\n",
    "print(a)"
   ]
  },
  {
   "cell_type": "code",
   "execution_count": 23,
   "id": "36e1ae9b-d2b8-4e1f-a174-09244bb27758",
   "metadata": {},
   "outputs": [
    {
     "ename": "SyntaxError",
     "evalue": "invalid syntax (2116665299.py, line 3)",
     "output_type": "error",
     "traceback": [
      "\u001b[1;36m  Cell \u001b[1;32mIn[23], line 3\u001b[1;36m\u001b[0m\n\u001b[1;33m    ); x=x+\u001b[0m\n\u001b[1;37m           ^\u001b[0m\n\u001b[1;31mSyntaxError\u001b[0m\u001b[1;31m:\u001b[0m invalid syntax\n"
     ]
    }
   ],
   "source": [
    "#here python is not able to understand what is happening when the lines end etc\n",
    "x=20; print(x\n",
    "); x=x+\n",
    "5; print(x);"
   ]
  },
  {
   "cell_type": "code",
   "execution_count": 24,
   "id": "5a69da76-3a3e-47f1-a9ca-2bfe52c15cd2",
   "metadata": {},
   "outputs": [
    {
     "name": "stdout",
     "output_type": "stream",
     "text": [
      "20\n",
      "25\n"
     ]
    }
   ],
   "source": [
    "#spliting the statements into different lines by giving space and backslash as a continuation\n",
    "#but here after putting backslash(\\), python can understand that there is something in next line \n",
    "x=20; print(x \\\n",
    "); x=x+ \\\n",
    "5; print(x);"
   ]
  },
  {
   "cell_type": "code",
   "execution_count": 26,
   "id": "b76d2c11-a94d-4c3f-b610-d372a9fc8043",
   "metadata": {},
   "outputs": [
    {
     "name": "stdout",
     "output_type": "stream",
     "text": [
      "10\n",
      "biotech\n",
      "10 bioinfo\n",
      "(2, 3)\n"
     ]
    }
   ],
   "source": [
    "#single valued variable\n",
    "x=10\n",
    "y=\"bioinfo\"\n",
    "abc=\"biotech\"\n",
    "print(x)\n",
    "print(abc)\n",
    "print(x,y)\n",
    "a=2,3\n",
    "print(a)"
   ]
  },
  {
   "cell_type": "code",
   "execution_count": 30,
   "id": "1947f3fc-fd51-4021-a991-81da7ac1ca41",
   "metadata": {},
   "outputs": [
    {
     "name": "stdout",
     "output_type": "stream",
     "text": [
      "[10, 20, 30, 40, 2.4, 5.6, 'bio', 'biohack', 'bioinfo', 70, 80, 90, 120, True, 'False']\n"
     ]
    }
   ],
   "source": [
    "#list variable\n",
    "a=[10,20,30,40,2.4,5.6, \"bio\",\"biohack\", \"bioinfo\", 70,80,90,120, True, \"False\"] #list of mixed data types\n",
    "print(a)"
   ]
  },
  {
   "cell_type": "code",
   "execution_count": 31,
   "id": "3a6d7dc3-654c-4a7e-9ee0-897b3bc6f3c6",
   "metadata": {},
   "outputs": [
    {
     "data": {
      "text/plain": [
       "[12, 13, 14, 15, 16, 17, 18]"
      ]
     },
     "execution_count": 31,
     "metadata": {},
     "output_type": "execute_result"
    }
   ],
   "source": [
    "abc=[12,13,14,15,16,17,18]\n",
    "abc"
   ]
  },
  {
   "cell_type": "code",
   "execution_count": 42,
   "id": "ff5df3a2-4a82-42b6-b959-3b6cb05ede80",
   "metadata": {},
   "outputs": [
    {
     "name": "stdout",
     "output_type": "stream",
     "text": [
      "12\n",
      "14\n",
      "[15, 16, 17, 18]\n",
      "[12, 13, 14, 15, 16, 17, 18]\n",
      "[14, 15, 16, 17, 18, 20, 21, 22, 23, 24, 25, 26, 27, 28]\n",
      "28\n",
      "27\n"
     ]
    }
   ],
   "source": [
    "#how to fetch elements from a list\n",
    "abc=[12,13,14,15,16,17,18,20,21,22,23,24,25,26,27,28]\n",
    "print(abc[0])\n",
    "print(abc[2])\n",
    "print(abc[3:7]) #start index: end index - 1th index\n",
    "print(abc[:7]) #start from zero index - 0th index to 7-1 index\n",
    "print(abc[2:]) #from 2nd index to last\n",
    "print(abc[-1]) #last index\n",
    "print(abc[-2]) #second last index"
   ]
  },
  {
   "cell_type": "code",
   "execution_count": 47,
   "id": "139b15b6-f08a-4b6b-8942-f52ac58ed9db",
   "metadata": {},
   "outputs": [
    {
     "name": "stdout",
     "output_type": "stream",
     "text": [
      "[21, 22, 23, [41, 42, True, 43, [44, 45, 46, 47]], 24, 25, 'biology', 26, 27, [51, 52, 53, 54, 55], 60, 23, 4, 70, 80]\n",
      "24\n",
      "[44, 45, 46, 47]\n"
     ]
    }
   ],
   "source": [
    "pqr=[21,22,23,[41,42,True,43,[44,45,46,47]],24,25,\"biology\",26,27,[51,52,53,54,55], 60,23,4,70,80]\n",
    "print(pqr)\n",
    "print(pqr[4])\n",
    "print(pqr[3][4])"
   ]
  },
  {
   "cell_type": "code",
   "execution_count": null,
   "id": "d82dd7a8-0c62-49b4-9e9d-bdd743a25b2e",
   "metadata": {},
   "outputs": [],
   "source": []
  },
  {
   "cell_type": "code",
   "execution_count": null,
   "id": "99ae48e0-8072-4def-8fe7-f75fb6a3017d",
   "metadata": {},
   "outputs": [],
   "source": []
  },
  {
   "cell_type": "code",
   "execution_count": null,
   "id": "d0012db7-bec4-4601-84da-22c0a805154b",
   "metadata": {},
   "outputs": [],
   "source": []
  },
  {
   "cell_type": "code",
   "execution_count": null,
   "id": "cfa0b802-0cb9-4079-9265-5d3bb07aef5f",
   "metadata": {},
   "outputs": [],
   "source": []
  },
  {
   "cell_type": "code",
   "execution_count": null,
   "id": "98c3e5af-0b1a-4162-bce3-8ac92a4cfa75",
   "metadata": {},
   "outputs": [],
   "source": []
  },
  {
   "cell_type": "code",
   "execution_count": null,
   "id": "7f3f4eed-6398-427f-b523-d9f91f4f27a9",
   "metadata": {},
   "outputs": [],
   "source": []
  },
  {
   "cell_type": "code",
   "execution_count": null,
   "id": "266049d1-75da-4c45-9f1d-6e3ec3687f66",
   "metadata": {},
   "outputs": [],
   "source": []
  },
  {
   "cell_type": "code",
   "execution_count": null,
   "id": "e8b7c1f8-e861-49ed-a2c9-ce6d84aac040",
   "metadata": {},
   "outputs": [],
   "source": []
  },
  {
   "cell_type": "code",
   "execution_count": null,
   "id": "3eeb877f-d954-4a4f-9383-574eed03e361",
   "metadata": {},
   "outputs": [],
   "source": []
  }
 ],
 "metadata": {
  "kernelspec": {
   "display_name": "Python 3 (ipykernel)",
   "language": "python",
   "name": "python3"
  },
  "language_info": {
   "codemirror_mode": {
    "name": "ipython",
    "version": 3
   },
   "file_extension": ".py",
   "mimetype": "text/x-python",
   "name": "python",
   "nbconvert_exporter": "python",
   "pygments_lexer": "ipython3",
   "version": "3.12.6"
  }
 },
 "nbformat": 4,
 "nbformat_minor": 5
}
