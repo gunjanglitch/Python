{
 "cells": [
  {
   "cell_type": "code",
   "execution_count": 1,
   "id": "91cc0adb-5fee-472f-8f93-f1add8409240",
   "metadata": {},
   "outputs": [],
   "source": [
    "#######################\n",
    "#regular expression\n",
    "#the main purpose is for pattern searching\n",
    "#string searching\n",
    "####################\n",
    "\n",
    "#re is the module fro regular expression\n",
    "#import re\n",
    "\n",
    "#3 types of regular expression\n",
    "#matching\n",
    "#we use this with function re.match()\n",
    "#match fucntion will always search only from begining of string\n",
    "#re.match(pattern, string)\n",
    "#re.match(\"new\", \"new delhi\")\n",
    "#if match found, them it will return list of regualr expression object else it return none\n",
    "\n",
    "#searching\n",
    "#search fucntion\n",
    "#search function is used to serach a pattern from anywhere in the string\n",
    "#suppose you are searching for a pattern and if it present multiple times\n",
    "#then it will return only the first occurence\n",
    "#re.search(pattern, string)\n",
    "#if match found, it returns only the matched regular expression object else it return none\n",
    "\n",
    "#findall function\n",
    "#it behaves like search function\n",
    "#it will return a list of all the matched pattern from your string\n",
    "#re.findall(pattern, string)\n",
    "\n",
    "\n",
    "#substitution\n",
    "#re.sub(pattern,replace,string)\n",
    "#re.sub('T','U','ATCGAATCGAATGCATGACGATTCAGAT')"
   ]
  },
  {
   "cell_type": "code",
   "execution_count": 3,
   "id": "03878a55-1111-4078-b6fc-20661f86d086",
   "metadata": {},
   "outputs": [
    {
     "name": "stdout",
     "output_type": "stream",
     "text": [
      "<re.Match object; span=(0, 3), match='bio'>\n"
     ]
    }
   ],
   "source": [
    "import re\n",
    "abc=\"biotechnology\"\n",
    "pqr=\"bio\"\n",
    "xyz=re.match(pqr,abc)\n",
    "print(xyz) #match found so it return the regular expression object"
   ]
  },
  {
   "cell_type": "code",
   "execution_count": 4,
   "id": "9ccb8221-0946-4a3c-b922-ad23936c684c",
   "metadata": {},
   "outputs": [
    {
     "name": "stdout",
     "output_type": "stream",
     "text": [
      "None\n"
     ]
    }
   ],
   "source": [
    "abc=\"biotechnology\"\n",
    "pqr=\"tech\"\n",
    "xyz=re.match(pqr,abc)\n",
    "print(xyz) #no match found so it returns none because tech is not present in the begining of the string"
   ]
  },
  {
   "cell_type": "code",
   "execution_count": 15,
   "id": "8b4d0ad6-e57a-4aa2-b0c3-5b92f897a801",
   "metadata": {},
   "outputs": [
    {
     "name": "stdout",
     "output_type": "stream",
     "text": [
      "bio\n"
     ]
    }
   ],
   "source": [
    "abc=\"biotechnology\"\n",
    "pqr=\"bio\"\n",
    "xyz=re.match(pqr,abc)\n",
    "print(xyz.group()) #group fucntion is for printing the entire matched string rather printing the regualr expression object"
   ]
  },
  {
   "cell_type": "code",
   "execution_count": 16,
   "id": "3c9266e6-6c07-4a7f-aa73-5483fe3e5ad7",
   "metadata": {},
   "outputs": [
    {
     "name": "stdout",
     "output_type": "stream",
     "text": [
      "<re.Match object; span=(11, 14), match='bio'>\n"
     ]
    }
   ],
   "source": [
    "abc=\"technology bio tech bio info bio chemistry bio informatics bio medical bio ology\"\n",
    "pqr=\"bio\"\n",
    "xyz=re.search(pqr,abc)\n",
    "print(xyz) #search will return only the first occurence"
   ]
  },
  {
   "cell_type": "code",
   "execution_count": 17,
   "id": "31e9465c-a7c7-48f3-8a7f-646f4a24fe66",
   "metadata": {},
   "outputs": [
    {
     "name": "stdout",
     "output_type": "stream",
     "text": [
      "['bio', 'bio', 'bio', 'bio', 'bio', 'bio']\n"
     ]
    }
   ],
   "source": [
    "abc=\"technology bio tech bio info bio chemistry bio informatics bio medical bio ology\"\n",
    "pqr=\"bio\"\n",
    "xyz=re.findall(pqr,abc)\n",
    "print(xyz) #find all will return a list of all matched string"
   ]
  },
  {
   "cell_type": "code",
   "execution_count": null,
   "id": "f28b8e02-6f55-4d95-8d42-71ea704c2b81",
   "metadata": {},
   "outputs": [],
   "source": [
    "#in python regualr exprssion is same like regular expression in perl\n",
    "#\\d: digit - [0-9]\n",
    "#\\d : non digits\n",
    "#\\w : Alpha numerics A-Z a-z 0-9\n",
    "#\\W : non aplha numerics\n",
    "#\\n : new lien\n",
    "#\\t : tab\n",
    "#\\s: space/tab/new line\n",
    "# . : anything except new line\n",
    "#? : at most one match i.e. 0 or 1 match\n",
    "#* : 0 or more than 1 match\n",
    "#{n} : n matches\n",
    "#{n,m}: n match to m match{4,8}\n",
    "#{n,} : n or more matches {3,}\n",
    "#{,m}: at max m match {,12}\n",
    "\n",
    "\n",
    "#grouping\n",
    "#[AEIOU] : A or E or I or O or U\n",
    "#[^ AEIOU]: other than A or E or I or O or U\n",
    "\n",
    "\n",
    "#^ : use for serach from the begining\n",
    "# $: search from the end"
   ]
  },
  {
   "cell_type": "code",
   "execution_count": 19,
   "id": "6307e813-9a03-4fa2-9c0c-d0e78261973a",
   "metadata": {},
   "outputs": [
    {
     "name": "stdout",
     "output_type": "stream",
     "text": [
      "<re.Match object; span=(3, 7), match='tech'>\n"
     ]
    }
   ],
   "source": [
    "abc=\"biotech\"\n",
    "pqr=\"tech\"\n",
    "xyz=re.search(pqr,abc)\n",
    "print(xyz)"
   ]
  },
  {
   "cell_type": "code",
   "execution_count": 22,
   "id": "fca82599-a284-4a26-9aa9-68fbe89d2561",
   "metadata": {},
   "outputs": [
    {
     "name": "stdout",
     "output_type": "stream",
     "text": [
      "tech\n"
     ]
    }
   ],
   "source": [
    "abc=\"biotech\"\n",
    "pqr=\"tech\"\n",
    "xyz=re.search(pqr,abc)\n",
    "print(xyz.group())"
   ]
  },
  {
   "cell_type": "code",
   "execution_count": 23,
   "id": "5aa7ca07-d9f3-4a01-bffd-772816dd5ddf",
   "metadata": {},
   "outputs": [
    {
     "name": "stdout",
     "output_type": "stream",
     "text": [
      "matched pattern is tech\n"
     ]
    }
   ],
   "source": [
    "abc=\"biotech\"\n",
    "pqr=\"tech\"\n",
    "xyz=re.search(pqr,abc)\n",
    "if(xyz):\n",
    "    print(\"matched pattern is\", xyz.group())\n",
    "else:\n",
    "    print(\"no match found\")"
   ]
  },
  {
   "cell_type": "code",
   "execution_count": 24,
   "id": "547b1f28-2b6f-4029-9365-298c3a99107b",
   "metadata": {},
   "outputs": [
    {
     "name": "stdout",
     "output_type": "stream",
     "text": [
      "no match found\n"
     ]
    }
   ],
   "source": [
    "abc=\"biotech\"\n",
    "pqr=\"chemistry\"\n",
    "xyz=re.search(pqr,abc)\n",
    "if(xyz):\n",
    "    print(\"matched pattern is\", xyz.group())\n",
    "else:\n",
    "    print(\"no match found\")"
   ]
  },
  {
   "cell_type": "code",
   "execution_count": 25,
   "id": "92322d00-b1a6-40bb-9119-b91252652ef1",
   "metadata": {},
   "outputs": [
    {
     "name": "stdout",
     "output_type": "stream",
     "text": [
      "vid19\n"
     ]
    }
   ],
   "source": [
    "abc=\"covid19\"\n",
    "pqr=\"vid19\"\n",
    "xyz=re.search(pqr,abc)\n",
    "if(xyz):\n",
    "    print(xyz.group())\n",
    "else:\n",
    "    print(\"no match found\")"
   ]
  },
  {
   "cell_type": "code",
   "execution_count": 28,
   "id": "183b6f04-d635-4125-ac73-1ed6f4a2aef3",
   "metadata": {},
   "outputs": [
    {
     "name": "stdout",
     "output_type": "stream",
     "text": [
      "RNASEQ\n"
     ]
    }
   ],
   "source": [
    "abc=\"RNASEQ\"\n",
    "pqr=\"[ABCDERFGHI]NASEQ\" #here we know NASEQ is there but we dont know what is before N is there so we ill put all the possible letter in square bracket\n",
    "xyz=re.search(pqr,abc)\n",
    "if(xyz):\n",
    "    print(xyz.group())\n",
    "else:\n",
    "    print(\"no match found\")"
   ]
  },
  {
   "cell_type": "code",
   "execution_count": 29,
   "id": "dbc476a4-3d75-407a-8301-8a7cc71a421c",
   "metadata": {},
   "outputs": [
    {
     "name": "stdout",
     "output_type": "stream",
     "text": [
      "no match found\n"
     ]
    }
   ],
   "source": [
    "abc=\"RNASEQ\"\n",
    "pqr=\"[ABCDEFGHI]NASEQ\" \n",
    "xyz=re.search(pqr,abc)\n",
    "if(xyz):\n",
    "    print(xyz.group())\n",
    "else:\n",
    "    print(\"no match found\")"
   ]
  },
  {
   "cell_type": "code",
   "execution_count": 31,
   "id": "d572a863-5401-4d4e-a725-82ee7349c307",
   "metadata": {},
   "outputs": [
    {
     "name": "stdout",
     "output_type": "stream",
     "text": [
      "RNASEQ\n"
     ]
    }
   ],
   "source": [
    "abc=\"RNASEQ\"\n",
    "pqr=\"[^ABCD]NASEQ\" #when we put cap symbol it shows that other than these letter check all the letter\n",
    "xyz=re.search(pqr,abc)\n",
    "if(xyz):\n",
    "    print(xyz.group())\n",
    "else:\n",
    "    print(\"no match found\")"
   ]
  },
  {
   "cell_type": "code",
   "execution_count": 32,
   "id": "e1c97979-1a4d-4974-88b0-98bb625ca9ab",
   "metadata": {},
   "outputs": [
    {
     "name": "stdout",
     "output_type": "stream",
     "text": [
      "no match found\n"
     ]
    }
   ],
   "source": [
    "abc=\"RNASEQ\"\n",
    "pqr=\"[^ABCRD]NASEQ\" \n",
    "xyz=re.search(pqr,abc)\n",
    "if(xyz):\n",
    "    print(xyz.group())\n",
    "else:\n",
    "    print(\"no match found\")"
   ]
  },
  {
   "cell_type": "code",
   "execution_count": 41,
   "id": "41a84e66-d275-4fae-b410-13cdfccb82fe",
   "metadata": {},
   "outputs": [
    {
     "name": "stdout",
     "output_type": "stream",
     "text": [
      "7RGH\n"
     ]
    },
    {
     "name": "stderr",
     "output_type": "stream",
     "text": [
      "<>:2: SyntaxWarning: invalid escape sequence '\\d'\n",
      "<>:2: SyntaxWarning: invalid escape sequence '\\d'\n",
      "C:\\Users\\sarod\\AppData\\Local\\Temp\\ipykernel_5704\\864523038.py:2: SyntaxWarning: invalid escape sequence '\\d'\n",
      "  pqr=\"\\dRGH\"\n"
     ]
    }
   ],
   "source": [
    "abc=\"7RGH\"\n",
    "pqr=\"\\dRGH\" #\\d for digits\n",
    "xyz=re.search(pqr,abc)\n",
    "if(xyz):\n",
    "    print(xyz.group())\n",
    "else:\n",
    "    print(\"no match found\")"
   ]
  },
  {
   "cell_type": "code",
   "execution_count": 43,
   "id": "c4224c8c-b008-4cab-85b3-f97c861ecb2f",
   "metadata": {},
   "outputs": [
    {
     "name": "stdout",
     "output_type": "stream",
     "text": [
      "7RGH\n"
     ]
    },
    {
     "name": "stderr",
     "output_type": "stream",
     "text": [
      "<>:2: SyntaxWarning: invalid escape sequence '\\w'\n",
      "<>:2: SyntaxWarning: invalid escape sequence '\\w'\n",
      "C:\\Users\\sarod\\AppData\\Local\\Temp\\ipykernel_5704\\3708492527.py:2: SyntaxWarning: invalid escape sequence '\\w'\n",
      "  pqr=\"\\wRGH\" #\\w for aplha numeric\n"
     ]
    }
   ],
   "source": [
    "abc=\"7RGH\"\n",
    "pqr=\"\\wRGH\" #\\w for aplha numeric\n",
    "xyz=re.search(pqr,abc)\n",
    "if(xyz):\n",
    "    print(xyz.group())\n",
    "else:\n",
    "    print(\"no match found\")"
   ]
  },
  {
   "cell_type": "code",
   "execution_count": 45,
   "id": "7a15b1df-b396-4be5-8e3c-e2f9c6f706b3",
   "metadata": {},
   "outputs": [
    {
     "name": "stdout",
     "output_type": "stream",
     "text": [
      "@RGH\n"
     ]
    }
   ],
   "source": [
    "abc=\"@RGH\"\n",
    "pqr=\".RGH\" #dot for sign and symbol\n",
    "xyz=re.search(pqr,abc)\n",
    "if(xyz):\n",
    "    print(xyz.group())\n",
    "else:\n",
    "    print(\"no match found\")"
   ]
  },
  {
   "cell_type": "code",
   "execution_count": 47,
   "id": "639054ff-be8b-4627-8ee6-f48b61c929c4",
   "metadata": {},
   "outputs": [
    {
     "name": "stdout",
     "output_type": "stream",
     "text": [
      "R GH\n"
     ]
    },
    {
     "name": "stderr",
     "output_type": "stream",
     "text": [
      "<>:2: SyntaxWarning: invalid escape sequence '\\s'\n",
      "<>:2: SyntaxWarning: invalid escape sequence '\\s'\n",
      "C:\\Users\\sarod\\AppData\\Local\\Temp\\ipykernel_5704\\4144864962.py:2: SyntaxWarning: invalid escape sequence '\\s'\n",
      "  pqr=\"R\\sGH\"\n"
     ]
    }
   ],
   "source": [
    "abc=\"R GH\"\n",
    "pqr=\"R\\sGH\"\n",
    "xyz=re.search(pqr,abc)\n",
    "if(xyz):\n",
    "    print(xyz.group())\n",
    "else:\n",
    "    print(\"no match found\")"
   ]
  },
  {
   "cell_type": "code",
   "execution_count": 48,
   "id": "cb913f48-2eb5-43d2-a790-7fadb4c877df",
   "metadata": {},
   "outputs": [
    {
     "name": "stdout",
     "output_type": "stream",
     "text": [
      "RGGGGGGGGGGGGGGGGH\n"
     ]
    }
   ],
   "source": [
    "abc=\"RGGGGGGGGGGGGGGGGH\"\n",
    "pqr=\"RG*H\"\n",
    "xyz=re.search(pqr,abc)\n",
    "if(xyz):\n",
    "    print(xyz.group())\n",
    "else:\n",
    "    print(\"no match found\")"
   ]
  },
  {
   "cell_type": "code",
   "execution_count": 49,
   "id": "50b9df43-e121-478d-bdf4-bc56f1cfb9ee",
   "metadata": {},
   "outputs": [
    {
     "name": "stdout",
     "output_type": "stream",
     "text": [
      "RGGGGGGGGGGGGGGGGH\n"
     ]
    }
   ],
   "source": [
    "abc=\"RGGGGGGGGGGGGGGGGH\"\n",
    "pqr=\"RG+H\"\n",
    "xyz=re.search(pqr,abc)\n",
    "if(xyz):\n",
    "    print(xyz.group())\n",
    "else:\n",
    "    print(\"no match found\")"
   ]
  },
  {
   "cell_type": "code",
   "execution_count": 50,
   "id": "65b8cbcb-3d08-4c8e-89e5-9986ce92e0b8",
   "metadata": {},
   "outputs": [
    {
     "name": "stdout",
     "output_type": "stream",
     "text": [
      "no match found\n"
     ]
    }
   ],
   "source": [
    "abc=\"RGGGGGGGGGGGGGGGGH\"\n",
    "pqr=\"RG?H\"\n",
    "xyz=re.search(pqr,abc)\n",
    "if(xyz):\n",
    "    print(xyz.group())\n",
    "else:\n",
    "    print(\"no match found\")"
   ]
  },
  {
   "cell_type": "code",
   "execution_count": 51,
   "id": "891f9f41-8a69-46e4-acbd-81772a255c3a",
   "metadata": {},
   "outputs": [
    {
     "name": "stdout",
     "output_type": "stream",
     "text": [
      "RGH\n"
     ]
    }
   ],
   "source": [
    "abc=\"RGH\"\n",
    "pqr=\"RG?H\"\n",
    "xyz=re.search(pqr,abc)\n",
    "if(xyz):\n",
    "    print(xyz.group())\n",
    "else:\n",
    "    print(\"no match found\")"
   ]
  },
  {
   "cell_type": "code",
   "execution_count": 54,
   "id": "9646c60e-f2c3-4c45-ab56-fb05c9f60921",
   "metadata": {},
   "outputs": [
    {
     "name": "stdout",
     "output_type": "stream",
     "text": [
      "RGGGGGGGH\n"
     ]
    }
   ],
   "source": [
    "abc=\"RGGGGGGGH\"\n",
    "pqr=\"RG{7}H\"\n",
    "xyz=re.search(pqr,abc)\n",
    "if(xyz):\n",
    "    print(xyz.group())\n",
    "else:\n",
    "    print(\"no match found\")"
   ]
  },
  {
   "cell_type": "code",
   "execution_count": 55,
   "id": "72d320bf-5f51-4bb5-932f-fcf7f10c180e",
   "metadata": {},
   "outputs": [
    {
     "name": "stdout",
     "output_type": "stream",
     "text": [
      "no match found\n"
     ]
    }
   ],
   "source": [
    "abc=\"RGGGGGGGH\"\n",
    "pqr=\"RG{10}H\"\n",
    "xyz=re.search(pqr,abc)\n",
    "if(xyz):\n",
    "    print(xyz.group())\n",
    "else:\n",
    "    print(\"no match found\")"
   ]
  },
  {
   "cell_type": "code",
   "execution_count": 58,
   "id": "d133c1c9-54b2-4fe1-999d-3e51efd5fd9e",
   "metadata": {},
   "outputs": [
    {
     "name": "stdout",
     "output_type": "stream",
     "text": [
      "no match found\n"
     ]
    }
   ],
   "source": [
    "abc=\"RGGGGGGGGGGGGGGGGGGGGGGGGGH\"\n",
    "pqr=\"RG{3,12}H\"\n",
    "xyz=re.search(pqr,abc)\n",
    "if(xyz):\n",
    "    print(xyz.group())\n",
    "else:\n",
    "    print(\"no match found\")"
   ]
  },
  {
   "cell_type": "code",
   "execution_count": 57,
   "id": "6bff1aac-53d1-4334-b79c-15e6871db49a",
   "metadata": {},
   "outputs": [
    {
     "name": "stdout",
     "output_type": "stream",
     "text": [
      "RGGGGGGGH\n"
     ]
    }
   ],
   "source": [
    "abc=\"RGGGGGGGH\"\n",
    "pqr=\"RG{3,15}H\"\n",
    "xyz=re.search(pqr,abc)\n",
    "if(xyz):\n",
    "    print(xyz.group())\n",
    "else:\n",
    "    print(\"no match found\")"
   ]
  },
  {
   "cell_type": "code",
   "execution_count": 59,
   "id": "6cd46901-b52a-4cbf-83f1-2781a607c3ee",
   "metadata": {},
   "outputs": [
    {
     "name": "stdout",
     "output_type": "stream",
     "text": [
      "RGGGGGGGH\n"
     ]
    }
   ],
   "source": [
    "abc=\"RGGGGGGGH\"\n",
    "pqr=\"RG{,12}H\"\n",
    "xyz=re.search(pqr,abc)\n",
    "if(xyz):\n",
    "    print(xyz.group())\n",
    "else:\n",
    "    print(\"no match found\")"
   ]
  },
  {
   "cell_type": "code",
   "execution_count": 64,
   "id": "96516a78-56d5-47de-824f-0122cbc3b390",
   "metadata": {},
   "outputs": [
    {
     "name": "stdout",
     "output_type": "stream",
     "text": [
      "The password is: #Gun_jan123Biotech!@#$\n"
     ]
    },
    {
     "name": "stderr",
     "output_type": "stream",
     "text": [
      "<>:2: SyntaxWarning: invalid escape sequence '\\W'\n",
      "<>:2: SyntaxWarning: invalid escape sequence '\\W'\n",
      "C:\\Users\\sarod\\AppData\\Local\\Temp\\ipykernel_5704\\210454499.py:2: SyntaxWarning: invalid escape sequence '\\W'\n",
      "  pqr=\".*\\W*.*\\d*\\w.*\"\n"
     ]
    }
   ],
   "source": [
    "abc=\"#Gun_jan123Biotech!@#$\"\n",
    "pqr=\".*\\W*.*\\d*\\w.*\" \n",
    "xyz=re.search(pqr,abc)\n",
    "if(xyz):\n",
    "    print(\"The password is:\", xyz.group())\n",
    "else:\n",
    "    print(\"password couldnt find\")"
   ]
  },
  {
   "cell_type": "code",
   "execution_count": 66,
   "id": "6cecca99-ec42-48b5-888c-53272ba15080",
   "metadata": {},
   "outputs": [
    {
     "name": "stdout",
     "output_type": "stream",
     "text": [
      "R:\\embs\\Python\n"
     ]
    }
   ],
   "source": [
    "import os\n",
    "print(os.getcwd())"
   ]
  },
  {
   "cell_type": "code",
   "execution_count": 68,
   "id": "bc9acd76-89b5-4916-bb89-0380e5309fc9",
   "metadata": {},
   "outputs": [
    {
     "name": "stdout",
     "output_type": "stream",
     "text": [
      "<_io.TextIOWrapper name='brca1.gb' mode='r' encoding='cp1252'>\n"
     ]
    }
   ],
   "source": [
    "abc=open(\"brca1.gb\",\"r\")\n",
    "print(abc)"
   ]
  },
  {
   "cell_type": "code",
   "execution_count": 69,
   "id": "19de631a-2ab0-4976-aeb9-cd65e2314297",
   "metadata": {},
   "outputs": [
    {
     "name": "stdout",
     "output_type": "stream",
     "text": [
      "['LOCUS       NM_001407571            7152 bp    mRNA    linear   PRI 05-OCT-2024\\n', 'DEFINITION  Homo sapiens BRCA1 DNA repair associated (BRCA1), transcript\\n', '            variant 6, mRNA.\\n', 'ACCESSION   NM_001407571 NR_027676\\n', 'VERSION     NM_001407571.1\\n', 'KEYWORDS    RefSeq.\\n', 'SOURCE      Homo sapiens (human)\\n', '  ORGANISM  Homo sapiens\\n', '            Eukaryota; Metazoa; Chordata; Craniata; Vertebrata; Euteleostomi;\\n', '            Mammalia; Eutheria; Euarchontoglires; Primates; Haplorrhini;\\n', '            Catarrhini; Hominidae; Homo.\\n', 'REFERENCE   1  (bases 1 to 7152)\\n', '  AUTHORS   Orban,T.I. and Olah,E.\\n', '  TITLE     Emerging roles of BRCA1 alternative splicing\\n', '  JOURNAL   Mol Pathol 56 (4), 191-197 (2003)\\n', '   PUBMED   12890739\\n', '  REMARK    Review article\\n', 'REFERENCE   2  (bases 1 to 7152)\\n', '  AUTHORS   Orban,T.I. and Olah,E.\\n', '  TITLE     Expression profiles of BRCA1 splice variants in asynchronous and in\\n', '            G1/S synchronized tumor cell lines\\n', '  JOURNAL   Biochem Biophys Res Commun 280 (1), 32-38 (2001)\\n', '   PUBMED   11162473\\n', 'REFERENCE   3  (bases 1 to 7152)\\n', '  AUTHORS   Paterson,J.W.\\n', '  TITLE     BRCA1: a review of structure and putative functions\\n', '  JOURNAL   Dis Markers 13 (4), 261-274 (1998)\\n', '   PUBMED   9553742\\n', '  REMARK    Review article\\n', 'REFERENCE   4  (bases 1 to 7152)\\n', '  AUTHORS   Xu,C.F., Chambers,J.A., Nicolai,H., Brown,M.A., Hujeirat,Y.,\\n', '            Mohammed,S., Hodgson,S., Kelsell,D.P., Spurr,N.K., Bishop,D.T. and\\n', '            Solomon,E.\\n', '  TITLE     Mutations and alternative splicing of the BRCA1 gene in UK\\n', '            breast/ovarian cancer families\\n', '  JOURNAL   Genes Chromosomes Cancer 18 (2), 102-110 (1997)\\n', '   PUBMED   9115959\\n', 'REFERENCE   5  (bases 1 to 7152)\\n', '  AUTHORS   Wilson,C.A., Payton,M.N., Elliott,G.S., Buaas,F.W., Cajulis,E.E.,\\n', '            Grosshans,D., Ramos,L., Reese,D.M., Slamon,D.J. and Calzone,F.J.\\n', '  TITLE     Differential subcellular localization, expression and biological\\n', '            toxicity of BRCA1 and the splice variant BRCA1-delta11b\\n', '  JOURNAL   Oncogene 14 (1), 1-16 (1997)\\n', '   PUBMED   9010228\\n', 'REFERENCE   6  (bases 1 to 7152)\\n', '  AUTHORS   Thakur,S., Zhang,H.B., Peng,Y., Le,H., Carroll,B., Ward,T., Yao,J.,\\n', '            Farid,L.M., Couch,F.J., Wilson,R.B. and Weber,B.L.\\n', '  TITLE     Localization of BRCA1 and a splice variant identifies the nuclear\\n', '            localization signal\\n', '  JOURNAL   Mol Cell Biol 17 (1), 444-452 (1997)\\n', '   PUBMED   8972225\\n', 'REFERENCE   7  (bases 1 to 7152)\\n', '  AUTHORS   Lu,M., Conzen,S.D., Cole,C.N. and Arrick,B.A.\\n', '  TITLE     Characterization of functional messenger RNA splice variants of\\n', '            BRCA1 expressed in nonmalignant and tumor-derived breast cells\\n', '  JOURNAL   Cancer Res 56 (20), 4578-4581 (1996)\\n', '   PUBMED   8840964\\n', 'REFERENCE   8  (bases 1 to 7152)\\n', '  AUTHORS   Holt,J.T., Thompson,M.E., Szabo,C., Robinson-Benion,C.,\\n', '            Arteaga,C.L., King,M.C. and Jensen,R.A.\\n', '  TITLE     Growth retardation and tumour inhibition by BRCA1\\n', '  JOURNAL   Nat Genet 12 (3), 298-302 (1996)\\n', '   PUBMED   8589721\\n', '  REMARK    Erratum:[Nat Genet 1998 May;19(1):102]\\n', 'REFERENCE   9  (bases 1 to 7152)\\n', '  AUTHORS   Xu,C.F., Brown,M.A., Chambers,J.A., Griffiths,B., Nicolai,H. and\\n', '            Solomon,E.\\n', '  TITLE     Distinct transcription start sites generate two forms of BRCA1 mRNA\\n', '  JOURNAL   Hum Mol Genet 4 (12), 2259-2264 (1995)\\n', '   PUBMED   8634696\\n', 'REFERENCE   10 (bases 1 to 7152)\\n', '  AUTHORS   Miki,Y., Swensen,J., Shattuck-Eidens,D., Futreal,P.A., Harshman,K.,\\n', '            Tavtigian,S., Liu,Q., Cochran,C., Bennett,L.M., Ding,W. et al.\\n', '  TITLE     A strong candidate for the breast and ovarian cancer susceptibility\\n', '            gene BRCA1\\n', '  JOURNAL   Science 266 (5182), 66-71 (1994)\\n', '   PUBMED   7545954\\n', 'REFERENCE   11 (bases 1 to 7152)\\n', '  AUTHORS   Mehta,P.A. and Ebens,C.\\n', '  TITLE     Fanconi Anemia\\n', '  JOURNAL   (in) Adam MP, Feldman J, Mirzaa GM, Pagon RA, Wallace SE and\\n', '            Amemiya A (Eds.);\\n', '            GENEREVIEWS(R);\\n', '            (1993)\\n', '   PUBMED   20301575\\n', 'REFERENCE   12 (bases 1 to 7152)\\n', '  AUTHORS   Petrucelli,N., Daly,M.B. and Pal,T.\\n', '  TITLE     BRCA1- and BRCA2-Associated Hereditary Breast and Ovarian Cancer\\n', '  JOURNAL   (in) Adam MP, Feldman J, Mirzaa GM, Pagon RA, Wallace SE and\\n', '            Amemiya A (Eds.);\\n', '            GENEREVIEWS(R);\\n', '            (1993)\\n', '   PUBMED   20301425\\n', 'COMMENT     REVIEWED REFSEQ: This record has been curated by NCBI staff. The\\n', '            reference sequence was derived from AC135721.4.\\n', '            \\n', '            On Jun 3, 2022 this sequence version replaced NR_027676.2.\\n', '            \\n', '            Summary: This gene encodes a 190 kD nuclear phosphoprotein that\\n', '            plays a role in maintaining genomic stability, and it also acts as\\n', '            a tumor suppressor. The BRCA1 gene contains 22 exons spanning about\\n', '            110 kb of DNA. The encoded protein combines with other tumor\\n', '            suppressors, DNA damage sensors, and signal transducers to form a\\n', '            large multi-subunit protein complex known as the BRCA1-associated\\n', '            genome surveillance complex (BASC). This gene product associates\\n', '            with RNA polymerase II, and through the C-terminal domain, also\\n', '            interacts with histone deacetylase complexes. This protein thus\\n', '            plays a role in transcription, DNA repair of double-stranded\\n', '            breaks, and recombination. Mutations in this gene are responsible\\n', '            for approximately 40% of inherited breast cancers and more than 80%\\n', '            of inherited breast and ovarian cancers. Alternative splicing plays\\n', '            a role in modulating the subcellular localization and physiological\\n', '            function of this gene. Many alternatively spliced transcript\\n', '            variants, some of which are disease-associated mutations, have been\\n', '            described for this gene, but the full-length natures of only some\\n', '            of these variants has been described. A related pseudogene, which\\n', '            is also located on chromosome 17, has been identified. [provided by\\n', '            RefSeq, May 2020].\\n', '            \\n', '            Publication Note:  This RefSeq record includes a subset of the\\n', '            publications that are available for this gene. Please see the Gene\\n', '            record to access additional publications.\\n', '            \\n', '            ##Evidence-Data-START##\\n', '            Transcript exon combination :: AF005068.1 [ECO:0000332]\\n', '            RNAseq introns              :: mixed sample support SAMEA1965299,\\n', '                                           SAMEA1966682 [ECO:0006172]\\n', '            ##Evidence-Data-END##\\n', 'PRIMARY     REFSEQ_SPAN         PRIMARY_IDENTIFIER PRIMARY_SPAN        COMP\\n', '            1-183               AC135721.4         34056-34238\\n', '            184-282             AC135721.4         35305-35403\\n', '            283-336             AC135721.4         43641-43694\\n', '            337-392             AC135721.4         52887-52942\\n', '            393-481             AC135721.4         54464-54552\\n', '            482-621             AC135721.4         55159-55298\\n', '            622-724             AC135721.4         59543-59645\\n', '            725-770             AC135721.4         62131-62176\\n', '            771-847             AC135721.4         63498-63574\\n', '            848-4273            AC135721.4         64560-67985\\n', '            4274-4362           AC135721.4         68388-68476\\n', '            4363-4534           AC135721.4         76845-77016\\n', '            4535-4661           AC135721.4         82806-82932\\n', '            4662-4852           AC135721.4         84899-85089\\n', '            4853-5163           AC135721.4         88182-88492\\n', '            5164-5251           AC135721.4         91725-91812\\n', '            5252-5329           AC135721.4         95469-95546\\n', '            5330-5370           AC135721.4         96047-96087\\n', '            5371-5454           AC135721.4         102285-102368\\n', '            5455-5509           AC135721.4         108303-108357\\n', '            5510-5583           AC135721.4         110226-110299\\n', '            5584-5644           AC135721.4         111717-111777\\n', '            5645-7152           AC135721.4         113618-115125\\n', 'FEATURES             Location/Qualifiers\\n', '     source          1..7152\\n', '                     /organism=\"Homo sapiens\"\\n', '                     /mol_type=\"mRNA\"\\n', '                     /db_xref=\"taxon:9606\"\\n', '                     /chromosome=\"17\"\\n', '                     /map=\"17q21.31\"\\n', '     gene            1..7152\\n', '                     /gene=\"BRCA1\"\\n', '                     /gene_synonym=\"BRCAI; BRCC1; BROVCA1; FANCS; IRIS; PNCA4;\\n', '                     PPP1R53; PSCP; RNF53\"\\n', '                     /note=\"BRCA1 DNA repair associated\"\\n', '                     /db_xref=\"GeneID:672\"\\n', '                     /db_xref=\"HGNC:HGNC:1100\"\\n', '                     /db_xref=\"MIM:113705\"\\n', '     exon            1..183\\n', '                     /gene=\"BRCA1\"\\n', '                     /gene_synonym=\"BRCAI; BRCC1; BROVCA1; FANCS; IRIS; PNCA4;\\n', '                     PPP1R53; PSCP; RNF53\"\\n', '                     /inference=\"alignment:Splign:2.1.0\"\\n', '     exon            184..282\\n', '                     /gene=\"BRCA1\"\\n', '                     /gene_synonym=\"BRCAI; BRCC1; BROVCA1; FANCS; IRIS; PNCA4;\\n', '                     PPP1R53; PSCP; RNF53\"\\n', '                     /inference=\"alignment:Splign:2.1.0\"\\n', '     exon            283..336\\n', '                     /gene=\"BRCA1\"\\n', '                     /gene_synonym=\"BRCAI; BRCC1; BROVCA1; FANCS; IRIS; PNCA4;\\n', '                     PPP1R53; PSCP; RNF53\"\\n', '                     /inference=\"alignment:Splign:2.1.0\"\\n', '     misc_feature    319..321\\n', '                     /gene=\"BRCA1\"\\n', '                     /gene_synonym=\"BRCAI; BRCC1; BROVCA1; FANCS; IRIS; PNCA4;\\n', '                     PPP1R53; PSCP; RNF53\"\\n', '                     /note=\"upstream in-frame stop codon\"\\n', '     exon            337..392\\n', '                     /gene=\"BRCA1\"\\n', '                     /gene_synonym=\"BRCAI; BRCC1; BROVCA1; FANCS; IRIS; PNCA4;\\n', '                     PPP1R53; PSCP; RNF53\"\\n', '                     /inference=\"alignment:Splign:2.1.0\"\\n', '     CDS             391..5769\\n', '                     /gene=\"BRCA1\"\\n', '                     /gene_synonym=\"BRCAI; BRCC1; BROVCA1; FANCS; IRIS; PNCA4;\\n', '                     PPP1R53; PSCP; RNF53\"\\n', '                     /EC_number=\"2.3.2.27\"\\n', '                     /note=\"isoform 6 is encoded by transcript variant 6;\\n', '                     BRCA1/BRCA2-containing complex, subunit 1; RING finger\\n', '                     protein 53; breast cancer type 1 susceptibility protein;\\n', '                     breast and ovarian cancer susceptibility protein 1;\\n', '                     protein phosphatase 1, regulatory subunit 53; Fanconi\\n', '                     anemia, complementation group S; early onset breast cancer\\n', '                     1; breast cancer 1, early onset\"\\n', '                     /codon_start=1\\n', '                     /product=\"breast cancer type 1 susceptibility protein\\n', '                     isoform 6\"\\n', '                     /protein_id=\"NP_001394500.1\"\\n', '                     /db_xref=\"GeneID:672\"\\n', '                     /db_xref=\"HGNC:HGNC:1100\"\\n', '                     /db_xref=\"MIM:113705\"\\n', '                     /translation=\"MSLQESTRFSQLVEELLKIICAFQLDTGLEYANSYNFAKKENNS\\n', '                     PEHLKDEVSIIQSMGYRNRAKRLLQSEPENPSLETSLSVQLSNLGTVRTLRTKQRIQP\\n', '                     QKTSVYIELGSDSSEDTVNKATYCSVGDQELLQITPQGTRDEISLDSAKKAACEFSET\\n', '                     DVTNTEHHQPSNNDLNTTEKRAAERHPEKYQGSSVSNLHVEPCGTNTHASSLQHENSS\\n', '                     LLLTKDRMNVEKAEFCNKSKQPGLARSQHNRWAGSKETCNDRRTPSTEKKVDLNADPL\\n', '                     CERKEWNKQKLPCSENPRDTEDVPWITLNSSIQKVNEWFSRSDELLGSDDSHDGESES\\n', '                     NAKVADVLDVLNEVDEYSGSSEKIDLLASDPHEALICKSERVHSKSVESNIEDKIFGK\\n', '                     TYRKKASLPNLSHVTENLIIGAFVTEPQIIQERPLTNKLKRKRRPTSGLHPEDFIKKA\\n', '                     DLAVQKTPEMINQGTNQTEQNGQVMNITNSGHENKTKGDSIQNEKNPNPIESLEKESA\\n', '                     FKTKAEPISSSISNMELELNIHNSKAPKKNRLRRKSSTRHIHALELVVSRNLSPPNCT\\n', '                     ELQIDSCSSSEEIKKKKYNQMPVRHSRNLQLMEGKEPATGAKKSNKPNEQTSKRHDSD\\n', '                     TFPELKLTNAPGSFTKCSNTSELKEFVNPSLPREEKEEKLETVKVSNNAEDPKDLMLS\\n', '                     GERVLQTERSVESSSISLVPGTDYGTQESISLLEVSTLGKAKTEPNKCVSQCAAFENP\\n', '                     KGLIHGCSKDNRNDTEGFKYPLGHEVNHSRETSIEMEESELDAQYLQNTFKVSKRQSF\\n', '                     APFSNPGNAEEECATFSAHSGSLKKQSPKVTFECEQKEENQGKNESNIKPVQTVNITA\\n', '                     GFPVVGQKDKPVDNAKCSIKGGSRFCLSSQFRGNETGLITPNKHGLLQNPYRIPPLFP\\n', '                     IKSFVKTKCKKNLLEENFEEHSMSPEREMGNENIPSTVSTISRNNIRENVFKEASSSN\\n', '                     INEVGSSTNEVGSSINEIGSSDENIQAELGRNRGPKLNAMLRLGVLQPEVYKQSLPGS\\n', '                     NCKHPEIKKQEYEEVVQTVNTDFSPYLISDNLEQPMGSSHASQVCSETPDDLLDDGEI\\n', '                     KEDTSFAENDIKESSAVFSKSVQKGELSRSPSPFTHTHLAQGYRRGAKKLESSEENLS\\n', '                     SEDEELPCFQHLLFGKVNNIPSQSTRHSTVATECLSKNTEENLLSLKNSLNDCSNQVI\\n', '                     LAKASQEHHLSEETKCSASLFSSQCSELEDLTANTNTQDPFLIGSSKQMRHQSESQGV\\n', '                     GLSDKELVSDDEERGTGLEENNQEEQSMDSNLGEAASGCESETSVSEDCSGLSSQSDI\\n', '                     LTTQQRDTMQHNLIKLQQEMAELEAVLEQHGSQPSNSYPSIISDSSALEDLRNPEQST\\n', '                     SEKAVLTSQKSSEYPISQNPEGLSADKFEVSADSSTSKNKEPGVERSSPSKCPSLDDR\\n', '                     WYMHSCSGSLQNRNYPSQEELIKVVDVEEQQLEESGPHDLTETSYLPRQDLEGTPYLE\\n', '                     SGISLFSDDPESDPSEDRAPESARVGNIPSSTSALKVPQLKVAESAQSPAAAHTTDTA\\n', '                     GYNAMEESVSREKPELTASTERVNKRMSMVVSGLTPEEFMLVYKFARKHHITLTNLIT\\n', '                     EETTHVVMKTDAEFVCERTLKYFLGIAGGKWVVSYFWVTQSIKERKMLNEHDFEVRGD\\n', '                     VVNGRNHQGPKRARESQDRKIFRGLEICCYGPFTNMPTDQLEWMVQLCGASVVKELSS\\n', '                     FTLGTGVHPIVVVQPDAWTEDNGFHAIGQMCEAPVVTREWVLDSVALYQCQELDTYLI\\n', '                     PQIPHSHY\"\\n', '     exon            393..481\\n', '                     /gene=\"BRCA1\"\\n', '                     /gene_synonym=\"BRCAI; BRCC1; BROVCA1; FANCS; IRIS; PNCA4;\\n', '                     PPP1R53; PSCP; RNF53\"\\n', '                     /inference=\"alignment:Splign:2.1.0\"\\n', '     exon            482..621\\n', '                     /gene=\"BRCA1\"\\n', '                     /gene_synonym=\"BRCAI; BRCC1; BROVCA1; FANCS; IRIS; PNCA4;\\n', '                     PPP1R53; PSCP; RNF53\"\\n', '                     /inference=\"alignment:Splign:2.1.0\"\\n', '     exon            622..724\\n', '                     /gene=\"BRCA1\"\\n', '                     /gene_synonym=\"BRCAI; BRCC1; BROVCA1; FANCS; IRIS; PNCA4;\\n', '                     PPP1R53; PSCP; RNF53\"\\n', '                     /inference=\"alignment:Splign:2.1.0\"\\n', '     exon            725..770\\n', '                     /gene=\"BRCA1\"\\n', '                     /gene_synonym=\"BRCAI; BRCC1; BROVCA1; FANCS; IRIS; PNCA4;\\n', '                     PPP1R53; PSCP; RNF53\"\\n', '                     /inference=\"alignment:Splign:2.1.0\"\\n', '     exon            771..847\\n', '                     /gene=\"BRCA1\"\\n', '                     /gene_synonym=\"BRCAI; BRCC1; BROVCA1; FANCS; IRIS; PNCA4;\\n', '                     PPP1R53; PSCP; RNF53\"\\n', '                     /inference=\"alignment:Splign:2.1.0\"\\n', '     exon            848..4273\\n', '                     /gene=\"BRCA1\"\\n', '                     /gene_synonym=\"BRCAI; BRCC1; BROVCA1; FANCS; IRIS; PNCA4;\\n', '                     PPP1R53; PSCP; RNF53\"\\n', '                     /inference=\"alignment:Splign:2.1.0\"\\n', '     exon            4274..4362\\n', '                     /gene=\"BRCA1\"\\n', '                     /gene_synonym=\"BRCAI; BRCC1; BROVCA1; FANCS; IRIS; PNCA4;\\n', '                     PPP1R53; PSCP; RNF53\"\\n', '                     /inference=\"alignment:Splign:2.1.0\"\\n', '     exon            4363..4534\\n', '                     /gene=\"BRCA1\"\\n', '                     /gene_synonym=\"BRCAI; BRCC1; BROVCA1; FANCS; IRIS; PNCA4;\\n', '                     PPP1R53; PSCP; RNF53\"\\n', '                     /inference=\"alignment:Splign:2.1.0\"\\n', '     exon            4535..4661\\n', '                     /gene=\"BRCA1\"\\n', '                     /gene_synonym=\"BRCAI; BRCC1; BROVCA1; FANCS; IRIS; PNCA4;\\n', '                     PPP1R53; PSCP; RNF53\"\\n', '                     /inference=\"alignment:Splign:2.1.0\"\\n', '     exon            4662..4852\\n', '                     /gene=\"BRCA1\"\\n', '                     /gene_synonym=\"BRCAI; BRCC1; BROVCA1; FANCS; IRIS; PNCA4;\\n', '                     PPP1R53; PSCP; RNF53\"\\n', '                     /inference=\"alignment:Splign:2.1.0\"\\n', '     exon            4853..5163\\n', '                     /gene=\"BRCA1\"\\n', '                     /gene_synonym=\"BRCAI; BRCC1; BROVCA1; FANCS; IRIS; PNCA4;\\n', '                     PPP1R53; PSCP; RNF53\"\\n', '                     /inference=\"alignment:Splign:2.1.0\"\\n', '     exon            5164..5251\\n', '                     /gene=\"BRCA1\"\\n', '                     /gene_synonym=\"BRCAI; BRCC1; BROVCA1; FANCS; IRIS; PNCA4;\\n', '                     PPP1R53; PSCP; RNF53\"\\n', '                     /inference=\"alignment:Splign:2.1.0\"\\n', '     exon            5252..5329\\n', '                     /gene=\"BRCA1\"\\n', '                     /gene_synonym=\"BRCAI; BRCC1; BROVCA1; FANCS; IRIS; PNCA4;\\n', '                     PPP1R53; PSCP; RNF53\"\\n', '                     /inference=\"alignment:Splign:2.1.0\"\\n', '     exon            5330..5370\\n', '                     /gene=\"BRCA1\"\\n', '                     /gene_synonym=\"BRCAI; BRCC1; BROVCA1; FANCS; IRIS; PNCA4;\\n', '                     PPP1R53; PSCP; RNF53\"\\n', '                     /inference=\"alignment:Splign:2.1.0\"\\n', '     exon            5371..5454\\n', '                     /gene=\"BRCA1\"\\n', '                     /gene_synonym=\"BRCAI; BRCC1; BROVCA1; FANCS; IRIS; PNCA4;\\n', '                     PPP1R53; PSCP; RNF53\"\\n', '                     /inference=\"alignment:Splign:2.1.0\"\\n', '     exon            5455..5509\\n', '                     /gene=\"BRCA1\"\\n', '                     /gene_synonym=\"BRCAI; BRCC1; BROVCA1; FANCS; IRIS; PNCA4;\\n', '                     PPP1R53; PSCP; RNF53\"\\n', '                     /inference=\"alignment:Splign:2.1.0\"\\n', '     exon            5510..5583\\n', '                     /gene=\"BRCA1\"\\n', '                     /gene_synonym=\"BRCAI; BRCC1; BROVCA1; FANCS; IRIS; PNCA4;\\n', '                     PPP1R53; PSCP; RNF53\"\\n', '                     /inference=\"alignment:Splign:2.1.0\"\\n', '     exon            5584..5644\\n', '                     /gene=\"BRCA1\"\\n', '                     /gene_synonym=\"BRCAI; BRCC1; BROVCA1; FANCS; IRIS; PNCA4;\\n', '                     PPP1R53; PSCP; RNF53\"\\n', '                     /inference=\"alignment:Splign:2.1.0\"\\n', '     exon            5645..7152\\n', '                     /gene=\"BRCA1\"\\n', '                     /gene_synonym=\"BRCAI; BRCC1; BROVCA1; FANCS; IRIS; PNCA4;\\n', '                     PPP1R53; PSCP; RNF53\"\\n', '                     /inference=\"alignment:Splign:2.1.0\"\\n', '     regulatory      7127..7132\\n', '                     /regulatory_class=\"polyA_signal_sequence\"\\n', '                     /gene=\"BRCA1\"\\n', '                     /gene_synonym=\"BRCAI; BRCC1; BROVCA1; FANCS; IRIS; PNCA4;\\n', '                     PPP1R53; PSCP; RNF53\"\\n', '                     /note=\"hexamer: AATAAA\"\\n', '     polyA_site      7152\\n', '                     /gene=\"BRCA1\"\\n', '                     /gene_synonym=\"BRCAI; BRCC1; BROVCA1; FANCS; IRIS; PNCA4;\\n', '                     PPP1R53; PSCP; RNF53\"\\n', '                     /note=\"major polyA site\"\\n', 'ORIGIN      \\n', '        1 gctgagactt cctggacggg ggacaggctg tggggtttct cagataactg ggcccctgcg\\n', '       61 ctcaggaggc cttcaccctc tgctctgggt aaaggtagta gagtcccggg aaagggacag\\n', '      121 ggggcccaag tgatgctctg gggtactggc gtgggagagt ggatttccga agctgacaga\\n', '      181 tggttcattg gaacagaaag aaatggattt atctgctctt cgcgttgaag aagtacaaaa\\n', '      241 tgtcattaat gctatgcaga aaatcttaga gtgtcccatc tgtctggagt tgatcaagga\\n', '      301 acctgtctcc acaaagtgtg accacatatt ttgcaaattt tgcatgctga aacttctcaa\\n', '      361 ccagaagaaa gggccttcac agtgtccttt atgagcctac aagaaagtac gagatttagt\\n', '      421 caacttgttg aagagctatt gaaaatcatt tgtgcttttc agcttgacac aggtttggag\\n', '      481 tatgcaaaca gctataattt tgcaaaaaag gaaaataact ctcctgaaca tctaaaagat\\n', '      541 gaagtttcta tcatccaaag tatgggctac agaaaccgtg ccaaaagact tctacagagt\\n', '      601 gaacccgaaa atccttcctt ggaaaccagt ctcagtgtcc aactctctaa ccttggaact\\n', '      661 gtgagaactc tgaggacaaa gcagcggata caacctcaaa agacgtctgt ctacattgaa\\n', '      721 ttgggatctg attcttctga agataccgtt aataaggcaa cttattgcag tgtgggagat\\n', '      781 caagaattgt tacaaatcac ccctcaagga accagggatg aaatcagttt ggattctgca\\n', '      841 aaaaaggctg cttgtgaatt ttctgagacg gatgtaacaa atactgaaca tcatcaaccc\\n', '      901 agtaataatg atttgaacac cactgagaag cgtgcagctg agaggcatcc agaaaagtat\\n', '      961 cagggtagtt ctgtttcaaa cttgcatgtg gagccatgtg gcacaaatac tcatgccagc\\n', '     1021 tcattacagc atgagaacag cagtttatta ctcactaaag acagaatgaa tgtagaaaag\\n', '     1081 gctgaattct gtaataaaag caaacagcct ggcttagcaa ggagccaaca taacagatgg\\n', '     1141 gctggaagta aggaaacatg taatgatagg cggactccca gcacagaaaa aaaggtagat\\n', '     1201 ctgaatgctg atcccctgtg tgagagaaaa gaatggaata agcagaaact gccatgctca\\n', '     1261 gagaatccta gagatactga agatgttcct tggataacac taaatagcag cattcagaaa\\n', '     1321 gttaatgagt ggttttccag aagtgatgaa ctgttaggtt ctgatgactc acatgatggg\\n', '     1381 gagtctgaat caaatgccaa agtagctgat gtattggacg ttctaaatga ggtagatgaa\\n', '     1441 tattctggtt cttcagagaa aatagactta ctggccagtg atcctcatga ggctttaata\\n', '     1501 tgtaaaagtg aaagagttca ctccaaatca gtagagagta atattgaaga caaaatattt\\n', '     1561 gggaaaacct atcggaagaa ggcaagcctc cccaacttaa gccatgtaac tgaaaatcta\\n', '     1621 attataggag catttgttac tgagccacag ataatacaag agcgtcccct cacaaataaa\\n', '     1681 ttaaagcgta aaaggagacc tacatcaggc cttcatcctg aggattttat caagaaagca\\n', '     1741 gatttggcag ttcaaaagac tcctgaaatg ataaatcagg gaactaacca aacggagcag\\n', '     1801 aatggtcaag tgatgaatat tactaatagt ggtcatgaga ataaaacaaa aggtgattct\\n', '     1861 attcagaatg agaaaaatcc taacccaata gaatcactcg aaaaagaatc tgctttcaaa\\n', '     1921 acgaaagctg aacctataag cagcagtata agcaatatgg aactcgaatt aaatatccac\\n', '     1981 aattcaaaag cacctaaaaa gaataggctg aggaggaagt cttctaccag gcatattcat\\n', '     2041 gcgcttgaac tagtagtcag tagaaatcta agcccaccta attgtactga attgcaaatt\\n', '     2101 gatagttgtt ctagcagtga agagataaag aaaaaaaagt acaaccaaat gccagtcagg\\n', '     2161 cacagcagaa acctacaact catggaaggt aaagaacctg caactggagc caagaagagt\\n', '     2221 aacaagccaa atgaacagac aagtaaaaga catgacagcg atactttccc agagctgaag\\n', '     2281 ttaacaaatg cacctggttc ttttactaag tgttcaaata ccagtgaact taaagaattt\\n', '     2341 gtcaatccta gccttccaag agaagaaaaa gaagagaaac tagaaacagt taaagtgtct\\n', '     2401 aataatgctg aagaccccaa agatctcatg ttaagtggag aaagggtttt gcaaactgaa\\n', '     2461 agatctgtag agagtagcag tatttcattg gtacctggta ctgattatgg cactcaggaa\\n', '     2521 agtatctcgt tactggaagt tagcactcta gggaaggcaa aaacagaacc aaataaatgt\\n', '     2581 gtgagtcagt gtgcagcatt tgaaaacccc aagggactaa ttcatggttg ttccaaagat\\n', '     2641 aatagaaatg acacagaagg ctttaagtat ccattgggac atgaagttaa ccacagtcgg\\n', '     2701 gaaacaagca tagaaatgga agaaagtgaa cttgatgctc agtatttgca gaatacattc\\n', '     2761 aaggtttcaa agcgccagtc atttgctccg ttttcaaatc caggaaatgc agaagaggaa\\n', '     2821 tgtgcaacat tctctgccca ctctgggtcc ttaaagaaac aaagtccaaa agtcactttt\\n', '     2881 gaatgtgaac aaaaggaaga aaatcaagga aagaatgagt ctaatatcaa gcctgtacag\\n', '     2941 acagttaata tcactgcagg ctttcctgtg gttggtcaga aagataagcc agttgataat\\n', '     3001 gccaaatgta gtatcaaagg aggctctagg ttttgtctat catctcagtt cagaggcaac\\n', '     3061 gaaactggac tcattactcc aaataaacat ggacttttac aaaacccata tcgtatacca\\n', '     3121 ccactttttc ccatcaagtc atttgttaaa actaaatgta agaaaaatct gctagaggaa\\n', '     3181 aactttgagg aacattcaat gtcacctgaa agagaaatgg gaaatgagaa cattccaagt\\n', '     3241 acagtgagca caattagccg taataacatt agagaaaatg tttttaaaga agccagctca\\n', '     3301 agcaatatta atgaagtagg ttccagtact aatgaagtgg gctccagtat taatgaaata\\n', '     3361 ggttccagtg atgaaaacat tcaagcagaa ctaggtagaa acagagggcc aaaattgaat\\n', '     3421 gctatgctta gattaggggt tttgcaacct gaggtctata aacaaagtct tcctggaagt\\n', '     3481 aattgtaagc atcctgaaat aaaaaagcaa gaatatgaag aagtagttca gactgttaat\\n', '     3541 acagatttct ctccatatct gatttcagat aacttagaac agcctatggg aagtagtcat\\n', '     3601 gcatctcagg tttgttctga gacacctgat gacctgttag atgatggtga aataaaggaa\\n', '     3661 gatactagtt ttgctgaaaa tgacattaag gaaagttctg ctgtttttag caaaagcgtc\\n', '     3721 cagaaaggag agcttagcag gagtcctagc cctttcaccc atacacattt ggctcagggt\\n', '     3781 taccgaagag gggccaagaa attagagtcc tcagaagaga acttatctag tgaggatgaa\\n', '     3841 gagcttccct gcttccaaca cttgttattt ggtaaagtaa acaatatacc ttctcagtct\\n', '     3901 actaggcata gcaccgttgc taccgagtgt ctgtctaaga acacagagga gaatttatta\\n', '     3961 tcattgaaga atagcttaaa tgactgcagt aaccaggtaa tattggcaaa ggcatctcag\\n', '     4021 gaacatcacc ttagtgagga aacaaaatgt tctgctagct tgttttcttc acagtgcagt\\n', '     4081 gaattggaag acttgactgc aaatacaaac acccaggatc ctttcttgat tggttcttcc\\n', '     4141 aaacaaatga ggcatcagtc tgaaagccag ggagttggtc tgagtgacaa ggaattggtt\\n', '     4201 tcagatgatg aagaaagagg aacgggcttg gaagaaaata atcaagaaga gcaaagcatg\\n', '     4261 gattcaaact taggtgaagc agcatctggg tgtgagagtg aaacaagcgt ctctgaagac\\n', '     4321 tgctcagggc tatcctctca gagtgacatt ttaaccactc agcagaggga taccatgcaa\\n', '     4381 cataacctga taaagctcca gcaggaaatg gctgaactag aagctgtgtt agaacagcat\\n', '     4441 gggagccagc cttctaacag ctacccttcc atcataagtg actcttctgc ccttgaggac\\n', '     4501 ctgcgaaatc cagaacaaag cacatcagaa aaagcagtat taacttcaca gaaaagtagt\\n', '     4561 gaatacccta taagccagaa tccagaaggc ctttctgctg acaagtttga ggtgtctgca\\n', '     4621 gatagttcta ccagtaaaaa taaagaacca ggagtggaaa ggtcatcccc ttctaaatgc\\n', '     4681 ccatcattag atgataggtg gtacatgcac agttgctctg ggagtcttca gaatagaaac\\n', '     4741 tacccatctc aagaggagct cattaaggtt gttgatgtgg aggagcaaca gctggaagag\\n', '     4801 tctgggccac acgatttgac ggaaacatct tacttgccaa ggcaagatct agagggaacc\\n', '     4861 ccttacctgg aatctggaat cagcctcttc tctgatgacc ctgaatctga tccttctgaa\\n', '     4921 gacagagccc cagagtcagc tcgtgttggc aacataccat cttcaacctc tgcattgaaa\\n', '     4981 gttccccaat tgaaagttgc agaatctgcc cagagtccag ctgctgctca tactactgat\\n', '     5041 actgctgggt ataatgcaat ggaagaaagt gtgagcaggg agaagccaga attgacagct\\n', '     5101 tcaacagaaa gggtcaacaa aagaatgtcc atggtggtgt ctggcctgac cccagaagaa\\n', '     5161 tttatgctcg tgtacaagtt tgccagaaaa caccacatca ctttaactaa tctaattact\\n', '     5221 gaagagacta ctcatgttgt tatgaaaaca gatgctgagt ttgtgtgtga acggacactg\\n', '     5281 aaatattttc taggaattgc gggaggaaaa tgggtagtta gctatttctg ggtgacccag\\n', '     5341 tctattaaag aaagaaaaat gctgaatgag catgattttg aagtcagagg agatgtggtc\\n', '     5401 aatggaagaa accaccaagg tccaaagcga gcaagagaat cccaggacag aaagatcttc\\n', '     5461 agggggctag aaatctgttg ctatgggccc ttcaccaaca tgcccacaga tcaactggaa\\n', '     5521 tggatggtac agctgtgtgg tgcttctgtg gtgaaggagc tttcatcatt cacccttggc\\n', '     5581 acaggtgtcc acccaattgt ggttgtgcag ccagatgcct ggacagagga caatggcttc\\n', '     5641 catgcaattg ggcagatgtg tgaggcacct gtggtgaccc gagagtgggt gttggacagt\\n', '     5701 gtagcactct accagtgcca ggagctggac acctacctga taccccagat cccccacagc\\n', '     5761 cactactgac tgcagccagc cacaggtaca gagccacagg accccaagaa tgagcttaca\\n', '     5821 aagtggcctt tccaggccct gggagctcct ctcactcttc agtccttcta ctgtcctggc\\n', '     5881 tactaaatat tttatgtaca tcagcctgaa aaggacttct ggctatgcaa gggtccctta\\n', '     5941 aagattttct gcttgaagtc tcccttggaa atctgccatg agcacaaaat tatggtaatt\\n', '     6001 tttcacctga gaagatttta aaaccattta aacgccacca attgagcaag atgctgattc\\n', '     6061 attatttatc agccctattc tttctattca ggctgttgtt ggcttagggc tggaagcaca\\n', '     6121 gagtggcttg gcctcaagag aatagctggt ttccctaagt ttacttctct aaaaccctgt\\n', '     6181 gttcacaaag gcagagagtc agacccttca atggaaggag agtgcttggg atcgattatg\\n', '     6241 tgacttaaag tcagaatagt ccttgggcag ttctcaaatg ttggagtgga acattgggga\\n', '     6301 ggaaattctg aggcaggtat tagaaatgaa aaggaaactt gaaacctggg catggtggct\\n', '     6361 cacgcctgta atcccagcac tttgggaggc caaggtgggc agatcactgg aggtcaggag\\n', '     6421 ttcgaaacca gcctggccaa catggtgaaa ccccatctct actaaaaata cagaaattag\\n', '     6481 ccggtcatgg tggtggacac ctgtaatccc agctactcag gtggctaagg caggagaatc\\n', '     6541 acttcagccc gggaggtgga ggttgcagtg agccaagatc ataccacggc actccagcct\\n', '     6601 gggtgacagt gagactgtgg ctcaaaaaaa aaaaaaaaaa aaggaaaatg aaactagaag\\n', '     6661 agatttctaa aagtctgaga tatatttgct agatttctaa agaatgtgtt ctaaaacagc\\n', '     6721 agaagatttt caagaaccgg tttccaaaga cagtcttcta attcctcatt agtaataagt\\n', '     6781 aaaatgttta ttgttgtagc tctggtatat aatccattcc tcttaaaata taagacctct\\n', '     6841 ggcatgaata tttcatatct ataaaatgac agatcccacc aggaaggaag ctgttgcttt\\n', '     6901 ctttgaggtg atttttttcc tttgctccct gttgctgaaa ccatacagct tcataaataa\\n', '     6961 ttttgcttgc tgaaggaaga aaaagtgttt ttcataaacc cattatccag gactgtttat\\n', '     7021 agctgttgga aggactaggt cttccctagc ccccccagtg tgcaagggca gtgaagactt\\n', '     7081 gattgtacaa aatacgtttt gtaaatgttg tgctgttaac actgcaaata aacttggtag\\n', '     7141 caaacacttc ca\\n', '//\\n', '\\n']\n"
     ]
    }
   ],
   "source": [
    "abc=open(\"brca1.gb\",\"r\")\n",
    "pqr=abc.readlines()\n",
    "print(pqr)"
   ]
  },
  {
   "cell_type": "code",
   "execution_count": 70,
   "id": "9adbfc6e-b778-4201-88ac-52f2203adcf9",
   "metadata": {},
   "outputs": [
    {
     "name": "stdout",
     "output_type": "stream",
     "text": [
      "LOCUS       NM_001407571            7152 bp    mRNA    linear   PRI 05-OCT-2024\n",
      "\n",
      "DEFINITION  Homo sapiens BRCA1 DNA repair associated (BRCA1), transcript\n",
      "\n",
      "            variant 6, mRNA.\n",
      "\n",
      "ACCESSION   NM_001407571 NR_027676\n",
      "\n",
      "VERSION     NM_001407571.1\n",
      "\n",
      "KEYWORDS    RefSeq.\n",
      "\n",
      "SOURCE      Homo sapiens (human)\n",
      "\n",
      "  ORGANISM  Homo sapiens\n",
      "\n",
      "            Eukaryota; Metazoa; Chordata; Craniata; Vertebrata; Euteleostomi;\n",
      "\n",
      "            Mammalia; Eutheria; Euarchontoglires; Primates; Haplorrhini;\n",
      "\n",
      "            Catarrhini; Hominidae; Homo.\n",
      "\n",
      "REFERENCE   1  (bases 1 to 7152)\n",
      "\n",
      "  AUTHORS   Orban,T.I. and Olah,E.\n",
      "\n",
      "  TITLE     Emerging roles of BRCA1 alternative splicing\n",
      "\n",
      "  JOURNAL   Mol Pathol 56 (4), 191-197 (2003)\n",
      "\n",
      "   PUBMED   12890739\n",
      "\n",
      "  REMARK    Review article\n",
      "\n",
      "REFERENCE   2  (bases 1 to 7152)\n",
      "\n",
      "  AUTHORS   Orban,T.I. and Olah,E.\n",
      "\n",
      "  TITLE     Expression profiles of BRCA1 splice variants in asynchronous and in\n",
      "\n",
      "            G1/S synchronized tumor cell lines\n",
      "\n",
      "  JOURNAL   Biochem Biophys Res Commun 280 (1), 32-38 (2001)\n",
      "\n",
      "   PUBMED   11162473\n",
      "\n",
      "REFERENCE   3  (bases 1 to 7152)\n",
      "\n",
      "  AUTHORS   Paterson,J.W.\n",
      "\n",
      "  TITLE     BRCA1: a review of structure and putative functions\n",
      "\n",
      "  JOURNAL   Dis Markers 13 (4), 261-274 (1998)\n",
      "\n",
      "   PUBMED   9553742\n",
      "\n",
      "  REMARK    Review article\n",
      "\n",
      "REFERENCE   4  (bases 1 to 7152)\n",
      "\n",
      "  AUTHORS   Xu,C.F., Chambers,J.A., Nicolai,H., Brown,M.A., Hujeirat,Y.,\n",
      "\n",
      "            Mohammed,S., Hodgson,S., Kelsell,D.P., Spurr,N.K., Bishop,D.T. and\n",
      "\n",
      "            Solomon,E.\n",
      "\n",
      "  TITLE     Mutations and alternative splicing of the BRCA1 gene in UK\n",
      "\n",
      "            breast/ovarian cancer families\n",
      "\n",
      "  JOURNAL   Genes Chromosomes Cancer 18 (2), 102-110 (1997)\n",
      "\n",
      "   PUBMED   9115959\n",
      "\n",
      "REFERENCE   5  (bases 1 to 7152)\n",
      "\n",
      "  AUTHORS   Wilson,C.A., Payton,M.N., Elliott,G.S., Buaas,F.W., Cajulis,E.E.,\n",
      "\n",
      "            Grosshans,D., Ramos,L., Reese,D.M., Slamon,D.J. and Calzone,F.J.\n",
      "\n",
      "  TITLE     Differential subcellular localization, expression and biological\n",
      "\n",
      "            toxicity of BRCA1 and the splice variant BRCA1-delta11b\n",
      "\n",
      "  JOURNAL   Oncogene 14 (1), 1-16 (1997)\n",
      "\n",
      "   PUBMED   9010228\n",
      "\n",
      "REFERENCE   6  (bases 1 to 7152)\n",
      "\n",
      "  AUTHORS   Thakur,S., Zhang,H.B., Peng,Y., Le,H., Carroll,B., Ward,T., Yao,J.,\n",
      "\n",
      "            Farid,L.M., Couch,F.J., Wilson,R.B. and Weber,B.L.\n",
      "\n",
      "  TITLE     Localization of BRCA1 and a splice variant identifies the nuclear\n",
      "\n",
      "            localization signal\n",
      "\n",
      "  JOURNAL   Mol Cell Biol 17 (1), 444-452 (1997)\n",
      "\n",
      "   PUBMED   8972225\n",
      "\n",
      "REFERENCE   7  (bases 1 to 7152)\n",
      "\n",
      "  AUTHORS   Lu,M., Conzen,S.D., Cole,C.N. and Arrick,B.A.\n",
      "\n",
      "  TITLE     Characterization of functional messenger RNA splice variants of\n",
      "\n",
      "            BRCA1 expressed in nonmalignant and tumor-derived breast cells\n",
      "\n",
      "  JOURNAL   Cancer Res 56 (20), 4578-4581 (1996)\n",
      "\n",
      "   PUBMED   8840964\n",
      "\n",
      "REFERENCE   8  (bases 1 to 7152)\n",
      "\n",
      "  AUTHORS   Holt,J.T., Thompson,M.E., Szabo,C., Robinson-Benion,C.,\n",
      "\n",
      "            Arteaga,C.L., King,M.C. and Jensen,R.A.\n",
      "\n",
      "  TITLE     Growth retardation and tumour inhibition by BRCA1\n",
      "\n",
      "  JOURNAL   Nat Genet 12 (3), 298-302 (1996)\n",
      "\n",
      "   PUBMED   8589721\n",
      "\n",
      "  REMARK    Erratum:[Nat Genet 1998 May;19(1):102]\n",
      "\n",
      "REFERENCE   9  (bases 1 to 7152)\n",
      "\n",
      "  AUTHORS   Xu,C.F., Brown,M.A., Chambers,J.A., Griffiths,B., Nicolai,H. and\n",
      "\n",
      "            Solomon,E.\n",
      "\n",
      "  TITLE     Distinct transcription start sites generate two forms of BRCA1 mRNA\n",
      "\n",
      "  JOURNAL   Hum Mol Genet 4 (12), 2259-2264 (1995)\n",
      "\n",
      "   PUBMED   8634696\n",
      "\n",
      "REFERENCE   10 (bases 1 to 7152)\n",
      "\n",
      "  AUTHORS   Miki,Y., Swensen,J., Shattuck-Eidens,D., Futreal,P.A., Harshman,K.,\n",
      "\n",
      "            Tavtigian,S., Liu,Q., Cochran,C., Bennett,L.M., Ding,W. et al.\n",
      "\n",
      "  TITLE     A strong candidate for the breast and ovarian cancer susceptibility\n",
      "\n",
      "            gene BRCA1\n",
      "\n",
      "  JOURNAL   Science 266 (5182), 66-71 (1994)\n",
      "\n",
      "   PUBMED   7545954\n",
      "\n",
      "REFERENCE   11 (bases 1 to 7152)\n",
      "\n",
      "  AUTHORS   Mehta,P.A. and Ebens,C.\n",
      "\n",
      "  TITLE     Fanconi Anemia\n",
      "\n",
      "  JOURNAL   (in) Adam MP, Feldman J, Mirzaa GM, Pagon RA, Wallace SE and\n",
      "\n",
      "            Amemiya A (Eds.);\n",
      "\n",
      "            GENEREVIEWS(R);\n",
      "\n",
      "            (1993)\n",
      "\n",
      "   PUBMED   20301575\n",
      "\n",
      "REFERENCE   12 (bases 1 to 7152)\n",
      "\n",
      "  AUTHORS   Petrucelli,N., Daly,M.B. and Pal,T.\n",
      "\n",
      "  TITLE     BRCA1- and BRCA2-Associated Hereditary Breast and Ovarian Cancer\n",
      "\n",
      "  JOURNAL   (in) Adam MP, Feldman J, Mirzaa GM, Pagon RA, Wallace SE and\n",
      "\n",
      "            Amemiya A (Eds.);\n",
      "\n",
      "            GENEREVIEWS(R);\n",
      "\n",
      "            (1993)\n",
      "\n",
      "   PUBMED   20301425\n",
      "\n",
      "COMMENT     REVIEWED REFSEQ: This record has been curated by NCBI staff. The\n",
      "\n",
      "            reference sequence was derived from AC135721.4.\n",
      "\n",
      "            \n",
      "\n",
      "            On Jun 3, 2022 this sequence version replaced NR_027676.2.\n",
      "\n",
      "            \n",
      "\n",
      "            Summary: This gene encodes a 190 kD nuclear phosphoprotein that\n",
      "\n",
      "            plays a role in maintaining genomic stability, and it also acts as\n",
      "\n",
      "            a tumor suppressor. The BRCA1 gene contains 22 exons spanning about\n",
      "\n",
      "            110 kb of DNA. The encoded protein combines with other tumor\n",
      "\n",
      "            suppressors, DNA damage sensors, and signal transducers to form a\n",
      "\n",
      "            large multi-subunit protein complex known as the BRCA1-associated\n",
      "\n",
      "            genome surveillance complex (BASC). This gene product associates\n",
      "\n",
      "            with RNA polymerase II, and through the C-terminal domain, also\n",
      "\n",
      "            interacts with histone deacetylase complexes. This protein thus\n",
      "\n",
      "            plays a role in transcription, DNA repair of double-stranded\n",
      "\n",
      "            breaks, and recombination. Mutations in this gene are responsible\n",
      "\n",
      "            for approximately 40% of inherited breast cancers and more than 80%\n",
      "\n",
      "            of inherited breast and ovarian cancers. Alternative splicing plays\n",
      "\n",
      "            a role in modulating the subcellular localization and physiological\n",
      "\n",
      "            function of this gene. Many alternatively spliced transcript\n",
      "\n",
      "            variants, some of which are disease-associated mutations, have been\n",
      "\n",
      "            described for this gene, but the full-length natures of only some\n",
      "\n",
      "            of these variants has been described. A related pseudogene, which\n",
      "\n",
      "            is also located on chromosome 17, has been identified. [provided by\n",
      "\n",
      "            RefSeq, May 2020].\n",
      "\n",
      "            \n",
      "\n",
      "            Publication Note:  This RefSeq record includes a subset of the\n",
      "\n",
      "            publications that are available for this gene. Please see the Gene\n",
      "\n",
      "            record to access additional publications.\n",
      "\n",
      "            \n",
      "\n",
      "            ##Evidence-Data-START##\n",
      "\n",
      "            Transcript exon combination :: AF005068.1 [ECO:0000332]\n",
      "\n",
      "            RNAseq introns              :: mixed sample support SAMEA1965299,\n",
      "\n",
      "                                           SAMEA1966682 [ECO:0006172]\n",
      "\n",
      "            ##Evidence-Data-END##\n",
      "\n",
      "PRIMARY     REFSEQ_SPAN         PRIMARY_IDENTIFIER PRIMARY_SPAN        COMP\n",
      "\n",
      "            1-183               AC135721.4         34056-34238\n",
      "\n",
      "            184-282             AC135721.4         35305-35403\n",
      "\n",
      "            283-336             AC135721.4         43641-43694\n",
      "\n",
      "            337-392             AC135721.4         52887-52942\n",
      "\n",
      "            393-481             AC135721.4         54464-54552\n",
      "\n",
      "            482-621             AC135721.4         55159-55298\n",
      "\n",
      "            622-724             AC135721.4         59543-59645\n",
      "\n",
      "            725-770             AC135721.4         62131-62176\n",
      "\n",
      "            771-847             AC135721.4         63498-63574\n",
      "\n",
      "            848-4273            AC135721.4         64560-67985\n",
      "\n",
      "            4274-4362           AC135721.4         68388-68476\n",
      "\n",
      "            4363-4534           AC135721.4         76845-77016\n",
      "\n",
      "            4535-4661           AC135721.4         82806-82932\n",
      "\n",
      "            4662-4852           AC135721.4         84899-85089\n",
      "\n",
      "            4853-5163           AC135721.4         88182-88492\n",
      "\n",
      "            5164-5251           AC135721.4         91725-91812\n",
      "\n",
      "            5252-5329           AC135721.4         95469-95546\n",
      "\n",
      "            5330-5370           AC135721.4         96047-96087\n",
      "\n",
      "            5371-5454           AC135721.4         102285-102368\n",
      "\n",
      "            5455-5509           AC135721.4         108303-108357\n",
      "\n",
      "            5510-5583           AC135721.4         110226-110299\n",
      "\n",
      "            5584-5644           AC135721.4         111717-111777\n",
      "\n",
      "            5645-7152           AC135721.4         113618-115125\n",
      "\n",
      "FEATURES             Location/Qualifiers\n",
      "\n",
      "     source          1..7152\n",
      "\n",
      "                     /organism=\"Homo sapiens\"\n",
      "\n",
      "                     /mol_type=\"mRNA\"\n",
      "\n",
      "                     /db_xref=\"taxon:9606\"\n",
      "\n",
      "                     /chromosome=\"17\"\n",
      "\n",
      "                     /map=\"17q21.31\"\n",
      "\n",
      "     gene            1..7152\n",
      "\n",
      "                     /gene=\"BRCA1\"\n",
      "\n",
      "                     /gene_synonym=\"BRCAI; BRCC1; BROVCA1; FANCS; IRIS; PNCA4;\n",
      "\n",
      "                     PPP1R53; PSCP; RNF53\"\n",
      "\n",
      "                     /note=\"BRCA1 DNA repair associated\"\n",
      "\n",
      "                     /db_xref=\"GeneID:672\"\n",
      "\n",
      "                     /db_xref=\"HGNC:HGNC:1100\"\n",
      "\n",
      "                     /db_xref=\"MIM:113705\"\n",
      "\n",
      "     exon            1..183\n",
      "\n",
      "                     /gene=\"BRCA1\"\n",
      "\n",
      "                     /gene_synonym=\"BRCAI; BRCC1; BROVCA1; FANCS; IRIS; PNCA4;\n",
      "\n",
      "                     PPP1R53; PSCP; RNF53\"\n",
      "\n",
      "                     /inference=\"alignment:Splign:2.1.0\"\n",
      "\n",
      "     exon            184..282\n",
      "\n",
      "                     /gene=\"BRCA1\"\n",
      "\n",
      "                     /gene_synonym=\"BRCAI; BRCC1; BROVCA1; FANCS; IRIS; PNCA4;\n",
      "\n",
      "                     PPP1R53; PSCP; RNF53\"\n",
      "\n",
      "                     /inference=\"alignment:Splign:2.1.0\"\n",
      "\n",
      "     exon            283..336\n",
      "\n",
      "                     /gene=\"BRCA1\"\n",
      "\n",
      "                     /gene_synonym=\"BRCAI; BRCC1; BROVCA1; FANCS; IRIS; PNCA4;\n",
      "\n",
      "                     PPP1R53; PSCP; RNF53\"\n",
      "\n",
      "                     /inference=\"alignment:Splign:2.1.0\"\n",
      "\n",
      "     misc_feature    319..321\n",
      "\n",
      "                     /gene=\"BRCA1\"\n",
      "\n",
      "                     /gene_synonym=\"BRCAI; BRCC1; BROVCA1; FANCS; IRIS; PNCA4;\n",
      "\n",
      "                     PPP1R53; PSCP; RNF53\"\n",
      "\n",
      "                     /note=\"upstream in-frame stop codon\"\n",
      "\n",
      "     exon            337..392\n",
      "\n",
      "                     /gene=\"BRCA1\"\n",
      "\n",
      "                     /gene_synonym=\"BRCAI; BRCC1; BROVCA1; FANCS; IRIS; PNCA4;\n",
      "\n",
      "                     PPP1R53; PSCP; RNF53\"\n",
      "\n",
      "                     /inference=\"alignment:Splign:2.1.0\"\n",
      "\n",
      "     CDS             391..5769\n",
      "\n",
      "                     /gene=\"BRCA1\"\n",
      "\n",
      "                     /gene_synonym=\"BRCAI; BRCC1; BROVCA1; FANCS; IRIS; PNCA4;\n",
      "\n",
      "                     PPP1R53; PSCP; RNF53\"\n",
      "\n",
      "                     /EC_number=\"2.3.2.27\"\n",
      "\n",
      "                     /note=\"isoform 6 is encoded by transcript variant 6;\n",
      "\n",
      "                     BRCA1/BRCA2-containing complex, subunit 1; RING finger\n",
      "\n",
      "                     protein 53; breast cancer type 1 susceptibility protein;\n",
      "\n",
      "                     breast and ovarian cancer susceptibility protein 1;\n",
      "\n",
      "                     protein phosphatase 1, regulatory subunit 53; Fanconi\n",
      "\n",
      "                     anemia, complementation group S; early onset breast cancer\n",
      "\n",
      "                     1; breast cancer 1, early onset\"\n",
      "\n",
      "                     /codon_start=1\n",
      "\n",
      "                     /product=\"breast cancer type 1 susceptibility protein\n",
      "\n",
      "                     isoform 6\"\n",
      "\n",
      "                     /protein_id=\"NP_001394500.1\"\n",
      "\n",
      "                     /db_xref=\"GeneID:672\"\n",
      "\n",
      "                     /db_xref=\"HGNC:HGNC:1100\"\n",
      "\n",
      "                     /db_xref=\"MIM:113705\"\n",
      "\n",
      "                     /translation=\"MSLQESTRFSQLVEELLKIICAFQLDTGLEYANSYNFAKKENNS\n",
      "\n",
      "                     PEHLKDEVSIIQSMGYRNRAKRLLQSEPENPSLETSLSVQLSNLGTVRTLRTKQRIQP\n",
      "\n",
      "                     QKTSVYIELGSDSSEDTVNKATYCSVGDQELLQITPQGTRDEISLDSAKKAACEFSET\n",
      "\n",
      "                     DVTNTEHHQPSNNDLNTTEKRAAERHPEKYQGSSVSNLHVEPCGTNTHASSLQHENSS\n",
      "\n",
      "                     LLLTKDRMNVEKAEFCNKSKQPGLARSQHNRWAGSKETCNDRRTPSTEKKVDLNADPL\n",
      "\n",
      "                     CERKEWNKQKLPCSENPRDTEDVPWITLNSSIQKVNEWFSRSDELLGSDDSHDGESES\n",
      "\n",
      "                     NAKVADVLDVLNEVDEYSGSSEKIDLLASDPHEALICKSERVHSKSVESNIEDKIFGK\n",
      "\n",
      "                     TYRKKASLPNLSHVTENLIIGAFVTEPQIIQERPLTNKLKRKRRPTSGLHPEDFIKKA\n",
      "\n",
      "                     DLAVQKTPEMINQGTNQTEQNGQVMNITNSGHENKTKGDSIQNEKNPNPIESLEKESA\n",
      "\n",
      "                     FKTKAEPISSSISNMELELNIHNSKAPKKNRLRRKSSTRHIHALELVVSRNLSPPNCT\n",
      "\n",
      "                     ELQIDSCSSSEEIKKKKYNQMPVRHSRNLQLMEGKEPATGAKKSNKPNEQTSKRHDSD\n",
      "\n",
      "                     TFPELKLTNAPGSFTKCSNTSELKEFVNPSLPREEKEEKLETVKVSNNAEDPKDLMLS\n",
      "\n",
      "                     GERVLQTERSVESSSISLVPGTDYGTQESISLLEVSTLGKAKTEPNKCVSQCAAFENP\n",
      "\n",
      "                     KGLIHGCSKDNRNDTEGFKYPLGHEVNHSRETSIEMEESELDAQYLQNTFKVSKRQSF\n",
      "\n",
      "                     APFSNPGNAEEECATFSAHSGSLKKQSPKVTFECEQKEENQGKNESNIKPVQTVNITA\n",
      "\n",
      "                     GFPVVGQKDKPVDNAKCSIKGGSRFCLSSQFRGNETGLITPNKHGLLQNPYRIPPLFP\n",
      "\n",
      "                     IKSFVKTKCKKNLLEENFEEHSMSPEREMGNENIPSTVSTISRNNIRENVFKEASSSN\n",
      "\n",
      "                     INEVGSSTNEVGSSINEIGSSDENIQAELGRNRGPKLNAMLRLGVLQPEVYKQSLPGS\n",
      "\n",
      "                     NCKHPEIKKQEYEEVVQTVNTDFSPYLISDNLEQPMGSSHASQVCSETPDDLLDDGEI\n",
      "\n",
      "                     KEDTSFAENDIKESSAVFSKSVQKGELSRSPSPFTHTHLAQGYRRGAKKLESSEENLS\n",
      "\n",
      "                     SEDEELPCFQHLLFGKVNNIPSQSTRHSTVATECLSKNTEENLLSLKNSLNDCSNQVI\n",
      "\n",
      "                     LAKASQEHHLSEETKCSASLFSSQCSELEDLTANTNTQDPFLIGSSKQMRHQSESQGV\n",
      "\n",
      "                     GLSDKELVSDDEERGTGLEENNQEEQSMDSNLGEAASGCESETSVSEDCSGLSSQSDI\n",
      "\n",
      "                     LTTQQRDTMQHNLIKLQQEMAELEAVLEQHGSQPSNSYPSIISDSSALEDLRNPEQST\n",
      "\n",
      "                     SEKAVLTSQKSSEYPISQNPEGLSADKFEVSADSSTSKNKEPGVERSSPSKCPSLDDR\n",
      "\n",
      "                     WYMHSCSGSLQNRNYPSQEELIKVVDVEEQQLEESGPHDLTETSYLPRQDLEGTPYLE\n",
      "\n",
      "                     SGISLFSDDPESDPSEDRAPESARVGNIPSSTSALKVPQLKVAESAQSPAAAHTTDTA\n",
      "\n",
      "                     GYNAMEESVSREKPELTASTERVNKRMSMVVSGLTPEEFMLVYKFARKHHITLTNLIT\n",
      "\n",
      "                     EETTHVVMKTDAEFVCERTLKYFLGIAGGKWVVSYFWVTQSIKERKMLNEHDFEVRGD\n",
      "\n",
      "                     VVNGRNHQGPKRARESQDRKIFRGLEICCYGPFTNMPTDQLEWMVQLCGASVVKELSS\n",
      "\n",
      "                     FTLGTGVHPIVVVQPDAWTEDNGFHAIGQMCEAPVVTREWVLDSVALYQCQELDTYLI\n",
      "\n",
      "                     PQIPHSHY\"\n",
      "\n",
      "     exon            393..481\n",
      "\n",
      "                     /gene=\"BRCA1\"\n",
      "\n",
      "                     /gene_synonym=\"BRCAI; BRCC1; BROVCA1; FANCS; IRIS; PNCA4;\n",
      "\n",
      "                     PPP1R53; PSCP; RNF53\"\n",
      "\n",
      "                     /inference=\"alignment:Splign:2.1.0\"\n",
      "\n",
      "     exon            482..621\n",
      "\n",
      "                     /gene=\"BRCA1\"\n",
      "\n",
      "                     /gene_synonym=\"BRCAI; BRCC1; BROVCA1; FANCS; IRIS; PNCA4;\n",
      "\n",
      "                     PPP1R53; PSCP; RNF53\"\n",
      "\n",
      "                     /inference=\"alignment:Splign:2.1.0\"\n",
      "\n",
      "     exon            622..724\n",
      "\n",
      "                     /gene=\"BRCA1\"\n",
      "\n",
      "                     /gene_synonym=\"BRCAI; BRCC1; BROVCA1; FANCS; IRIS; PNCA4;\n",
      "\n",
      "                     PPP1R53; PSCP; RNF53\"\n",
      "\n",
      "                     /inference=\"alignment:Splign:2.1.0\"\n",
      "\n",
      "     exon            725..770\n",
      "\n",
      "                     /gene=\"BRCA1\"\n",
      "\n",
      "                     /gene_synonym=\"BRCAI; BRCC1; BROVCA1; FANCS; IRIS; PNCA4;\n",
      "\n",
      "                     PPP1R53; PSCP; RNF53\"\n",
      "\n",
      "                     /inference=\"alignment:Splign:2.1.0\"\n",
      "\n",
      "     exon            771..847\n",
      "\n",
      "                     /gene=\"BRCA1\"\n",
      "\n",
      "                     /gene_synonym=\"BRCAI; BRCC1; BROVCA1; FANCS; IRIS; PNCA4;\n",
      "\n",
      "                     PPP1R53; PSCP; RNF53\"\n",
      "\n",
      "                     /inference=\"alignment:Splign:2.1.0\"\n",
      "\n",
      "     exon            848..4273\n",
      "\n",
      "                     /gene=\"BRCA1\"\n",
      "\n",
      "                     /gene_synonym=\"BRCAI; BRCC1; BROVCA1; FANCS; IRIS; PNCA4;\n",
      "\n",
      "                     PPP1R53; PSCP; RNF53\"\n",
      "\n",
      "                     /inference=\"alignment:Splign:2.1.0\"\n",
      "\n",
      "     exon            4274..4362\n",
      "\n",
      "                     /gene=\"BRCA1\"\n",
      "\n",
      "                     /gene_synonym=\"BRCAI; BRCC1; BROVCA1; FANCS; IRIS; PNCA4;\n",
      "\n",
      "                     PPP1R53; PSCP; RNF53\"\n",
      "\n",
      "                     /inference=\"alignment:Splign:2.1.0\"\n",
      "\n",
      "     exon            4363..4534\n",
      "\n",
      "                     /gene=\"BRCA1\"\n",
      "\n",
      "                     /gene_synonym=\"BRCAI; BRCC1; BROVCA1; FANCS; IRIS; PNCA4;\n",
      "\n",
      "                     PPP1R53; PSCP; RNF53\"\n",
      "\n",
      "                     /inference=\"alignment:Splign:2.1.0\"\n",
      "\n",
      "     exon            4535..4661\n",
      "\n",
      "                     /gene=\"BRCA1\"\n",
      "\n",
      "                     /gene_synonym=\"BRCAI; BRCC1; BROVCA1; FANCS; IRIS; PNCA4;\n",
      "\n",
      "                     PPP1R53; PSCP; RNF53\"\n",
      "\n",
      "                     /inference=\"alignment:Splign:2.1.0\"\n",
      "\n",
      "     exon            4662..4852\n",
      "\n",
      "                     /gene=\"BRCA1\"\n",
      "\n",
      "                     /gene_synonym=\"BRCAI; BRCC1; BROVCA1; FANCS; IRIS; PNCA4;\n",
      "\n",
      "                     PPP1R53; PSCP; RNF53\"\n",
      "\n",
      "                     /inference=\"alignment:Splign:2.1.0\"\n",
      "\n",
      "     exon            4853..5163\n",
      "\n",
      "                     /gene=\"BRCA1\"\n",
      "\n",
      "                     /gene_synonym=\"BRCAI; BRCC1; BROVCA1; FANCS; IRIS; PNCA4;\n",
      "\n",
      "                     PPP1R53; PSCP; RNF53\"\n",
      "\n",
      "                     /inference=\"alignment:Splign:2.1.0\"\n",
      "\n",
      "     exon            5164..5251\n",
      "\n",
      "                     /gene=\"BRCA1\"\n",
      "\n",
      "                     /gene_synonym=\"BRCAI; BRCC1; BROVCA1; FANCS; IRIS; PNCA4;\n",
      "\n",
      "                     PPP1R53; PSCP; RNF53\"\n",
      "\n",
      "                     /inference=\"alignment:Splign:2.1.0\"\n",
      "\n",
      "     exon            5252..5329\n",
      "\n",
      "                     /gene=\"BRCA1\"\n",
      "\n",
      "                     /gene_synonym=\"BRCAI; BRCC1; BROVCA1; FANCS; IRIS; PNCA4;\n",
      "\n",
      "                     PPP1R53; PSCP; RNF53\"\n",
      "\n",
      "                     /inference=\"alignment:Splign:2.1.0\"\n",
      "\n",
      "     exon            5330..5370\n",
      "\n",
      "                     /gene=\"BRCA1\"\n",
      "\n",
      "                     /gene_synonym=\"BRCAI; BRCC1; BROVCA1; FANCS; IRIS; PNCA4;\n",
      "\n",
      "                     PPP1R53; PSCP; RNF53\"\n",
      "\n",
      "                     /inference=\"alignment:Splign:2.1.0\"\n",
      "\n",
      "     exon            5371..5454\n",
      "\n",
      "                     /gene=\"BRCA1\"\n",
      "\n",
      "                     /gene_synonym=\"BRCAI; BRCC1; BROVCA1; FANCS; IRIS; PNCA4;\n",
      "\n",
      "                     PPP1R53; PSCP; RNF53\"\n",
      "\n",
      "                     /inference=\"alignment:Splign:2.1.0\"\n",
      "\n",
      "     exon            5455..5509\n",
      "\n",
      "                     /gene=\"BRCA1\"\n",
      "\n",
      "                     /gene_synonym=\"BRCAI; BRCC1; BROVCA1; FANCS; IRIS; PNCA4;\n",
      "\n",
      "                     PPP1R53; PSCP; RNF53\"\n",
      "\n",
      "                     /inference=\"alignment:Splign:2.1.0\"\n",
      "\n",
      "     exon            5510..5583\n",
      "\n",
      "                     /gene=\"BRCA1\"\n",
      "\n",
      "                     /gene_synonym=\"BRCAI; BRCC1; BROVCA1; FANCS; IRIS; PNCA4;\n",
      "\n",
      "                     PPP1R53; PSCP; RNF53\"\n",
      "\n",
      "                     /inference=\"alignment:Splign:2.1.0\"\n",
      "\n",
      "     exon            5584..5644\n",
      "\n",
      "                     /gene=\"BRCA1\"\n",
      "\n",
      "                     /gene_synonym=\"BRCAI; BRCC1; BROVCA1; FANCS; IRIS; PNCA4;\n",
      "\n",
      "                     PPP1R53; PSCP; RNF53\"\n",
      "\n",
      "                     /inference=\"alignment:Splign:2.1.0\"\n",
      "\n",
      "     exon            5645..7152\n",
      "\n",
      "                     /gene=\"BRCA1\"\n",
      "\n",
      "                     /gene_synonym=\"BRCAI; BRCC1; BROVCA1; FANCS; IRIS; PNCA4;\n",
      "\n",
      "                     PPP1R53; PSCP; RNF53\"\n",
      "\n",
      "                     /inference=\"alignment:Splign:2.1.0\"\n",
      "\n",
      "     regulatory      7127..7132\n",
      "\n",
      "                     /regulatory_class=\"polyA_signal_sequence\"\n",
      "\n",
      "                     /gene=\"BRCA1\"\n",
      "\n",
      "                     /gene_synonym=\"BRCAI; BRCC1; BROVCA1; FANCS; IRIS; PNCA4;\n",
      "\n",
      "                     PPP1R53; PSCP; RNF53\"\n",
      "\n",
      "                     /note=\"hexamer: AATAAA\"\n",
      "\n",
      "     polyA_site      7152\n",
      "\n",
      "                     /gene=\"BRCA1\"\n",
      "\n",
      "                     /gene_synonym=\"BRCAI; BRCC1; BROVCA1; FANCS; IRIS; PNCA4;\n",
      "\n",
      "                     PPP1R53; PSCP; RNF53\"\n",
      "\n",
      "                     /note=\"major polyA site\"\n",
      "\n",
      "ORIGIN      \n",
      "\n",
      "        1 gctgagactt cctggacggg ggacaggctg tggggtttct cagataactg ggcccctgcg\n",
      "\n",
      "       61 ctcaggaggc cttcaccctc tgctctgggt aaaggtagta gagtcccggg aaagggacag\n",
      "\n",
      "      121 ggggcccaag tgatgctctg gggtactggc gtgggagagt ggatttccga agctgacaga\n",
      "\n",
      "      181 tggttcattg gaacagaaag aaatggattt atctgctctt cgcgttgaag aagtacaaaa\n",
      "\n",
      "      241 tgtcattaat gctatgcaga aaatcttaga gtgtcccatc tgtctggagt tgatcaagga\n",
      "\n",
      "      301 acctgtctcc acaaagtgtg accacatatt ttgcaaattt tgcatgctga aacttctcaa\n",
      "\n",
      "      361 ccagaagaaa gggccttcac agtgtccttt atgagcctac aagaaagtac gagatttagt\n",
      "\n",
      "      421 caacttgttg aagagctatt gaaaatcatt tgtgcttttc agcttgacac aggtttggag\n",
      "\n",
      "      481 tatgcaaaca gctataattt tgcaaaaaag gaaaataact ctcctgaaca tctaaaagat\n",
      "\n",
      "      541 gaagtttcta tcatccaaag tatgggctac agaaaccgtg ccaaaagact tctacagagt\n",
      "\n",
      "      601 gaacccgaaa atccttcctt ggaaaccagt ctcagtgtcc aactctctaa ccttggaact\n",
      "\n",
      "      661 gtgagaactc tgaggacaaa gcagcggata caacctcaaa agacgtctgt ctacattgaa\n",
      "\n",
      "      721 ttgggatctg attcttctga agataccgtt aataaggcaa cttattgcag tgtgggagat\n",
      "\n",
      "      781 caagaattgt tacaaatcac ccctcaagga accagggatg aaatcagttt ggattctgca\n",
      "\n",
      "      841 aaaaaggctg cttgtgaatt ttctgagacg gatgtaacaa atactgaaca tcatcaaccc\n",
      "\n",
      "      901 agtaataatg atttgaacac cactgagaag cgtgcagctg agaggcatcc agaaaagtat\n",
      "\n",
      "      961 cagggtagtt ctgtttcaaa cttgcatgtg gagccatgtg gcacaaatac tcatgccagc\n",
      "\n",
      "     1021 tcattacagc atgagaacag cagtttatta ctcactaaag acagaatgaa tgtagaaaag\n",
      "\n",
      "     1081 gctgaattct gtaataaaag caaacagcct ggcttagcaa ggagccaaca taacagatgg\n",
      "\n",
      "     1141 gctggaagta aggaaacatg taatgatagg cggactccca gcacagaaaa aaaggtagat\n",
      "\n",
      "     1201 ctgaatgctg atcccctgtg tgagagaaaa gaatggaata agcagaaact gccatgctca\n",
      "\n",
      "     1261 gagaatccta gagatactga agatgttcct tggataacac taaatagcag cattcagaaa\n",
      "\n",
      "     1321 gttaatgagt ggttttccag aagtgatgaa ctgttaggtt ctgatgactc acatgatggg\n",
      "\n",
      "     1381 gagtctgaat caaatgccaa agtagctgat gtattggacg ttctaaatga ggtagatgaa\n",
      "\n",
      "     1441 tattctggtt cttcagagaa aatagactta ctggccagtg atcctcatga ggctttaata\n",
      "\n",
      "     1501 tgtaaaagtg aaagagttca ctccaaatca gtagagagta atattgaaga caaaatattt\n",
      "\n",
      "     1561 gggaaaacct atcggaagaa ggcaagcctc cccaacttaa gccatgtaac tgaaaatcta\n",
      "\n",
      "     1621 attataggag catttgttac tgagccacag ataatacaag agcgtcccct cacaaataaa\n",
      "\n",
      "     1681 ttaaagcgta aaaggagacc tacatcaggc cttcatcctg aggattttat caagaaagca\n",
      "\n",
      "     1741 gatttggcag ttcaaaagac tcctgaaatg ataaatcagg gaactaacca aacggagcag\n",
      "\n",
      "     1801 aatggtcaag tgatgaatat tactaatagt ggtcatgaga ataaaacaaa aggtgattct\n",
      "\n",
      "     1861 attcagaatg agaaaaatcc taacccaata gaatcactcg aaaaagaatc tgctttcaaa\n",
      "\n",
      "     1921 acgaaagctg aacctataag cagcagtata agcaatatgg aactcgaatt aaatatccac\n",
      "\n",
      "     1981 aattcaaaag cacctaaaaa gaataggctg aggaggaagt cttctaccag gcatattcat\n",
      "\n",
      "     2041 gcgcttgaac tagtagtcag tagaaatcta agcccaccta attgtactga attgcaaatt\n",
      "\n",
      "     2101 gatagttgtt ctagcagtga agagataaag aaaaaaaagt acaaccaaat gccagtcagg\n",
      "\n",
      "     2161 cacagcagaa acctacaact catggaaggt aaagaacctg caactggagc caagaagagt\n",
      "\n",
      "     2221 aacaagccaa atgaacagac aagtaaaaga catgacagcg atactttccc agagctgaag\n",
      "\n",
      "     2281 ttaacaaatg cacctggttc ttttactaag tgttcaaata ccagtgaact taaagaattt\n",
      "\n",
      "     2341 gtcaatccta gccttccaag agaagaaaaa gaagagaaac tagaaacagt taaagtgtct\n",
      "\n",
      "     2401 aataatgctg aagaccccaa agatctcatg ttaagtggag aaagggtttt gcaaactgaa\n",
      "\n",
      "     2461 agatctgtag agagtagcag tatttcattg gtacctggta ctgattatgg cactcaggaa\n",
      "\n",
      "     2521 agtatctcgt tactggaagt tagcactcta gggaaggcaa aaacagaacc aaataaatgt\n",
      "\n",
      "     2581 gtgagtcagt gtgcagcatt tgaaaacccc aagggactaa ttcatggttg ttccaaagat\n",
      "\n",
      "     2641 aatagaaatg acacagaagg ctttaagtat ccattgggac atgaagttaa ccacagtcgg\n",
      "\n",
      "     2701 gaaacaagca tagaaatgga agaaagtgaa cttgatgctc agtatttgca gaatacattc\n",
      "\n",
      "     2761 aaggtttcaa agcgccagtc atttgctccg ttttcaaatc caggaaatgc agaagaggaa\n",
      "\n",
      "     2821 tgtgcaacat tctctgccca ctctgggtcc ttaaagaaac aaagtccaaa agtcactttt\n",
      "\n",
      "     2881 gaatgtgaac aaaaggaaga aaatcaagga aagaatgagt ctaatatcaa gcctgtacag\n",
      "\n",
      "     2941 acagttaata tcactgcagg ctttcctgtg gttggtcaga aagataagcc agttgataat\n",
      "\n",
      "     3001 gccaaatgta gtatcaaagg aggctctagg ttttgtctat catctcagtt cagaggcaac\n",
      "\n",
      "     3061 gaaactggac tcattactcc aaataaacat ggacttttac aaaacccata tcgtatacca\n",
      "\n",
      "     3121 ccactttttc ccatcaagtc atttgttaaa actaaatgta agaaaaatct gctagaggaa\n",
      "\n",
      "     3181 aactttgagg aacattcaat gtcacctgaa agagaaatgg gaaatgagaa cattccaagt\n",
      "\n",
      "     3241 acagtgagca caattagccg taataacatt agagaaaatg tttttaaaga agccagctca\n",
      "\n",
      "     3301 agcaatatta atgaagtagg ttccagtact aatgaagtgg gctccagtat taatgaaata\n",
      "\n",
      "     3361 ggttccagtg atgaaaacat tcaagcagaa ctaggtagaa acagagggcc aaaattgaat\n",
      "\n",
      "     3421 gctatgctta gattaggggt tttgcaacct gaggtctata aacaaagtct tcctggaagt\n",
      "\n",
      "     3481 aattgtaagc atcctgaaat aaaaaagcaa gaatatgaag aagtagttca gactgttaat\n",
      "\n",
      "     3541 acagatttct ctccatatct gatttcagat aacttagaac agcctatggg aagtagtcat\n",
      "\n",
      "     3601 gcatctcagg tttgttctga gacacctgat gacctgttag atgatggtga aataaaggaa\n",
      "\n",
      "     3661 gatactagtt ttgctgaaaa tgacattaag gaaagttctg ctgtttttag caaaagcgtc\n",
      "\n",
      "     3721 cagaaaggag agcttagcag gagtcctagc cctttcaccc atacacattt ggctcagggt\n",
      "\n",
      "     3781 taccgaagag gggccaagaa attagagtcc tcagaagaga acttatctag tgaggatgaa\n",
      "\n",
      "     3841 gagcttccct gcttccaaca cttgttattt ggtaaagtaa acaatatacc ttctcagtct\n",
      "\n",
      "     3901 actaggcata gcaccgttgc taccgagtgt ctgtctaaga acacagagga gaatttatta\n",
      "\n",
      "     3961 tcattgaaga atagcttaaa tgactgcagt aaccaggtaa tattggcaaa ggcatctcag\n",
      "\n",
      "     4021 gaacatcacc ttagtgagga aacaaaatgt tctgctagct tgttttcttc acagtgcagt\n",
      "\n",
      "     4081 gaattggaag acttgactgc aaatacaaac acccaggatc ctttcttgat tggttcttcc\n",
      "\n",
      "     4141 aaacaaatga ggcatcagtc tgaaagccag ggagttggtc tgagtgacaa ggaattggtt\n",
      "\n",
      "     4201 tcagatgatg aagaaagagg aacgggcttg gaagaaaata atcaagaaga gcaaagcatg\n",
      "\n",
      "     4261 gattcaaact taggtgaagc agcatctggg tgtgagagtg aaacaagcgt ctctgaagac\n",
      "\n",
      "     4321 tgctcagggc tatcctctca gagtgacatt ttaaccactc agcagaggga taccatgcaa\n",
      "\n",
      "     4381 cataacctga taaagctcca gcaggaaatg gctgaactag aagctgtgtt agaacagcat\n",
      "\n",
      "     4441 gggagccagc cttctaacag ctacccttcc atcataagtg actcttctgc ccttgaggac\n",
      "\n",
      "     4501 ctgcgaaatc cagaacaaag cacatcagaa aaagcagtat taacttcaca gaaaagtagt\n",
      "\n",
      "     4561 gaatacccta taagccagaa tccagaaggc ctttctgctg acaagtttga ggtgtctgca\n",
      "\n",
      "     4621 gatagttcta ccagtaaaaa taaagaacca ggagtggaaa ggtcatcccc ttctaaatgc\n",
      "\n",
      "     4681 ccatcattag atgataggtg gtacatgcac agttgctctg ggagtcttca gaatagaaac\n",
      "\n",
      "     4741 tacccatctc aagaggagct cattaaggtt gttgatgtgg aggagcaaca gctggaagag\n",
      "\n",
      "     4801 tctgggccac acgatttgac ggaaacatct tacttgccaa ggcaagatct agagggaacc\n",
      "\n",
      "     4861 ccttacctgg aatctggaat cagcctcttc tctgatgacc ctgaatctga tccttctgaa\n",
      "\n",
      "     4921 gacagagccc cagagtcagc tcgtgttggc aacataccat cttcaacctc tgcattgaaa\n",
      "\n",
      "     4981 gttccccaat tgaaagttgc agaatctgcc cagagtccag ctgctgctca tactactgat\n",
      "\n",
      "     5041 actgctgggt ataatgcaat ggaagaaagt gtgagcaggg agaagccaga attgacagct\n",
      "\n",
      "     5101 tcaacagaaa gggtcaacaa aagaatgtcc atggtggtgt ctggcctgac cccagaagaa\n",
      "\n",
      "     5161 tttatgctcg tgtacaagtt tgccagaaaa caccacatca ctttaactaa tctaattact\n",
      "\n",
      "     5221 gaagagacta ctcatgttgt tatgaaaaca gatgctgagt ttgtgtgtga acggacactg\n",
      "\n",
      "     5281 aaatattttc taggaattgc gggaggaaaa tgggtagtta gctatttctg ggtgacccag\n",
      "\n",
      "     5341 tctattaaag aaagaaaaat gctgaatgag catgattttg aagtcagagg agatgtggtc\n",
      "\n",
      "     5401 aatggaagaa accaccaagg tccaaagcga gcaagagaat cccaggacag aaagatcttc\n",
      "\n",
      "     5461 agggggctag aaatctgttg ctatgggccc ttcaccaaca tgcccacaga tcaactggaa\n",
      "\n",
      "     5521 tggatggtac agctgtgtgg tgcttctgtg gtgaaggagc tttcatcatt cacccttggc\n",
      "\n",
      "     5581 acaggtgtcc acccaattgt ggttgtgcag ccagatgcct ggacagagga caatggcttc\n",
      "\n",
      "     5641 catgcaattg ggcagatgtg tgaggcacct gtggtgaccc gagagtgggt gttggacagt\n",
      "\n",
      "     5701 gtagcactct accagtgcca ggagctggac acctacctga taccccagat cccccacagc\n",
      "\n",
      "     5761 cactactgac tgcagccagc cacaggtaca gagccacagg accccaagaa tgagcttaca\n",
      "\n",
      "     5821 aagtggcctt tccaggccct gggagctcct ctcactcttc agtccttcta ctgtcctggc\n",
      "\n",
      "     5881 tactaaatat tttatgtaca tcagcctgaa aaggacttct ggctatgcaa gggtccctta\n",
      "\n",
      "     5941 aagattttct gcttgaagtc tcccttggaa atctgccatg agcacaaaat tatggtaatt\n",
      "\n",
      "     6001 tttcacctga gaagatttta aaaccattta aacgccacca attgagcaag atgctgattc\n",
      "\n",
      "     6061 attatttatc agccctattc tttctattca ggctgttgtt ggcttagggc tggaagcaca\n",
      "\n",
      "     6121 gagtggcttg gcctcaagag aatagctggt ttccctaagt ttacttctct aaaaccctgt\n",
      "\n",
      "     6181 gttcacaaag gcagagagtc agacccttca atggaaggag agtgcttggg atcgattatg\n",
      "\n",
      "     6241 tgacttaaag tcagaatagt ccttgggcag ttctcaaatg ttggagtgga acattgggga\n",
      "\n",
      "     6301 ggaaattctg aggcaggtat tagaaatgaa aaggaaactt gaaacctggg catggtggct\n",
      "\n",
      "     6361 cacgcctgta atcccagcac tttgggaggc caaggtgggc agatcactgg aggtcaggag\n",
      "\n",
      "     6421 ttcgaaacca gcctggccaa catggtgaaa ccccatctct actaaaaata cagaaattag\n",
      "\n",
      "     6481 ccggtcatgg tggtggacac ctgtaatccc agctactcag gtggctaagg caggagaatc\n",
      "\n",
      "     6541 acttcagccc gggaggtgga ggttgcagtg agccaagatc ataccacggc actccagcct\n",
      "\n",
      "     6601 gggtgacagt gagactgtgg ctcaaaaaaa aaaaaaaaaa aaggaaaatg aaactagaag\n",
      "\n",
      "     6661 agatttctaa aagtctgaga tatatttgct agatttctaa agaatgtgtt ctaaaacagc\n",
      "\n",
      "     6721 agaagatttt caagaaccgg tttccaaaga cagtcttcta attcctcatt agtaataagt\n",
      "\n",
      "     6781 aaaatgttta ttgttgtagc tctggtatat aatccattcc tcttaaaata taagacctct\n",
      "\n",
      "     6841 ggcatgaata tttcatatct ataaaatgac agatcccacc aggaaggaag ctgttgcttt\n",
      "\n",
      "     6901 ctttgaggtg atttttttcc tttgctccct gttgctgaaa ccatacagct tcataaataa\n",
      "\n",
      "     6961 ttttgcttgc tgaaggaaga aaaagtgttt ttcataaacc cattatccag gactgtttat\n",
      "\n",
      "     7021 agctgttgga aggactaggt cttccctagc ccccccagtg tgcaagggca gtgaagactt\n",
      "\n",
      "     7081 gattgtacaa aatacgtttt gtaaatgttg tgctgttaac actgcaaata aacttggtag\n",
      "\n",
      "     7141 caaacacttc ca\n",
      "\n",
      "//\n",
      "\n",
      "\n",
      "\n"
     ]
    }
   ],
   "source": [
    "abc=open(\"brca1.gb\",\"r\")\n",
    "pqr=abc.readlines()\n",
    "for i in pqr:\n",
    "    print(i)"
   ]
  },
  {
   "cell_type": "code",
   "execution_count": 75,
   "id": "560efd4f-d19e-41df-a5ad-93744e0a3443",
   "metadata": {},
   "outputs": [
    {
     "name": "stdout",
     "output_type": "stream",
     "text": [
      "exon            \n",
      "exon            \n",
      "exon            \n",
      "exon            \n",
      "exon            \n",
      "exon            \n",
      "exon            \n",
      "exon            \n",
      "exon            \n",
      "exon            \n",
      "exon            \n",
      "exon            \n",
      "exon            \n",
      "exon            \n",
      "exon            \n",
      "exon            \n",
      "exon            \n",
      "exon            \n",
      "exon            \n",
      "exon            \n",
      "exon            \n",
      "exon            \n",
      "exon            \n"
     ]
    },
    {
     "name": "stderr",
     "output_type": "stream",
     "text": [
      "<>:5: SyntaxWarning: invalid escape sequence '\\s'\n",
      "<>:5: SyntaxWarning: invalid escape sequence '\\s'\n",
      "C:\\Users\\sarod\\AppData\\Local\\Temp\\ipykernel_5704\\3611263140.py:5: SyntaxWarning: invalid escape sequence '\\s'\n",
      "  xyz=re.search(\"exon\\s{12}\",i)\n"
     ]
    }
   ],
   "source": [
    "import re\n",
    "abc=open(\"brca1.gb\",\"r\")\n",
    "pqr=abc.readlines()\n",
    "for i in pqr:\n",
    "    xyz=re.search(\"exon\\s{12}\",i)\n",
    "    if(xyz):\n",
    "        print(xyz.group())"
   ]
  },
  {
   "cell_type": "code",
   "execution_count": 76,
   "id": "e9e640f8-108c-432f-a22f-5c87c051da9d",
   "metadata": {},
   "outputs": [
    {
     "name": "stdout",
     "output_type": "stream",
     "text": [
      "exon            \n",
      "exon            \n",
      "exon            \n",
      "exon            \n",
      "exon            \n",
      "exon            \n",
      "exon            \n",
      "exon            \n",
      "exon            \n",
      "exon            \n",
      "exon            \n",
      "exon            \n",
      "exon            \n",
      "exon            \n",
      "exon            \n",
      "exon            \n",
      "exon            \n",
      "exon            \n",
      "exon            \n",
      "exon            \n",
      "exon            \n",
      "exon            \n",
      "exon            \n",
      "the number of exons in brca1 genbank file is: 23\n"
     ]
    },
    {
     "name": "stderr",
     "output_type": "stream",
     "text": [
      "<>:6: SyntaxWarning: invalid escape sequence '\\s'\n",
      "<>:6: SyntaxWarning: invalid escape sequence '\\s'\n",
      "C:\\Users\\sarod\\AppData\\Local\\Temp\\ipykernel_5704\\1929381220.py:6: SyntaxWarning: invalid escape sequence '\\s'\n",
      "  xyz=re.search(\"exon\\s{12}\",i)\n"
     ]
    }
   ],
   "source": [
    "import re\n",
    "abc=open(\"brca1.gb\",\"r\")\n",
    "pqr=abc.readlines()\n",
    "embs=0\n",
    "for i in pqr:\n",
    "    xyz=re.search(\"exon\\s{12}\",i)\n",
    "    if(xyz):\n",
    "        embs=embs+1\n",
    "        print(xyz.group())\n",
    "print(\"the number of exons in brca1 genbank file is:\", embs)\n",
    "        "
   ]
  },
  {
   "cell_type": "code",
   "execution_count": 78,
   "id": "dc083940-9869-4e7d-bceb-227f0670ea79",
   "metadata": {},
   "outputs": [
    {
     "name": "stdout",
     "output_type": "stream",
     "text": [
      "exon            1..183\n",
      "exon            184..282\n",
      "exon            283..336\n",
      "exon            337..392\n",
      "exon            393..481\n",
      "exon            482..621\n",
      "exon            622..724\n",
      "exon            725..770\n",
      "exon            771..847\n",
      "exon            848..4273\n",
      "exon            4274..4362\n",
      "exon            4363..4534\n",
      "exon            4535..4661\n",
      "exon            4662..4852\n",
      "exon            4853..5163\n",
      "exon            5164..5251\n",
      "exon            5252..5329\n",
      "exon            5330..5370\n",
      "exon            5371..5454\n",
      "exon            5455..5509\n",
      "exon            5510..5583\n",
      "exon            5584..5644\n",
      "exon            5645..7152\n",
      "the number of exons in brca1 genbank file is: 23\n"
     ]
    },
    {
     "name": "stderr",
     "output_type": "stream",
     "text": [
      "<>:6: SyntaxWarning: invalid escape sequence '\\s'\n",
      "<>:6: SyntaxWarning: invalid escape sequence '\\s'\n",
      "C:\\Users\\sarod\\AppData\\Local\\Temp\\ipykernel_5704\\1366002223.py:6: SyntaxWarning: invalid escape sequence '\\s'\n",
      "  xyz=re.search(\"exon\\s{12}\\d*.*\\d*\",i)\n"
     ]
    }
   ],
   "source": [
    "import re\n",
    "abc=open(\"brca1.gb\",\"r\")\n",
    "pqr=abc.readlines()\n",
    "embs=0\n",
    "for i in pqr:\n",
    "    xyz=re.search(\"exon\\s{12}\\d*.*\\d*\",i)\n",
    "    if(xyz):\n",
    "        embs=embs+1\n",
    "        print(xyz.group())\n",
    "print(\"the number of exons in brca1 genbank file is:\", embs)"
   ]
  },
  {
   "cell_type": "code",
   "execution_count": 82,
   "id": "2c13f96c-5f18-4361-ae33-b5a5bb8aa270",
   "metadata": {
    "scrolled": true
   },
   "outputs": [
    {
     "name": "stdout",
     "output_type": "stream",
     "text": [
      "R:\\embs\\Python\\multifasta\n",
      "R:\\embs\\Python\\multifasta\n"
     ]
    }
   ],
   "source": [
    "print(os.getcwd())\n",
    "os.chdir(\"R:\\\\embs\\\\Python\\\\multifasta\")\n",
    "print(os.getcwd())"
   ]
  },
  {
   "cell_type": "code",
   "execution_count": 84,
   "id": "d309bd2d-2fd2-4a9e-99d0-9608c5f31350",
   "metadata": {},
   "outputs": [
    {
     "name": "stdout",
     "output_type": "stream",
     "text": [
      "gene1.fasta\n",
      "gene2.fasta\n",
      "gene3.fasta\n"
     ]
    }
   ],
   "source": [
    "x=\"R:\\\\embs\\\\Python\\\\multifasta\"\n",
    "for i in os.listdir(x):\n",
    "    print(i)"
   ]
  },
  {
   "cell_type": "code",
   "execution_count": 94,
   "id": "910d6086-7943-4474-aa27-fcdd108efafb",
   "metadata": {},
   "outputs": [
    {
     "name": "stdout",
     "output_type": "stream",
     "text": [
      "['>HI968460.1 Sequence 16 from Patent EP2264171\\n', 'AGCTAAAAAGTATCAATCATATCGGATTTCTCTTGAGAATCCGATATGATTGATAC\\n', '\\n', '>HI968459.1 Sequence 15 from Patent EP2264171\\n', 'GATCGTATCAATCATATCGGATTCTCAAGAGAAATCCGATATGATTGATACTTTTT\\n', '\\n', '>HI968458.1 Sequence 8 from Patent EP2264171\\n', 'TGATCATCATTCAGGTAGTCAGCAT\\n', '\\n', '>HI968457.1 Sequence 7 from Patent EP2264171\\n', 'GCAGTCAATTTGATTCCAGGATT\\n', '\\n', '>HI968456.1 Sequence 6 from Patent EP2264171\\n', 'TCTTAGGGTCATCTGCATATAATTCCT\\n', '\\n', '>HI968455.1 Sequence 5 from Patent EP2264171\\n', 'CAGCCTGCAGCACGAGATC\\n', '\\n', '>NM_033425.5 Homo sapiens DIX domain containing 1 (DIXDC1), transcript variant 2, mRNA\\n', 'GACTCGAGGCGCAGCCTGCGCCGCCGGGAGCCTCCCTCCCAGTGGGAGATGGGTTGAGATGCCCCCGCCA\\n', 'GGGGGGATGCCCGGCACCGTGCGTCCGCGGAGGCCAAGATGCAGCGGCCAGGGGCCGGCAGCCTGCGAGG\\n', 'GGAGGCAGCTTCCGCCGGGGCCGGGCTGCTGCACAGTCTGAGCGGCCGGGACTGCGCGCTTCAGAGCCTG\\n', 'GAGCATCCCAGTCGCTGGGGCCGAGACGCCGCCGCCGCCGCCGTTCCCGCTTTCTCCCGCGAGCCGGGCC\\n', 'AGTAGCTTTGCTAGCTGGCCTTCCCGTGGAGGCGTTTTCCAGCCCCAGCGCGGGGAGACATGCCTGAATT\\n', 'TGGGAGCGATGTGACTCTCAGCCTCCCACTTCACCCGGGGACGCAGGCTTGCTGAAGCCCGAGACAGGAG\\n', 'GGGGACCATGGGAGGGACGCAAGTCAAATGCCTGACTTCACCCAGTCCAATCCACAGTGCAAAGAGCGAG\\n', 'TCCATTATAACCCAGTCAGAAGAGAAGGCAGATTTTGTGATTATTCCCGCTGAAGGAATAGAGAACAGAA\\n', 'CAGAAGGGACAGATTCTCCATTATCTCGAGACTGGCGGCCAGGGAGCCCTGGAACCTATCTGGAGACCTC\\n', 'ATGGGAAGAACAGCTGTTGGAACAACAAGAATATTTAGAAAAAGAAATGGAGGAAGCAAAGAAAATGATA\\n', 'TCAGGACTACAGGCCTTACTGCTCAATGGATCCTTACCTGAAGATGAACAGGAGAGGCCCTTGGCCCTCT\\n', 'GTGAACCAGGTGTCAATCCCGAGGAACAACTGATTATAATCCAAAGTCGTCTGGATCAGAGTATGGAGGA\\n', 'GAATCAGGACTTAAAGAAGGAACTGCTGAAATGTAAACAAGAAGCCAGAAACTTACAGGGGATAAAGGAT\\n', 'GCCTTGCAGCAGAGATTGACTCAGCAGGACACATCTGTTCTTCAGCTCAAACAAGAGCTACTGAGGGCAA\\n', 'ATATGGACAAAGATGAGCTGCACAACCAGAATGTGGATCTGCAGAGGAAGCTAGATGAGAGGAACCGGCT\\n', 'CTTGGGAGAATATAAAAAAGAGCTGGGGCAGAAGGATCGCCTTCTTCAGCAGCACCAGGCCAAGTTAGAA\\n', 'GAAGCACTCCGGAAACTCTCTGATGTCAGTTACCACCAGGTGGATCTAGAGCGAGAGCTAGAACACAAAG\\n', 'ATGTCCTCTTGGCTCACTGTATGAAAAGAGAGGCAGATGAGGCGACCAACTACAACAGTCACAACTCTCA\\n', 'AAGCAATGGTTTTCTCCTTCCAACGGCAGGAAAAGGAGCTACTTCAGTCAGCAACAGAGGGACCAGCGAC\\n', 'CTGCAGCTTGTTCGAGATGCTCTCCGCAGCCTGCGCAACAGCTTCAGTGGCCACGATCCTCAGCACCACA\\n', 'CTATTGACAGCTTGGAGCAGGGCATTTCTAGCCTCATGGAGCGCCTGCATGTTATGGAGACGCAGAAGAA\\n', 'ACAAGAAAGAAAGGTTCGGGTCAAGTCACCCAGAACTCAAGTAGGTAGTGAATACCGGGAGTCCTGGCCC\\n', 'CCTAACTCAAAGTTGCCTCACTCACAGAGCTCTCCAACTGTCAGCAGCACCTGTACTAAAGTGCTCTATT\\n', 'TCACTGACCGGTCACTTACGCCCTTCATGGTCAATATACCAAAGAGGTTGGAGGAGGTGACGTTAAAGGA\\n', 'TTTTAAAGCAGCTATTGATCGGGAAGGAAATCACCGGTATCACTTCAAAGCACTGGATCCTGAGTTTGGC\\n', 'ACTGTCAAAGAGGAGATTTTCCATGATGATGATGCCATCCCTGGATGGGAAGGGAAAATTGTAGCTTGGG\\n', 'TGGAAGAAGACCATGGAGAGAATTAATGCCAAGTATCAGATTGAGGGCTTATGGAACCTGGTCACTCCCT\\n', 'GGCTGCTTCACTCAGGAAAGGGAACTAAAACCAGAATACACTAAGAAGTTTCTAGTTTGTGTGCCAAAAC\\n', 'AGAAGCTTCTCCAAGCATGATGGCCACAGGTCAGTCCTCTTTCTGTGCCTGGCATATCTGGTACTTAAAA\\n', 'TTCTGTCCAAATGTAGACCATGGGTTCATCTGGAGTTCCTTGTCCGTGGGAACACAGTGTTCTATTCTAC\\n', 'TCTGAGGACAACAAACCGAAGGCCTTAAACGATGGGGATGGATGATCCCGCCTCTGTAGGGGCATGGCTG\\n', 'CTATTATCTGGAAATTAGGAATTGGATGCATCATTCCTGTGTGTTACAGTATTATTTTAATTGGCCTCAA\\n', 'TGGTTGCAGCAATCAGAGTCCCAGCGTTTGTACTCACAGACAAGGCAAAGGTACCAGCTTTTCTGTTTCT\\n', 'TTGAACCTACTGCAAACCAAGAATAACTCATGAGGTGGTACCAAAGATGAAAGCCCAGACTTCAGTAATC\\n', 'TTTTGAACCAGACGTGGATGGTGCTGAATTGTTGCTTGGATGGAAAAAGGGCTGCCCATGTTGTGCTACA\\n', 'CTATGCTAAAACTGTAATTTAGTAAGACCTTGGGCTGCCTCTTCTGTCTTAACTGGTTCTGCAGCTTGTC\\n', 'CTTTTGCCCACATAGGGCCTATTTCATGTACTGTTAGTTTTCTCTGGGGACTCTTTAACTTTAGAGCCAT\\n', 'TTCTTTTTCTTCAAACTGATGAACTTTTGTTTGAAAGGCATAAGGAGTGAAAAGCTCCTTGAAAATCCAG\\n', 'GCGGGTATGGAAAGGTGCTGCTACCCATATCTTTTTGACTTTCTTTGTTTCATGACTTTAACTCATGGCA\\n', 'TCTCCTTTGTAGTAAAAGGAGACAGACCATTAATTTCAGCATTTCTTTGTGATTTATAAGTACTGAGCAT\\n', 'GAAGTACTTGTCTGCCCCTCATTTCAAGGCCAGAGTTATTTTCTATTTATGTATTAGTCTAGGCTGATCT\\n', 'TTTAGGGCACAATAGAAACCATGGGGCGTGGAGCATGAGTTGTGAATGGCAGGGATCATTCTGGGTAAAA\\n', 'AAAACCTAGAATCATTTCTGATGTGCAACATTGTCAAGTGAAGAAGCTAACAGTTCAACTACCGAGATTA\\n', 'TTTGATAACCTGGGTTTTCTCATTCATCCATCAAGCACCATCAACCAGTCAGCCATTATTATTTATATAT\\n', 'GTATTACCAAAAGCAGTCTATCTGCCTGTGACCTCCAATGTACACTGCCAAACACAAGAGTAGGACACAT\\n', 'CTGTTCTGGGTTCTTGACCTATCTGTCTCCAATTCATCTCCCCTTTTCAGCCATTTCAACAAACTACTCT\\n', 'TTGGAGCTCTGAGATGACATCTTGTTGTTTTATATAGATGTATCTTTTAAAAATAGTTCACGTTTGGAGA\\n', 'ATTCTTTTGTACTCATTTGCTTTTTGTCTGAGAACCATGTCTATTTTTATAACTGGAGTGTGAGTTCTGT\\n', 'ATCTTCTCACATTCTGTATACTGTATCCATTTTCTAGAGAACCCAGTAGCTTTTATACAGTCTCTTCTTA\\n', 'CCACCCCTTGTGGTTTCAGAACAAGCTTTATTTTATTACGAGTATATTAATGACAACTAATTCCTGTTCC\\n', 'AATTCTACCTGTTTTAGTTGTGAAGGTAGTTTTGTGTAATCCAGTTGATTGCTCCTCTGGCAGAGAGAAG\\n', 'GAGCTCAAAAGATACTTGATGTCTTTCATGTAAGTTTACCTGGTCTTTTCCTATTGAAGAATTTTTCATC\\n', 'AGAAACGACTGGGAAAGTTTGGGAAAGTCAGCAAAAGAAAGAATGCATTTCGAAAGCAAACAGAAGAAAA\\n', 'AAGTATATTCTCACAGTTTTTCCCCAGGAAGTCTGGAGAAAAAGTCCTCATGTCACCAATTTCTCTGTTG\\n', 'CATGAATTTTAGTGTTTTGCTATAAGACAGCATGAGGGCTATCAGGCCAAAATTCATTATTGTATTTCCA\\n', 'ATACAGTTTGTCTTGAATGTCTGTCTCTTAAACCAGTTTTTACTTGTCAGTTTTCTCTCAGCAAACAGTC\\n', 'TTACTATTATGTGGAATTTAACTTTTCAGAGAAAATTTCCAAAGTCCTCTACCTTATTTGGCTTTTATCT\\n', 'GTGTCTTTTGGAAAAGGAGCTGCATGGCCTCAGTGCCTCCATAAAAAGCTTAAGTTGAGTTCATGGGAGA\\n', 'ACATTAAGATCGTTTTTTTTCCCTTTTAGCTCGGTAATCTCATGTACCACAGGTAATGACCAAGCATCTC\\n', 'TGCTAGAGGATGTAACTCTCATAACTCCTGTGTAAAATGAGGATCCTGTTGGTGATCCTCATTCCAGTTT\\n', 'CCAAAGCGAGAGGAGCCTTCTGAGCAGAAGTATGCAAGACTGATTCTGTTTGGAACAGTTTCCTATTTGG\\n', 'CTGCATTCTAGGAGGCCTCCTGACTTATTCATAGTATTGTCGCCTGGTGGCATTGGTGTGGGGTAGCTTG\\n', 'TCCTGCTACTTGCTAAAGTTCTCTTTCTTTGAGAAAACTGAGGAACCAGAATGCTTAGAGTTCATAAAAT\\n', 'AATCTCTAAACCATGTTAGGTTAAAACAAAATGACCATCTCACAAAAACGAGTTTAGTTGAATGCTCAAT\\n', 'TCCTTACAAAATCTTCATTTAAGGCTGAGTGTGGTGGCTCATGCCTGTAATTCCAGCACTTTGGGAGGCC\\n', 'GAGGCAGGAAGACTGCTTGAGCCCAGGAGTTCAAGACCAGCCTGGGCAACGTAGGAAGACTCCGTCTCTA\\n', 'CATAGAAATTTTATTATAAAAGTAGCTGGGGATGGTGGCACACACCTGTAGTCCCAGCTACTCAGGAGGT\\n', 'TGAGGTGGGAAGATTGCTTGAGCCCAGGAGTTTGAGGTTGCAGTGAGCTGATCATGCCACTGCACTCTAG\\n', 'CCTAGGCTACAGAGCAGGACCCCATCTCCAAAAAAAAAAAAAAAAAAGTCATTTAAAAACTGAAGAATGT\\n', 'TCTCTTCTTGCTCAGTTCCCTAAATTAGCTGGGGGGATTGGGATACTTTACAATTTTTACATTTTTAAAT\\n', 'TTGAAGAATTTGTTTTAAACTTACTTGGTAATGGCACTTCTACTTACTGACCAACTTTTCAGCTCTTTTT\\n', 'GACCAGGATGGTTGCAAATTAGGGAAAATATCTTTATACTATACATCCAATTCAAGAGGACTTTAATTAC\\n', 'TTAAAAGCATTTAGGTCATAATTAAAATTATTTTCACTGTTTCCATAAAATAAGCATTATGATTGCACAC\\n', 'TCCTTCTACTGTCTGAATTTATGTAAGAGGTATAGCTTGCTTAAAATACATATATATGTAAAGTTATATT\\n', 'TTCTTAGAAACATGGATGTTTACAGCCATTGCTTTCAAAGAGATTATTACTGTGTATTCTCCCTGTTTTA\\n', 'CAATATGTTTTCATGAAGACTATGTTACACCAGAGGCTTCTGATTATCAAAGTGATAACCAGTTTTAACT\\n', 'GCCGGTATGTACCAGATTTGTGAACTAATTTAAAAAACCACAAACTATGAATAAAATGGGGTTTGCAAAC\\n', 'TAAATATCATTAATGATTTTCACTTGCGTTTACTGATGAGATTAATCAATAAAGCCATTTACATTTAGTG\\n', 'AAA\\n', '\\n', '>NM_001278542.2 Homo sapiens DIX domain containing 1 (DIXDC1), transcript variant 3, mRNA\\n', 'AGAGCACTGGCAGGCCGAGCTCAGGAGGGCTGGGGACAGAGATGCTGAACCAGACGGACCCATCATTTAA\\n', 'GAGATGGCCCTGATTCGTCTCTTCTAGGGACTCTTGAAGATGGGGACCCAAGTGGTTATGAGATTCAATA\\n', 'ACTCCTTGCTGCCAACAGAGCCTTCTCAACAGCTGCAGGCCTATGTGGCCTGGGTGAATGCACAGCTGAA\\n', 'GAAGAGGCCAGCAGTGAAGCCTGTGCAGGACCTGCGACAAGATCTCCGGGATGGGGTGATCCTGGCATAT\\n', 'CTCATCGAGATTGTTGCAGGAGAAAAGCTGAGTGGGGTACAGCTGAGTCCCGGTAACCAACAGGAGATGA\\n', 'AGAATAATGTGGAGAAAGTGCTACAGTTTGTGGCCTCTAAAAAGATTCGTATGCACCAGACTTCGGCTAA\\n', 'AGATATTGTGGATGGAAACCTGAAGTCTATCATGAGGCTGGTCCTTGCCTTGGCAGCTCATTTCAAACCT\\n', 'GGCTCCAGCAGGACGGTGAACCAAGGACGGGACTCCAGAGCCCCTCTGCAAAGTCACCGACCACACTGTG\\n', 'CCACTGCTGTTGCCCAGGGAGCAGCTGCTGCTCTGGCCGATGTGTGTCATGACATGTCCCGATCAGGACG\\n', 'GGATGTCTTTCGATATAGACAGAGGAACAGCAGCATGGATGAGGAAATTGAGAATCCATACTGGAGTGTG\\n', 'CGGGCCCTAGTGCAGCAGTACGAAGGGCAACAAAGGTCCCCGTCTGAATCCAGCTGCTCCAGGTAACTGT\\n', 'GGCCTCTGAAACCTGAATTCTGGAGGATTCTCGGAGTTCTCGGCTTCAAGTAACAATACAACAAGCAAAA\\n', 'AGGCACCTAAGCCCTTTTTCTCCCCTCAGTTTATGTTTGGCTTTAAAGGGATACCCCTTAGCAGTGCTTT\\n', 'GTGGGTTTGTGCTAGTAGGAGGGTAGGAAGGTAGGGTGGGGTGCTGGTTTATTTCCCACAAATGGAATCT\\n', 'GTGCAGTCCCAGTGCCAGTGCTTAACTGTGACCACATGGGGGCATGGCTGGAACCTGTCAGGGCCCAGTC\\n', 'CAGTGGTTCTGACATTTGCATATGAGGTGCCAGTGTTTATGATAGCCAGTTCCATTGTGCTGTCCTTGAG\\n', 'CCTAAGTGTAACTCTTAAGGCCGGAAAAGTCTGTGTAAAGCTCATAGAAGAGAAGAAATTGAGCAGAGTT\\n', 'GTCTTAGAGCATTAGAATGTTTCCAACTTTCCTCTACAGGAACTGTGGCTGATTAGTATGTGTTTGAGCA\\n', 'AACTAATGATGTTTGCGACTCTAGCTAAAAGTTGTGTGTATCCTTTAGAGCCAAGTACAGAGACCAAAAC\\n', 'AGGATACAGTGCCCTAATAAAAACCTTATCAGTGGCAGAAAAAAGATTACTTTACTGGCTCATGTAAATT\\n', 'GTGCTTCTATAAACACTCCCCAGATCATGTTTTTACTAACTTCATTTTGTTGCTGAATCATAATTTATGC\\n', 'TCTAATGACCTTTTCTTTCCTATCCCAACCCTGTGTAATCTGCTCTATTTAGGGCTAATTGTTCCTTGTC\\n', 'TTGTATGTATGTTATGTGTCCTTGTTTTCTTCCTCCTATTTTTTTCTCATAAAACTCCATCCTATTTTAA\\n', 'TGCACATTTCCTAATTTATTGAGGTCATATGGAACTCTTTCTAGTATTTTAATATACTGGTAAACTTGCT\\n', 'AACTTTTTACCTTTTTTACATTTAATAGCTGTGCTCTTTCTTACTTATAAAATTCACATAACATAAAATT\\n', 'AACCATTAAACATTATAAAGTGTACAA\\n', '\\n', '>NM_001037954.4 Homo sapiens DIX domain containing 1 (DIXDC1), transcript variant 1, mRNA\\n', 'AGTTTGGCTCCAGTCTAGGTTTCCAGTAAGTGGCATGCGGGACTCCGGAGGGATCCCAATGAGCTGAGCC\\n', 'GAGAGCCTTTGTGTGCAGAGGGAGGAGGAGGAGGCGGCGGCGGCCGCCGGGCTGGAGACCCCGCCCGGGG\\n', 'AGCCCCCAGCAGGAACAATGCTAGCCTGCCTGACCCGAGGGAACTTACTGGACGTCCTGCAGGAGGGCTT\\n', 'CAATGAGCAACAGCTGCAGGCCTATGTGGCCTGGGTGAATGCACAGCTGAAGAAGAGGCCAGCAGTGAAG\\n', 'CCTGTGCAGGACCTGCGACAAGATCTCCGGGATGGGGTGATCCTGGCATATCTCATCGAGATTGTTGCAG\\n', 'GAGAAAAGCTGAGTGGGGTACAGCTGAGTCCCGGTAACCAACAGGAGATGAAGAATAATGTGGAGAAAGT\\n', 'GCTACAGTTTGTGGCCTCTAAAAAGATTCGTATGCACCAGACTTCGGCTAAAGATATTGTGGATGGAAAC\\n', 'CTGAAGTCTATCATGAGGCTGGTCCTTGCCTTGGCAGCTCATTTCAAACCTGGCTCCAGCAGGACGGTGA\\n', 'ACCAAGGACGGGACTCCAGAGCCCCTCTGCAAAGTCACCGACCACACTGTGCCACTGCTGTTGCCCAGGG\\n', 'AGCAGCTGCTGCTCTGGCCGATGTGTGTCATGACATGTCCCGATCAGGACGGGATGTCTTTCGATATAGA\\n', 'CAGAGGAACAGCAGCATGGATGAGGAAATTGAGAATCCATACTGGAGTGTGCGGGCCCTAGTGCAGCAGT\\n', 'ACGAAGGGCAACAAAGGTCCCCGTCTGAATCCAGCTGCTCCAGCCTGACTTCACCCAGTCCAATCCACAG\\n', 'TGCAAAGAGCGAGTCCATTATAACCCAGTCAGAAGAGAAGGCAGATTTTGTGATTATTCCCGCTGAAGGA\\n', 'ATAGAGAACAGAACAGAAGGGACAGATTCTCCATTATCTCGAGACTGGCGGCCAGGGAGCCCTGGAACCT\\n', 'ATCTGGAGACCTCATGGGAAGAACAGCTGTTGGAACAACAAGAATATTTAGAAAAAGAAATGGAGGAAGC\\n', 'AAAGAAAATGATATCAGGACTACAGGCCTTACTGCTCAATGGATCCTTACCTGAAGATGAACAGGAGAGG\\n', 'CCCTTGGCCCTCTGTGAACCAGGTGTCAATCCCGAGGAACAACTGATTATAATCCAAAGTCGTCTGGATC\\n', 'AGAGTATGGAGGAGAATCAGGACTTAAAGAAGGAACTGCTGAAATGTAAACAAGAAGCCAGAAACTTACA\\n', 'GGGGATAAAGGATGCCTTGCAGCAGAGATTGACTCAGCAGGACACATCTGTTCTTCAGCTCAAACAAGAG\\n', 'CTACTGAGGGCAAATATGGACAAAGATGAGCTGCACAACCAGAATGTGGATCTGCAGAGGAAGCTAGATG\\n', 'AGAGGAACCGGCTCTTGGGAGAATATAAAAAAGAGCTGGGGCAGAAGGATCGCCTTCTTCAGCAGCACCA\\n', 'GGCCAAGTTAGAAGAAGCACTCCGGAAACTCTCTGATGTCAGTTACCACCAGGTGGATCTAGAGCGAGAG\\n', 'CTAGAACACAAAGATGTCCTCTTGGCTCACTGTATGAAAAGAGAGGCAGATGAGGCGACCAACTACAACA\\n', 'GTCACAACTCTCAAAGCAATGGTTTTCTCCTTCCAACGGCAGGAAAAGGAGCTACTTCAGTCAGCAACAG\\n', 'AGGGACCAGCGACCTGCAGCTTGTTCGAGATGCTCTCCGCAGCCTGCGCAACAGCTTCAGTGGCCACGAT\\n', 'CCTCAGCACCACACTATTGACAGCTTGGAGCAGGGCATTTCTAGCCTCATGGAGCGCCTGCATGTTATGG\\n', 'AGACGCAGAAGAAACAAGAAAGAAAGGTTCGGGTCAAGTCACCCAGAACTCAAGTAGGTAGTGAATACCG\\n', 'GGAGTCCTGGCCCCCTAACTCAAAGTTGCCTCACTCACAGAGCTCTCCAACTGTCAGCAGCACCTGTACT\\n', 'AAAGTGCTCTATTTCACTGACCGGTCACTTACGCCCTTCATGGTCAATATACCAAAGAGGTTGGAGGAGG\\n', 'TGACGTTAAAGGATTTTAAAGCAGCTATTGATCGGGAAGGAAATCACCGGTATCACTTCAAAGCACTGGA\\n', 'TCCTGAGTTTGGCACTGTCAAAGAGGAGATTTTCCATGATGATGATGCCATCCCTGGATGGGAAGGGAAA\\n', 'ATTGTAGCTTGGGTGGAAGAAGACCATGGAGAGAATTAATGCCAAGTATCAGATTGAGGGCTTATGGAAC\\n', 'CTGGTCACTCCCTGGCTGCTTCACTCAGGAAAGGGAACTAAAACCAGAATACACTAAGAAGTTTCTAGTT\\n', 'TGTGTGCCAAAACAGAAGCTTCTCCAAGCATGATGGCCACAGGTCAGTCCTCTTTCTGTGCCTGGCATAT\\n', 'CTGGTACTTAAAATTCTGTCCAAATGTAGACCATGGGTTCATCTGGAGTTCCTTGTCCGTGGGAACACAG\\n', 'TGTTCTATTCTACTCTGAGGACAACAAACCGAAGGCCTTAAACGATGGGGATGGATGATCCCGCCTCTGT\\n', 'AGGGGCATGGCTGCTATTATCTGGAAATTAGGAATTGGATGCATCATTCCTGTGTGTTACAGTATTATTT\\n', 'TAATTGGCCTCAATGGTTGCAGCAATCAGAGTCCCAGCGTTTGTACTCACAGACAAGGCAAAGGTACCAG\\n', 'CTTTTCTGTTTCTTTGAACCTACTGCAAACCAAGAATAACTCATGAGGTGGTACCAAAGATGAAAGCCCA\\n', 'GACTTCAGTAATCTTTTGAACCAGACGTGGATGGTGCTGAATTGTTGCTTGGATGGAAAAAGGGCTGCCC\\n', 'ATGTTGTGCTACACTATGCTAAAACTGTAATTTAGTAAGACCTTGGGCTGCCTCTTCTGTCTTAACTGGT\\n', 'TCTGCAGCTTGTCCTTTTGCCCACATAGGGCCTATTTCATGTACTGTTAGTTTTCTCTGGGGACTCTTTA\\n', 'ACTTTAGAGCCATTTCTTTTTCTTCAAACTGATGAACTTTTGTTTGAAAGGCATAAGGAGTGAAAAGCTC\\n', 'CTTGAAAATCCAGGCGGGTATGGAAAGGTGCTGCTACCCATATCTTTTTGACTTTCTTTGTTTCATGACT\\n', 'TTAACTCATGGCATCTCCTTTGTAGTAAAAGGAGACAGACCATTAATTTCAGCATTTCTTTGTGATTTAT\\n', 'AAGTACTGAGCATGAAGTACTTGTCTGCCCCTCATTTCAAGGCCAGAGTTATTTTCTATTTATGTATTAG\\n', 'TCTAGGCTGATCTTTTAGGGCACAATAGAAACCATGGGGCGTGGAGCATGAGTTGTGAATGGCAGGGATC\\n', 'ATTCTGGGTAAAAAAAACCTAGAATCATTTCTGATGTGCAACATTGTCAAGTGAAGAAGCTAACAGTTCA\\n', 'ACTACCGAGATTATTTGATAACCTGGGTTTTCTCATTCATCCATCAAGCACCATCAACCAGTCAGCCATT\\n', 'ATTATTTATATATGTATTACCAAAAGCAGTCTATCTGCCTGTGACCTCCAATGTACACTGCCAAACACAA\\n', 'GAGTAGGACACATCTGTTCTGGGTTCTTGACCTATCTGTCTCCAATTCATCTCCCCTTTTCAGCCATTTC\\n', 'AACAAACTACTCTTTGGAGCTCTGAGATGACATCTTGTTGTTTTATATAGATGTATCTTTTAAAAATAGT\\n', 'TCACGTTTGGAGAATTCTTTTGTACTCATTTGCTTTTTGTCTGAGAACCATGTCTATTTTTATAACTGGA\\n', 'GTGTGAGTTCTGTATCTTCTCACATTCTGTATACTGTATCCATTTTCTAGAGAACCCAGTAGCTTTTATA\\n', 'CAGTCTCTTCTTACCACCCCTTGTGGTTTCAGAACAAGCTTTATTTTATTACGAGTATATTAATGACAAC\\n', 'TAATTCCTGTTCCAATTCTACCTGTTTTAGTTGTGAAGGTAGTTTTGTGTAATCCAGTTGATTGCTCCTC\\n', 'TGGCAGAGAGAAGGAGCTCAAAAGATACTTGATGTCTTTCATGTAAGTTTACCTGGTCTTTTCCTATTGA\\n', 'AGAATTTTTCATCAGAAACGACTGGGAAAGTTTGGGAAAGTCAGCAAAAGAAAGAATGCATTTCGAAAGC\\n', 'AAACAGAAGAAAAAAGTATATTCTCACAGTTTTTCCCCAGGAAGTCTGGAGAAAAAGTCCTCATGTCACC\\n', 'AATTTCTCTGTTGCATGAATTTTAGTGTTTTGCTATAAGACAGCATGAGGGCTATCAGGCCAAAATTCAT\\n', 'TATTGTATTTCCAATACAGTTTGTCTTGAATGTCTGTCTCTTAAACCAGTTTTTACTTGTCAGTTTTCTC\\n', 'TCAGCAAACAGTCTTACTATTATGTGGAATTTAACTTTTCAGAGAAAATTTCCAAAGTCCTCTACCTTAT\\n', 'TTGGCTTTTATCTGTGTCTTTTGGAAAAGGAGCTGCATGGCCTCAGTGCCTCCATAAAAAGCTTAAGTTG\\n', 'AGTTCATGGGAGAACATTAAGATCGTTTTTTTTCCCTTTTAGCTCGGTAATCTCATGTACCACAGGTAAT\\n', 'GACCAAGCATCTCTGCTAGAGGATGTAACTCTCATAACTCCTGTGTAAAATGAGGATCCTGTTGGTGATC\\n', 'CTCATTCCAGTTTCCAAAGCGAGAGGAGCCTTCTGAGCAGAAGTATGCAAGACTGATTCTGTTTGGAACA\\n', 'GTTTCCTATTTGGCTGCATTCTAGGAGGCCTCCTGACTTATTCATAGTATTGTCGCCTGGTGGCATTGGT\\n', 'GTGGGGTAGCTTGTCCTGCTACTTGCTAAAGTTCTCTTTCTTTGAGAAAACTGAGGAACCAGAATGCTTA\\n', 'GAGTTCATAAAATAATCTCTAAACCATGTTAGGTTAAAACAAAATGACCATCTCACAAAAACGAGTTTAG\\n', 'TTGAATGCTCAATTCCTTACAAAATCTTCATTTAAGGCTGAGTGTGGTGGCTCATGCCTGTAATTCCAGC\\n', 'ACTTTGGGAGGCCGAGGCAGGAAGACTGCTTGAGCCCAGGAGTTCAAGACCAGCCTGGGCAACGTAGGAA\\n', 'GACTCCGTCTCTACATAGAAATTTTATTATAAAAGTAGCTGGGGATGGTGGCACACACCTGTAGTCCCAG\\n', 'CTACTCAGGAGGTTGAGGTGGGAAGATTGCTTGAGCCCAGGAGTTTGAGGTTGCAGTGAGCTGATCATGC\\n', 'CACTGCACTCTAGCCTAGGCTACAGAGCAGGACCCCATCTCCAAAAAAAAAAAAAAAAAAGTCATTTAAA\\n', 'AACTGAAGAATGTTCTCTTCTTGCTCAGTTCCCTAAATTAGCTGGGGGGATTGGGATACTTTACAATTTT\\n', 'TACATTTTTAAATTTGAAGAATTTGTTTTAAACTTACTTGGTAATGGCACTTCTACTTACTGACCAACTT\\n', 'TTCAGCTCTTTTTGACCAGGATGGTTGCAAATTAGGGAAAATATCTTTATACTATACATCCAATTCAAGA\\n', 'GGACTTTAATTACTTAAAAGCATTTAGGTCATAATTAAAATTATTTTCACTGTTTCCATAAAATAAGCAT\\n', 'TATGATTGCACACTCCTTCTACTGTCTGAATTTATGTAAGAGGTATAGCTTGCTTAAAATACATATATAT\\n', 'GTAAAGTTATATTTTCTTAGAAACATGGATGTTTACAGCCATTGCTTTCAAAGAGATTATTACTGTGTAT\\n', 'TCTCCCTGTTTTACAATATGTTTTCATGAAGACTATGTTACACCAGAGGCTTCTGATTATCAAAGTGATA\\n', 'ACCAGTTTTAACTGCCGGTATGTACCAGATTTGTGAACTAATTTAAAAAACCACAAACTATGAATAAAAT\\n', 'GGGGTTTGCAAACTAAATATCATTAATGATTTTCACTTGCGTTTACTGATGAGATTAATCAATAAAGCCA\\n', 'TTTACATTTAGTGAAA\\n', '\\n', '>NM_001374656.1 Mus musculus DIX domain containing 1 (Dixdc1), transcript variant 3, mRNA\\n', 'AGTTTGGCTCGGGTCTAGGTTTCCAGTAAGTGGCATGCGGGACTCCAGAGAGCTCCCAGGGAGCTGAGCT\\n', 'GATCGCCTTTGTGTACAGAGGGAAGAGACGGTGGCGTGACCCCACCCGGGAAGCCCCGCGGCAGGAACAA\\n', 'TGCTAGCCTGCTTGACCCGCGGGAACTTACTGGACGTCCTGCAAGAGGGCTTCAATGAGCAACAGCTACA\\n', 'GGCCTACGTGGCCTGGGTGAATGCCCAGCTGAAGAAGAGGCCATCCGTGAAGCCTGTGCAGGACCTGCGA\\n', 'CAGGATCTCCGAGATGGGGTGATCCTGGCCTATCTCATCGAGATTGTTGCAGGAGAAAAGCTGACTGGAG\\n', 'TGCAGCTGAGTCCCAGTAACCAACAAGAGATGAAGAGTAATGTGGAGAGGGTCCTTCAGTTTGTGGCTTC\\n', 'CAAAAAGATTCGGATGCATCAGACGTCAGCGAAAGATATTGTGGAAGGAAACCTGAAGTCCATCATGAGG\\n', 'CTGGTCCTTGCCTTGGCAGCTCATTTTAAACCTGGCTCTAGCAGGACAGTGAGCCAGGGGCGAGACTCCA\\n', 'AAGCCCCCGTGCAGAGTCATCAACCACACTGTGCCACCGCTGTGGCCCAAGGAGCCGCTGCTGCTCTGGC\\n', 'TGATGTGTGCCATGACGTGTCACGGTCAGGACGGGATGTCTTCCGATACAGACAGAGGAACGCCAGCGTG\\n', 'GATGGAGAGATTGAGAACCCATACTGGAGTGTGCGGGCTCTTGTGCAGCAATATGAAGGTCAACAGAAGT\\n', 'CCCCATCTGAGTCTAGCTGCTCCAGTCTGACTTCACCCAGTCCAATCCACAGTGCTAAGAGCGAATCCAT\\n', 'TATAACCCAGGCAGAGGAAAAGGCCGATTTCGTGATCATTCCCTCTGAAGGAATAGAGAACAGAACAGAT\\n', 'GAGCCAGACTCTCCATCATCCCGAGACTGGAGACCTGGGAGCCGGGGAACCTACCTGGAAGCCACATGGG\\n', 'AAGAACAGCTGTTGGAGCAACAAGAACACTTAGAAAAAGAAATGGAGGAAGCAAAGAAAATGATTTCAGG\\n', 'ACTCCAGGCTTTGCTACTCAATGGCTCTCTGCCGGAGGATGAACAGGAGCGACCCGTGGCTCTTTGTGAA\\n', 'CCAGGAGTCAATCCCGAGGAACAGCTGATTATAATCCGAAGCCGCCTGGATCAGAGTGTGGAGGAGAATC\\n', 'AGGACCTTAAGAAAGAACTGCTGAAATGCAAACAAGAAGCCAGAAACCTACAGGGGATAAAGGATGCCTT\\n', 'GCAGCAGAGGTTGACTCAGCAGGACACATCTGTTCTTCAGCTCAAGCAAGAGCTGCTGAGGGCAAATATG\\n', 'GATAAGGATGAGCTGCACAACCAGAACGTGGATCTGCAGAGGAAGCTAGAGGAGAGGAACCGGCTCTTAG\\n', 'GAGAATATAAAAAAGAGTTGGGGCAGAAGGACCGCCTCTTTCAGCAGCAGCAGGCCAAGTTGGAAGAGGC\\n', 'GCTTCGGAAACTCTCGGACGCCAGTTACCAGCAGGTGGATCTAGAACGGGAGCTAGAGCAGAAAGATGTC\\n', 'CTTCTGGCTCACTGCATGAAAGGAGAGACAGATGAGGTGACAAATTACAACAGTCACAGTTCTCAGCGCA\\n', 'ATGGCTTTGTCCTTCCCGTGGCAGGAAGAGGCGCCACTACTGTCACCCACAGAGGGCCACAGACCAGTGA\\n', 'CCTCCAGCTCGTCCGAGATGCTCTCCGCAGCCTGCGCAACAGCTTCAGTGGCCATGACCCTCAGCATCAC\\n', 'ACCATTGACAGCCTGGAGCAGGGAATCTCTAGCCTCATGGAGCGTCTGCATGTCGTAGAGACACAGAAGA\\n', 'AACAAGAAAGGAAGGTTGGGGGGCGGTCACCCAGAAATCAAGCAAGCAGTGAATACCGGGCATCCTGGCC\\n', 'CCCTAATTCAACGTTGCCTCACTCCCAGAGTTCCCCAGCCGTCAGCAGCACCTGCACTAAGGTGCTCTAT\\n', 'TTCACCGACCGCTCGCTCACGCCCTTCATGGTCAATATTCCAAAGAGGTTGGGGGAGGTGACACTGAAGG\\n', 'ATTTTAAAGCAGCTATTGATCGGGAAGGGAATCACCGATACCACTTCAAAGCACTGGATCCCGAGTTTGG\\n', 'CACAGTCAAAGAAGAGGTTTTCCATGATGACGATGCCATCCCTGGATGGGAAGGGAAAATCGTAGCCTGG\\n', 'GTGGAAGAAGACCATAGAGAGAATTAACGAGACCCTGGCCACTCCCTGGCTGCTTCTCTCAGGAAAGAGG\\n', 'ACTAACACCAGAGTACGCTGAGAAGTTTCTAATTCGTGCTGCCAAAAAGAAGCTTCTTCAAGTACGATGG\\n', 'TCACGGGCCAGTCCTGTGTGTGTGCCTGGCGTATCTGGTACTTCGAATCTCTGTCCGAAACATAGAGCAT\\n', 'GGGTTCGTCTGGAGTTCCTTGTCGGTGGGAACAGTGTTTTATTCTACTCTGAGGACATCAAACCGAAGGC\\n', 'CTTAACCACCAGGGAAGGATGAGCTCTCTCTCCGAGGGGCATGGCTGCTATGATCTGGAACCTGGAAGTG\\n', 'GATGCATCCCTGTCGTGTTGGCCGTGAAGGTTGCAGCAATCAGAGTCCCACCATTTGTACTTACAAAGGC\\n', 'AGAGGTACCAACTTTTCTGCTTCTTTGCAGACATTGCAAACCAGGAGTGATTTGTGAGGTGGTACCAAAG\\n', 'ATGAAAGCCCAAGTGCAGACCTGATCTGGACGTGAATGATGCTGACTTGTTGACTGGGTGGGGAGAGGGT\\n', 'TGCCCATATACTACGCCAAAACCATAATTAAGACCCCGAGCTGCCTCTTCCGGTTCTAACAGGCTCTGCA\\n', 'GCTTGTCCTTAGCCCACTGAGGGCATTTTTCACAGACAGTTTGTTTTCACTGGGGACTCTTTAAATTCAG\\n', 'AGCCATTTATTTTTCTCCAAACAGATAAACTTTGTGTTTGAAAAGAATGAGAGAAGCAAGGAGGACACAG\\n', 'AAAGGTGCTGCTACCCACATCCCTTGACTCAAACTCATGGTATCGCCTTTACAAGGAGACAGACCATTAA\\n', 'TTACGTGTTTGTGATTTGAGTACTCAGCACCACTTACTGGTCTGCCTCTCACTTCAAGGGTGGAGTTATT\\n', 'TTCTATTAGTTAGCTTGGGCTGTTCCCTTAGGGGACCGTGAACCCAGTGGACATGGAGCGTGAGTGAGTT\\n', 'GTGAATGGCAGGGTTGATTTGAGGTGAAGTTATTCCTTATTACAACACTGTCAAGTATAGAAGCTAAAGA\\n', 'GTTCAACTTACAGACGTTACTCATGACTTGGGTTTTCTCATCCACTCACCTAGCACCATCCGCCAGTCAG\\n', 'CCATGGTTATCTACTAATACAGCCCCTCAAAGCAGTCTGCAACTACTGTACACTGCCAAACAGAAGAGTG\\n', 'GGACAGATGGCTCAGTTCTGGGACCCGCCTGTCTCTGTGTCTCCCATTTTCAGCCATTTGAACAGAATAC\\n', 'TCTTTGGAACGCTGAGATAACGTCTTATTGTTTTATATAGACATGTCTTTTAAAAATAGTTCATGTTTGA\\n', 'GAATTGTTTTGTACTCATTTGCTTTTGTCTGAGAACCATGTCTATTTTTATAACTAAGTGACTCTGTGTA\\n', 'CTCTCACGTTCCCTACACTCTCCATTTTCTACAGCATCCAGTGCTTTTCTACCGTCTCTTCCTACTGCCT\\n', 'CTCGTGGTTCAGAACAAGCTTGATTTTGTTACCAGTTACTAATGGCACTTAGTTCTGTCCAGCTCTCCCT\\n', 'GCTTTTAGTGGTGGGGGTCTTTTTTATTTTATTTTTTTCTAGTTGATTGCTCTTCTAAAAGACATGAGAT\\n', 'CAAAAAGACCTGATGTCTTCCGTGCACGCTGTCCTGGTCTTCTGTTGAAGACCAGTTTTTCCTCAGCTGT\\n', 'AACTAGGAAAGTCCAGGAAAGTCAGCCATAAGCAAGAACAACTCACTGTGAAAGCCAACAGAAGAAAAGT\\n', 'GTTATTTCCGTCTTTTCCAAGTCGCCTGGAGGGATTAAAAAGTCCATGTTTCACCAATTTCTCTGTTGCA\\n', 'TGAACTTTAATGTTTTACTATTTGACAGCATGATAGTGATCAGGCTAAACTCCAATACTGTAGTCCAGAT\\n', 'ACAATTTACCTTCAATGTCTGCCTCTTTAATAAGAGTCTCTCAGCAGTCTTAACATTATGTGAAATTAAC\\n', 'TTTTCAGCAAAAATTAAATCAGAGAAAAACTTCAAGTCCTTTACATCGTGTTTTATTTTTTCTCATTTTT\\n', 'GGAAAAGGACCGGCATGACCTCAGTGCCCACATAAAAAGCAGAGGTTGAATTCCAGGGAGAATGGTGTTC\\n', 'ATTAATCTCATACCCCATAAGTAAGACGGCCAAGCATCTCTACTAGAGGATTTATTTCATTAATTCCTGT\\n', 'AAACAGTGGGTCAGAGATCTTCATTCCAGTCCATACTTCCGGAGGCTTTAGAGCAGGAGCAAGCATAAAT\\n', 'TCATTCTCTTTTGAATAATCTCCTATTTGGCAAACTCAAGGACAGCAGTTCTATACCTGTAGGTTGTGAC\\n', 'CCCTTTCCCAGGGGCTGCCCAAGACCAATGGAAAATACAGATATTTACATTTTGATTTATAACAGTAGCA\\n', 'AAATTAGTTTTATGGTTGGGGATCACAACATGAACAGTATTAAAGGGTCGCAGCATTAGGAAGGCTGAGA\\n', 'ACCACTGCTCTCGGAGAATCTGTGTCTTGAAACTATTGTTTCCTAGTGATACTGGCGTGGGCTAGCCCAT\\n', 'CTTGCTATTGCTGACATCCTCTTTCCTTGGGAAAAACTAGTGGTTCAACCCTTTAATCCCAGCACTGGGG\\n', 'AGGCAGAGGCAAGGGGATCTCTTTGAGTTTAAGGCTAGCCTGGTCTACTTAGTAAGTTCCATGACAGCCA\\n', 'GAACTATTTAGTGAGACTCTGCCTTGAAAACAACAACAAAACAAAAAGCCAAAACGAAAGCCAAAACAAA\\n', 'TGTACTCATGTGTAGAAATGTATTTACACAGACATCTATATACACATAAGTAAAAGTAATACAAATCAAT\\n', 'CTTTAAAATGCTACTTTAGTTATTTAAAAACCGAAGAGTATCATCTTCTTGCTCAATTCCCTAAAAGTCA\\n', 'GCTGGAACATTTTACAATTTGTACTTAAAACCTGGTGATAGATACGTGCCTGTAATTCCAACATTTGGGA\\n', 'GGCTGAGGCAGGAGGAGTACTAAGTTAATGCCAGTCTGGCCTATACTGAGATCTGTGTCTGAGTTAAACA\\n', 'GAAGTATAGGTTAGATACATTTGGCAACTGCAATGCCCCTTTTGGACTGAGTTTTCAGCTCTTTTGATTG\\n', 'GGATGACTAAATTATGAAAAGACCTTTATGTTCTACATCCAACTTAAGAATACTCGGCTACTGAAAAGCA\\n', 'TAGCAGGTATAATTAAATTTTTCACTTTTACTCATCCGTATCATGACTGCACAGTCTTATTTGTCAAACT\\n', 'TGAGAGGTACGGCTGACTTAAAATACATACATGTAAAGCTCTATTTTCTTACAAACATGGGTGTTTGTGA\\n', 'CCACTGCTTTCAGAGATTCTTACCATGTATTCTGTTTTACAATGTTTTCATAGACTGTTATGCCAGAAGT\\n', 'TTCCGATGATCAATGTAATAACCTGTTTTAACTGCCTATGTGTACCAGAATTGTGAATAAGTCAAAACCA\\n', 'AACACACACACTATGAATAAAATGGAGTTTGCAAACTAAA\\n', '\\n', '>NM_001311069.1 Mus musculus DIX domain containing 1 (Dixdc1), transcript variant 2, mRNA\\n', 'GTGGCCCTGAATTGGATCTTCTAGGGAATCTGAAGATGGGGACTCAAGTGGTTATGAGAGTCTGTAACTC\\n', 'CTCTATGCCTGGAGCGCCCTCTCAACAGCTACAGGCCTACGTGGCCTGGGTGAATGCCCAGCTGAAGAAG\\n', 'AGGCCATCCGTGAAGCCTGTGCAGGACCTGCGACAGGATCTCCGAGATGGGGTGATCCTGGCCTATCTCA\\n', 'TCGAGATTGTTGGTCAGTTGGCCTTGGACTCTGATGCTAGTGTAGACGAGAGAACTGACTTCTTTCTTCT\\n', 'CCATTCGCCCTTCAAAGCAGCAGGAGAAAAGCTGACTGGAGTGCAGCTGAGTCCCAGTAACCAACAAGAG\\n', 'ATGAAGAGTAATGTGGAGAGGGTCCTTCAGTTTGTGGCTTCCAAAAAGATTCGGATGCATCAGACGTCAG\\n', 'CGAAAGATATTGTGGAAGGAAACCTGAAGTCCATCATGAGGCTGGTCCTTGCCTTGGCAGCTCATTTTAA\\n', 'ACCTGGCTCTAGCAGGACAGTGAGCCAGGGGCGAGACTCCAAAGCCCCCGTGCAGAGTCATCAACCACAC\\n', 'TGTGCCACCGCTGTGGCCCAAGGAGCCGCTGCTGCTCTGGCTGATGTGTGCCATGACGTGTCACGGTCAG\\n', 'GACGGGATGTCTTCCGATACAGACAGAGGAACGCCAGCGTGGATGGAGAGATTGAGAACCCATACTGGAG\\n', 'TGTGCGGGCTCTTGTGCAGCAATATGAAGGTCAACAGAAGTCCCCATCTGAGTCTAGCTGCTCCAGTCTG\\n', 'ACTTCACCCAGTCCAATCCACAGTGCTAAGAGCGAATCCATTATAACCCAGGCAGAGGAAAAGGCCGATT\\n', 'TCGTGATCATTCCCTCTGAAGGAATAGAGAACAGAACAGATGAGCCAGACTCTCCATCATCCCGAGACTG\\n', 'GAGACCTGGGAGCCGGGGAACCTACCTGGAAGCCACATGGGAAGAACAGCTGTTGGAGCAACAAGAACAC\\n', 'TTAGAAAAAGAAATGGAGGAAGCAAAGAAAATGATTTCAGGACTCCAGGCTTTGCTACTCAATGGCTCTC\\n', 'TGCCGGAGGATGAACAGGAGCGACCCGTGGCTCTTTGTGAACCAGGAGTCAATCCCGAGGAACAGCTGAT\\n', 'TATAATCCGAAGCCGCCTGGATCAGAGTGTGGAGGAGAATCAGGACCTTAAGAAAGAACTGCTGAAATGC\\n', 'AAACAAGAAGCCAGAAACCTACAGGGGATAAAGGATGCCTTGCAGCAGAGGTTGACTCAGCAGGACACAT\\n', 'CTGTTCTTCAGCTCAAGCAAGAGCTGCTGAGGGCAAATATGGATAAGGATGAGCTGCACAACCAGAACGT\\n', 'GGATCTGCAGAGGAAGCTAGAGGAGAGGAACCGGCTCTTAGGAGAATATAAAAAAGAGTTGGGGCAGAAG\\n', 'GACCGCCTCTTTCAGCAGCAGCAGGCCAAGTTGGAAGAGGCGCTTCGGAAACTCTCGGACGCCAGTTACC\\n', 'AGCAGGTGGATCTAGAACGGGAGCTAGAGCAGAAAGATGTCCTTCTGGCTCACTGCATGAAAGGAGAGAC\\n', 'AGATGAGGTGACAAATTACAACAGTCACAGTTCTCAGCGCAATGGCTTTGTCCTTCCCGTGGCAGGAAGA\\n', 'GGCGCCACTACTGTCACCCACAGAGGGCCACAGACCAGTGACCTCCAGCTCGTCCGAGATGCTCTCCGCA\\n', 'GCCTGCGCAACAGCTTCAGTGGCCATGACCCTCAGCATCACACCATTGACAGCCTGGAGCAGGGAATCTC\\n', 'TAGCCTCATGGAGCGTCTGCATGTCGTAGAGACACAGAAGAAACAAGAAAGGAAGGTTGGGGGGCGGTCA\\n', 'CCCAGAAATCAAGCAAGCAGTGAATACCGGGCATCCTGGCCCCCTAATTCAACGTTGCCTCACTCCCAGA\\n', 'GTTCCCCAGCCGTCAGCAGCACCTGCACTAAGGTGCTCTATTTCACCGACCGCTCGCTCACGCCCTTCAT\\n', 'GGTCAATATTCCAAAGAGGTTGGGGGAGGTGACACTGAAGGATTTTAAAGCAGCTATTGATCGGGAAGGG\\n', 'AATCACCGATACCACTTCAAAGCACTGGATCCCGAGTTTGGCACAGTCAAAGAAGAGGTTTTCCATGATG\\n', 'ACGATGCCATCCCTGGATGGGAAGGGAAAATCGTAGCCTGGGTGGAAGAAGACCATAGAGAGAATTAACG\\n', 'AGACCCTGGCCACTCCCTGGCTGCTTCTCTCAGGAAAGAGGACTAACACCAGAGTACGCTGAGAAGTTTC\\n', 'TAATTCGTGCTGCCAAAAAGAAGCTTCTTCAAGTACGATGGTCACGGGCCAGTCCTGTGTGTGTGCCTGG\\n', 'CGTATCTGGTACTTCGAATCTCTGTCCGAAACATAGAGCATGGGTTCGTCTGGAGTTCCTTGTCGGTGGG\\n', 'AACAGTGTTTTATTCTACTCTGAGGACATCAAACCGAAGGCCTTAACCACCAGGGAAGGATGAGCTCTCT\\n', 'CTCCGAGGGGCATGGCTGCTATGATCTGGAACCTGGAAGTGGATGCATCCCTGTCGTGTTGGCCGTGAAG\\n', 'GTTGCAGCAATCAGAGTCCCACCATTTGTACTTACAAAGGCAGAGGTACCAACTTTTCTGCTTCTTTGCA\\n', 'GACATTGCAAACCAGGAGTGATTTGTGAGGTGGTACCAAAGATGAAAGCCCAAGTGCAGACCTGATCTGG\\n', 'ACGTGAATGATGCTGACTTGTTGACTGGGTGGGGAGAGGGTTGCCCATATACTACGCCAAAACCATAATT\\n', 'AAGACCCCGAGCTGCCTCTTCCGGTTCTAACAGGCTCTGCAGCTTGTCCTTAGCCCACTGAGGGCATTTT\\n', 'TCACAGACAGTTTGTTTTCACTGGGGACTCTTTAAATTCAGAGCCATTTATTTTTCTCCAAACAGATAAA\\n', 'CTTTGTGTTTGAAAAGAATGAGAGAAGCAAGGAGGACACAGAAAGGTGCTGCTACCCACATCCCTTGACT\\n', 'CAAACTCATGGTATCGCCTTTACAAGGAGACAGACCATTAATTACGTGTTTGTGATTTGAGTACTCAGCA\\n', 'CCACTTACTGGTCTGCCTCTCACTTCAAGGGTGGAGTTATTTTCTATTAGTTAGCTTGGGCTGTTCCCTT\\n', 'AGGGGACCGTGAACCCAGTGGACATGGAGCGTGAGTGAGTTGTGAATGGCAGGGTTGATTTGAGGTGAAG\\n', 'TTATTCCTTATTACAACACTGTCAAGTATAGAAGCTAAAGAGTTCAACTTACAGACGTTACTCATGACTT\\n', 'GGGTTTTCTCATCCACTCACCTAGCACCATCCGCCAGTCAGCCATGGTTATCTACTAATACAGCCCCTCA\\n', 'AAGCAGTCTGCAACTACTGTACACTGCCAAACAGAAGAGTGGGACAGATGGCTCAGTTCTGGGACCCGCC\\n', 'TGTCTCTGTGTCTCCCATTTTCAGCCATTTGAACAGAATACTCTTTGGAACGCTGAGATAACGTCTTATT\\n', 'GTTTTATATAGACATGTCTTTTAAAAATAGTTCATGTTTGAGAATTGTTTTGTACTCATTTGCTTTTGTC\\n', 'TGAGAACCATGTCTATTTTTATAACTAAGTGACTCTGTGTACTCTCACGTTCCCTACACTCTCCATTTTC\\n', 'TACAGCATCCAGTGCTTTTCTACCGTCTCTTCCTACTGCCTCTCGTGGTTCAGAACAAGCTTGATTTTGT\\n', 'TACCAGTTACTAATGGCACTTAGTTCTGTCCAGCTCTCCCTGCTTTTAGTGGTGGGGGTCTTTTTTATTT\\n', 'TATTTTTTTCTAGTTGATTGCTCTTCTAAAAGACATGAGATCAAAAAGACCTGATGTCTTCCGTGCACGC\\n', 'TGTCCTGGTCTTCTGTTGAAGACCAGTTTTTCCTCAGCTGTAACTAGGAAAGTCCAGGAAAGTCAGCCAT\\n', 'AAGCAAGAACAACTCACTGTGAAAGCCAACAGAAGAAAAGTGTTATTTCCGTCTTTTCCAAGTCGCCTGG\\n', 'AGGGATTAAAAAGTCCATGTTTCACCAATTTCTCTGTTGCATGAACTTTAATGTTTTACTATTTGACAGC\\n', 'ATGATAGTGATCAGGCTAAACTCCAATACTGTAGTCCAGATACAATTTACCTTCAATGTCTGCCTCTTTA\\n', 'ATAAGAGTCTCTCAGCAGTCTTAACATTATGTGAAATTAACTTTTCAGCAAAAATTAAATCAGAGAAAAA\\n', 'CTTCAAGTCCTTTACATCGTGTTTTATTTTTTCTCATTTTTGGAAAAGGACCGGCATGACCTCAGTGCCC\\n', 'ACATAAAAAGCAGAGGTTGAATTCCAGGGAGAATGGTGTTCATTAATCTCATACCCCATAAGTAAGACGG\\n', 'CCAAGCATCTCTACTAGAGGATTTATTTCATTAATTCCTGTAAACAGTGGGTCAGAGATCTTCATTCCAG\\n', 'TCCATACTTCCGGAGGCTTTAGAGCAGGAGCAAGCATAAATTCATTCTCTTTTGAATAATCTCCTATTTG\\n', 'GCAAACTCAAGGACAGCAGTTCTATACCTGTAGGTTGTGACCCCTTTCCCAGGGGCTGCCCAAGACCAAT\\n', 'GGAAAATACAGATATTTACATTTTGATTTATAACAGTAGCAAAATTAGTTTTATGGTTGGGGATCACAAC\\n', 'ATGAACAGTATTAAAGGGTCGCAGCATTAGGAAGGCTGAGAACCACTGCTCTCGGAGAATCTGTGTCTTG\\n', 'AAACTATTGTTTCCTAGTGATACTGGCGTGGGCTAGCCCATCTTGCTATTGCTGACATCCTCTTTCCTTG\\n', 'GGAAAAACTAGTGGTTCAACCCTTTAATCCCAGCACTGGGGAGGCAGAGGCAAGGGGATCTCTTTGAGTT\\n', 'TAAGGCTAGCCTGGTCTACTTAGTAAGTTCCATGACAGCCAGAACTATTTAGTGAGACTCTGCCTTGAAA\\n', 'ACAACAACAAAACAAAAAGCCAAAACGAAAGCCAAAACAAATGTACTCATGTGTAGAAATGTATTTACAC\\n', 'AGACATCTATATACACATAAGTAAAAGTAATACAAATCAATCTTTAAAATGCTACTTTAGTTATTTAAAA\\n', 'ACCGAAGAGTATCATCTTCTTGCTCAATTCCCTAAAAGTCAGCTGGAACATTTTACAATTTGTACTTAAA\\n', 'ACCTGGTGATAGATACGTGCCTGTAATTCCAACATTTGGGAGGCTGAGGCAGGAGGAGTACTAAGTTAAT\\n', 'GCCAGTCTGGCCTATACTGAGATCTGTGTCTGAGTTAAACAGAAGTATAGGTTAGATACATTTGGCAACT\\n', 'GCAATGCCCCTTTTGGACTGAGTTTTCAGCTCTTTTGATTGGGATGACTAAATTATGAAAAGACCTTTAT\\n', 'GTTCTACATCCAACTTAAGAATACTCGGCTACTGAAAAGCATAGCAGGTATAATTAAATTTTTCACTTTT\\n', 'ACTCATCCGTATCATGACTGCACAGTCTTATTTGTCAAACTTGAGAGGTACGGCTGACTTAAAATACATA\\n', 'CATGTAAAGCTCTATTTTCTTACAAACATGGGTGTTTGTGACCACTGCTTTCAGAGATTCTTACCATGTA\\n', 'TTCTGTTTTACAATGTTTTCATAGACTGTTATGCCAGAAGTTTCCGATGATCAATGTAATAACCTGTTTT\\n', 'AACTGCCTATGTGTACCAGAATTGTGAATAAGTCAAAACCAAACACACACACTATGAATAAAATGGAGTT\\n', 'TGCAAACTAAAAAAAAAAAAAAAAAAA\\n', '\\n', '>GU810156.1 Camelus dromedarius myosine heavy chain-like mRNA, partial sequence\\n', 'TCATGCTCCGGCCATGAGCGGCCGCGGGAATTCATTAGCCAGAAAGGCCTTCGCCAAGAAGCAGCAGCAG\\n', 'CTCGAGTCCCTAAGTGTGCTGCAGCGCAACTGTCCGCGTACCTTAAGCTGCGGCACTGGCAGTCGGTGGC\\n', 'GCGTCTTCACCAAGGTGAAACCCTCCTACAAGTCACTCGTCAAGAGGAGGAGCTCCAGGCCAAAGATGAA\\n', 'GAGCTGCTGAAGGTGAAAGAGAAGCAGACGAAGGTGGAAGGGGAGCTGGAGGAAGATGGAGAGGAAGCAC\\n', 'CAACAGCTGCTGGAGGAGAAGAATATCCTGGCAGAGCAGCTGCTGGCGGAGACCGAGCTCTTTTGCCGAA\\n', 'GCAGAGGAGAATGAGGGGCCAGACTTTCCGGCCTAAGAAGCAGGTATATTAAAAGGAGATTCTTCCATGA\\n', 'CTTGGGAATTCTAGGGGTTAAAGAAGAAAAAGAAAAGAAACCAAATCCTCCCAAAAATTGAAAAAAGAAT\\n', 'AGAAAATGCAAGGCAGCACATTTCAGGTACCTGGAAGGAGTCAGGCTAGATAGGAGGAGGGGGCTCGCCA\\n', 'GAATGCCTGCTGGCTGAATTGTCANGGGGGAGGCAGATCATGAAGATTGAGAGAAGATTCTTTACTGGGG\\n', 'ACCGAAACTCCTTTATCANAGAANAAGGAAATTCTGAA\\n', '\\n', '>NM_178118.2 Mus musculus DIX domain containing 1 (Dixdc1), transcript variant 1, mRNA\\n', 'AGTTTGGCTCGGGTCTAGGTTTCCAGTAAGTGGCATGCGGGACTCCAGAGAGCTCCCAGGGAGCTGAGCT\\n', 'GATCGCCTTTGTGTACAGAGGGAAGAGACGGTGGCGTGACCCCACCCGGGAAGCCCCGCGGCAGGAACAA\\n', 'TGCTAGCCTGCTTGACCCGCGGGAACTTACTGGACGTCCTGCAAGAGGGCTTCAATGAGCAACAGCTACA\\n', 'GGCCTACGTGGCCTGGGTGAATGCCCAGCTGAAGAAGAGGCCATCCGTGAAGCCTGTGCAGGACCTGCGA\\n', 'CAGGATCTCCGAGATGGGGTGATCCTGGCCTATCTCATCGAGATTGTTGGTCAGTTGGCCTTGGACTCTG\\n', 'ATGCTAGTGTAGACGAGAGAACTGACTTCTTTCTTCTCCATTCGCCCTTCAAAGCAGCAGGAGAAAAGCT\\n', 'GACTGGAGTGCAGCTGAGTCCCAGTAACCAACAAGAGATGAAGAGTAATGTGGAGAGGGTCCTTCAGTTT\\n', 'GTGGCTTCCAAAAAGATTCGGATGCATCAGACGTCAGCGAAAGATATTGTGGAAGGAAACCTGAAGTCCA\\n', 'TCATGAGGCTGGTCCTTGCCTTGGCAGCTCATTTTAAACCTGGCTCTAGCAGGACAGTGAGCCAGGGGCG\\n', 'AGACTCCAAAGCCCCCGTGCAGAGTCATCAACCACACTGTGCCACCGCTGTGGCCCAAGGAGCCGCTGCT\\n', 'GCTCTGGCTGATGTGTGCCATGACGTGTCACGGTCAGGACGGGATGTCTTCCGATACAGACAGAGGAACG\\n', 'CCAGCGTGGATGGAGAGATTGAGAACCCATACTGGAGTGTGCGGGCTCTTGTGCAGCAATATGAAGGTCA\\n', 'ACAGAAGTCCCCATCTGAGTCTAGCTGCTCCAGTCTGACTTCACCCAGTCCAATCCACAGTGCTAAGAGC\\n', 'GAATCCATTATAACCCAGGCAGAGGAAAAGGCCGATTTCGTGATCATTCCCTCTGAAGGAATAGAGAACA\\n', 'GAACAGATGAGCCAGACTCTCCATCATCCCGAGACTGGAGACCTGGGAGCCGGGGAACCTACCTGGAAGC\\n', 'CACATGGGAAGAACAGCTGTTGGAGCAACAAGAACACTTAGAAAAAGAAATGGAGGAAGCAAAGAAAATG\\n', 'ATTTCAGGACTCCAGGCTTTGCTACTCAATGGCTCTCTGCCGGAGGATGAACAGGAGCGACCCGTGGCTC\\n', 'TTTGTGAACCAGGAGTCAATCCCGAGGAACAGCTGATTATAATCCGAAGCCGCCTGGATCAGAGTGTGGA\\n', 'GGAGAATCAGGACCTTAAGAAAGAACTGCTGAAATGCAAACAAGAAGCCAGAAACCTACAGGGGATAAAG\\n', 'GATGCCTTGCAGCAGAGGTTGACTCAGCAGGACACATCTGTTCTTCAGCTCAAGCAAGAGCTGCTGAGGG\\n', 'CAAATATGGATAAGGATGAGCTGCACAACCAGAACGTGGATCTGCAGAGGAAGCTAGAGGAGAGGAACCG\\n', 'GCTCTTAGGAGAATATAAAAAAGAGTTGGGGCAGAAGGACCGCCTCTTTCAGCAGCAGCAGGCCAAGTTG\\n', 'GAAGAGGCGCTTCGGAAACTCTCGGACGCCAGTTACCAGCAGGTGGATCTAGAACGGGAGCTAGAGCAGA\\n', 'AAGATGTCCTTCTGGCTCACTGCATGAAAGGAGAGACAGATGAGGTGACAAATTACAACAGTCACAGTTC\\n', 'TCAGCGCAATGGCTTTGTCCTTCCCGTGGCAGGAAGAGGCGCCACTACTGTCACCCACAGAGGGCCACAG\\n', 'ACCAGTGACCTCCAGCTCGTCCGAGATGCTCTCCGCAGCCTGCGCAACAGCTTCAGTGGCCATGACCCTC\\n', 'AGCATCACACCATTGACAGCCTGGAGCAGGGAATCTCTAGCCTCATGGAGCGTCTGCATGTCGTAGAGAC\\n', 'ACAGAAGAAACAAGAAAGGAAGGTTGGGGGGCGGTCACCCAGAAATCAAGCAAGCAGTGAATACCGGGCA\\n', 'TCCTGGCCCCCTAATTCAACGTTGCCTCACTCCCAGAGTTCCCCAGCCGTCAGCAGCACCTGCACTAAGG\\n', 'TGCTCTATTTCACCGACCGCTCGCTCACGCCCTTCATGGTCAATATTCCAAAGAGGTTGGGGGAGGTGAC\\n', 'ACTGAAGGATTTTAAAGCAGCTATTGATCGGGAAGGGAATCACCGATACCACTTCAAAGCACTGGATCCC\\n', 'GAGTTTGGCACAGTCAAAGAAGAGGTTTTCCATGATGACGATGCCATCCCTGGATGGGAAGGGAAAATCG\\n', 'TAGCCTGGGTGGAAGAAGACCATAGAGAGAATTAACGAGACCCTGGCCACTCCCTGGCTGCTTCTCTCAG\\n', 'GAAAGAGGACTAACACCAGAGTACGCTGAGAAGTTTCTAATTCGTGCTGCCAAAAAGAAGCTTCTTCAAG\\n', 'TACGATGGTCACGGGCCAGTCCTGTGTGTGTGCCTGGCGTATCTGGTACTTCGAATCTCTGTCCGAAACA\\n', 'TAGAGCATGGGTTCGTCTGGAGTTCCTTGTCGGTGGGAACAGTGTTTTATTCTACTCTGAGGACATCAAA\\n', 'CCGAAGGCCTTAACCACCAGGGAAGGATGAGCTCTCTCTCCGAGGGGCATGGCTGCTATGATCTGGAACC\\n', 'TGGAAGTGGATGCATCCCTGTCGTGTTGGCCGTGAAGGTTGCAGCAATCAGAGTCCCACCATTTGTACTT\\n', 'ACAAAGGCAGAGGTACCAACTTTTCTGCTTCTTTGCAGACATTGCAAACCAGGAGTGATTTGTGAGGTGG\\n', 'TACCAAAGATGAAAGCCCAAGTGCAGACCTGATCTGGACGTGAATGATGCTGACTTGTTGACTGGGTGGG\\n', 'GAGAGGGTTGCCCATATACTACGCCAAAACCATAATTAAGACCCCGAGCTGCCTCTTCCGGTTCTAACAG\\n', 'GCTCTGCAGCTTGTCCTTAGCCCACTGAGGGCATTTTTCACAGACAGTTTGTTTTCACTGGGGACTCTTT\\n', 'AAATTCAGAGCCATTTATTTTTCTCCAAACAGATAAACTTTGTGTTTGAAAAGAATGAGAGAAGCAAGGA\\n', 'GGACACAGAAAGGTGCTGCTACCCACATCCCTTGACTCAAACTCATGGTATCGCCTTTACAAGGAGACAG\\n', 'ACCATTAATTACGTGTTTGTGATTTGAGTACTCAGCACCACTTACTGGTCTGCCTCTCACTTCAAGGGTG\\n', 'GAGTTATTTTCTATTAGTTAGCTTGGGCTGTTCCCTTAGGGGACCGTGAACCCAGTGGACATGGAGCGTG\\n', 'AGTGAGTTGTGAATGGCAGGGTTGATTTGAGGTGAAGTTATTCCTTATTACAACACTGTCAAGTATAGAA\\n', 'GCTAAAGAGTTCAACTTACAGACGTTACTCATGACTTGGGTTTTCTCATCCACTCACCTAGCACCATCCG\\n', 'CCAGTCAGCCATGGTTATCTACTAATACAGCCCCTCAAAGCAGTCTGCAACTACTGTACACTGCCAAACA\\n', 'GAAGAGTGGGACAGATGGCTCAGTTCTGGGACCCGCCTGTCTCTGTGTCTCCCATTTTCAGCCATTTGAA\\n', 'CAGAATACTCTTTGGAACGCTGAGATAACGTCTTATTGTTTTATATAGACATGTCTTTTAAAAATAGTTC\\n', 'ATGTTTGAGAATTGTTTTGTACTCATTTGCTTTTGTCTGAGAACCATGTCTATTTTTATAACTAAGTGAC\\n', 'TCTGTGTACTCTCACGTTCCCTACACTCTCCATTTTCTACAGCATCCAGTGCTTTTCTACCGTCTCTTCC\\n', 'TACTGCCTCTCGTGGTTCAGAACAAGCTTGATTTTGTTACCAGTTACTAATGGCACTTAGTTCTGTCCAG\\n', 'CTCTCCCTGCTTTTAGTGGTGGGGGTCTTTTTTATTTTATTTTTTTCTAGTTGATTGCTCTTCTAAAAGA\\n', 'CATGAGATCAAAAAGACCTGATGTCTTCCGTGCACGCTGTCCTGGTCTTCTGTTGAAGACCAGTTTTTCC\\n', 'TCAGCTGTAACTAGGAAAGTCCAGGAAAGTCAGCCATAAGCAAGAACAACTCACTGTGAAAGCCAACAGA\\n', 'AGAAAAGTGTTATTTCCGTCTTTTCCAAGTCGCCTGGAGGGATTAAAAAGTCCATGTTTCACCAATTTCT\\n', 'CTGTTGCATGAACTTTAATGTTTTACTATTTGACAGCATGATAGTGATCAGGCTAAACTCCAATACTGTA\\n', 'GTCCAGATACAATTTACCTTCAATGTCTGCCTCTTTAATAAGAGTCTCTCAGCAGTCTTAACATTATGTG\\n', 'AAATTAACTTTTCAGCAAAAATTAAATCAGAGAAAAACTTCAAGTCCTTTACATCGTGTTTTATTTTTTC\\n', 'TCATTTTTGGAAAAGGACCGGCATGACCTCAGTGCCCACATAAAAAGCAGAGGTTGAATTCCAGGGAGAA\\n', 'TGGTGTTCATTAATCTCATACCCCATAAGTAAGACGGCCAAGCATCTCTACTAGAGGATTTATTTCATTA\\n', 'ATTCCTGTAAACAGTGGGTCAGAGATCTTCATTCCAGTCCATACTTCCGGAGGCTTTAGAGCAGGAGCAA\\n', 'GCATAAATTCATTCTCTTTTGAATAATCTCCTATTTGGCAAACTCAAGGACAGCAGTTCTATACCTGTAG\\n', 'GTTGTGACCCCTTTCCCAGGGGCTGCCCAAGACCAATGGAAAATACAGATATTTACATTTTGATTTATAA\\n', 'CAGTAGCAAAATTAGTTTTATGGTTGGGGATCACAACATGAACAGTATTAAAGGGTCGCAGCATTAGGAA\\n', 'GGCTGAGAACCACTGCTCTCGGAGAATCTGTGTCTTGAAACTATTGTTTCCTAGTGATACTGGCGTGGGC\\n', 'TAGCCCATCTTGCTATTGCTGACATCCTCTTTCCTTGGGAAAAACTAGTGGTTCAACCCTTTAATCCCAG\\n', 'CACTGGGGAGGCAGAGGCAAGGGGATCTCTTTGAGTTTAAGGCTAGCCTGGTCTACTTAGTAAGTTCCAT\\n', 'GACAGCCAGAACTATTTAGTGAGACTCTGCCTTGAAAACAACAACAAAACAAAAAGCCAAAACGAAAGCC\\n', 'AAAACAAATGTACTCATGTGTAGAAATGTATTTACACAGACATCTATATACACATAAGTAAAAGTAATAC\\n', 'AAATCAATCTTTAAAATGCTACTTTAGTTATTTAAAAACCGAAGAGTATCATCTTCTTGCTCAATTCCCT\\n', 'AAAAGTCAGCTGGAACATTTTACAATTTGTACTTAAAACCTGGTGATAGATACGTGCCTGTAATTCCAAC\\n', 'ATTTGGGAGGCTGAGGCAGGAGGAGTACTAAGTTAATGCCAGTCTGGCCTATACTGAGATCTGTGTCTGA\\n', 'GTTAAACAGAAGTATAGGTTAGATACATTTGGCAACTGCAATGCCCCTTTTGGACTGAGTTTTCAGCTCT\\n', 'TTTGATTGGGATGACTAAATTATGAAAAGACCTTTATGTTCTACATCCAACTTAAGAATACTCGGCTACT\\n', 'GAAAAGCATAGCAGGTATAATTAAATTTTTCACTTTTACTCATCCGTATCATGACTGCACAGTCTTATTT\\n', 'GTCAAACTTGAGAGGTACGGCTGACTTAAAATACATACATGTAAAGCTCTATTTTCTTACAAACATGGGT\\n', 'GTTTGTGACCACTGCTTTCAGAGATTCTTACCATGTATTCTGTTTTACAATGTTTTCATAGACTGTTATG\\n', 'CCAGAAGTTTCCGATGATCAATGTAATAACCTGTTTTAACTGCCTATGTGTACCAGAATTGTGAATAAGT\\n', 'CAAAACCAAACACACACACTATGAATAAAATGGAGTTTGCAAACTAAA\\n', '\\n']\n"
     ]
    }
   ],
   "source": [
    "x=\"R:\\\\embs\\\\Python\\\\multifasta\"\n",
    "for i in os.listdir(x):\n",
    "    abc=open(i,\"r\")\n",
    "    pqr=abc.readlines()\n",
    "print(pqr) "
   ]
  },
  {
   "cell_type": "code",
   "execution_count": 97,
   "id": "6d5db664-ad07-4273-9ec0-7ae3080bbea9",
   "metadata": {},
   "outputs": [
    {
     "name": "stdout",
     "output_type": "stream",
     "text": [
      "number of sequence in gene1.fasta are 10 sequence\n",
      "number of sequence in gene2.fasta are 4 sequence\n",
      "number of sequence in gene3.fasta are 13 sequence\n"
     ]
    }
   ],
   "source": [
    "x=\"R:\\\\embs\\\\Python\\\\multifasta\"\n",
    "for i in os.listdir(x):\n",
    "    abc=open(i,\"r\")\n",
    "    pqr=abc.readlines()\n",
    "    lmn=0\n",
    "    for j in pqr:\n",
    "        xyz=re.match(\">\",j)\n",
    "        if(xyz):\n",
    "            lmn=lmn+1\n",
    "    print(\"number of sequence in\", i, \"are\", lmn, \"sequence\")"
   ]
  },
  {
   "cell_type": "code",
   "execution_count": 98,
   "id": "257e4b31-3389-42bb-9c7e-127524496067",
   "metadata": {},
   "outputs": [
    {
     "name": "stdin",
     "output_type": "stream",
     "text": [
      "Enter a multifasta folder path here R:\\\\embs\\\\Python\\\\multifasta\n"
     ]
    },
    {
     "name": "stdout",
     "output_type": "stream",
     "text": [
      "number of sequence in gene1.fasta are 10 sequence\n",
      "number of sequence in gene2.fasta are 4 sequence\n",
      "number of sequence in gene3.fasta are 13 sequence\n"
     ]
    }
   ],
   "source": [
    "x=input(\"Enter a multifasta folder path here\")\n",
    "for i in os.listdir(x):\n",
    "    abc=open(i,\"r\")\n",
    "    pqr=abc.readlines()\n",
    "    lmn=0\n",
    "    for j in pqr:\n",
    "        xyz=re.match(\">\",j)\n",
    "        if(xyz):\n",
    "            lmn=lmn+1\n",
    "    print(\"number of sequence in\", i, \"are\", lmn, \"sequence\")"
   ]
  },
  {
   "cell_type": "code",
   "execution_count": null,
   "id": "b0c8fdad-6723-4065-b495-8d5bb2475d0c",
   "metadata": {},
   "outputs": [],
   "source": []
  }
 ],
 "metadata": {
  "kernelspec": {
   "display_name": "Python 3 (ipykernel)",
   "language": "python",
   "name": "python3"
  },
  "language_info": {
   "codemirror_mode": {
    "name": "ipython",
    "version": 3
   },
   "file_extension": ".py",
   "mimetype": "text/x-python",
   "name": "python",
   "nbconvert_exporter": "python",
   "pygments_lexer": "ipython3",
   "version": "3.12.6"
  }
 },
 "nbformat": 4,
 "nbformat_minor": 5
}
