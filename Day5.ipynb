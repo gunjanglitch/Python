{
 "cells": [
  {
   "cell_type": "code",
   "execution_count": 5,
   "id": "e96cba9d-a552-4ea9-a2c6-10bdb9b11597",
   "metadata": {},
   "outputs": [
    {
     "name": "stdout",
     "output_type": "stream",
     "text": [
      "Happy Holi\n"
     ]
    }
   ],
   "source": [
    "#if statement\n",
    "x=10\n",
    "if(x<15):\n",
    "    print(\"Happy Holi\")\n",
    "else:\n",
    "    print(\"Happy Diwali\")"
   ]
  },
  {
   "cell_type": "code",
   "execution_count": 6,
   "id": "30859f12-4a91-4bb7-b921-96e0bcd205e5",
   "metadata": {},
   "outputs": [
    {
     "name": "stdout",
     "output_type": "stream",
     "text": [
      "Happy Diwali\n"
     ]
    }
   ],
   "source": [
    "x=20\n",
    "if(x<15):\n",
    "    print(\"Happy Holi\")\n",
    "else:\n",
    "    print(\"Happy Diwali\")"
   ]
  },
  {
   "cell_type": "code",
   "execution_count": 7,
   "id": "415d501e-859b-4e1d-9487-a1c8abd3464b",
   "metadata": {},
   "outputs": [
    {
     "name": "stdout",
     "output_type": "stream",
     "text": [
      "17\n"
     ]
    }
   ],
   "source": [
    "x=10;\n",
    "if(x<15):\n",
    "    x=x+7;\n",
    "    print(x);\n",
    "else:\n",
    "    x=x-4;\n",
    "    print(x);\n",
    "    "
   ]
  },
  {
   "cell_type": "code",
   "execution_count": 8,
   "id": "27be0584-34f1-439a-9a2b-a5218ca78b5c",
   "metadata": {},
   "outputs": [
    {
     "name": "stdout",
     "output_type": "stream",
     "text": [
      "36\n"
     ]
    }
   ],
   "source": [
    "x=40;\n",
    "if(x<15):\n",
    "    x=x+7;\n",
    "    print(x);\n",
    "else:\n",
    "    x=x-4;\n",
    "    print(x);"
   ]
  },
  {
   "cell_type": "code",
   "execution_count": 9,
   "id": "788061fd-f65c-4fb6-84c5-2bc4400b5f5e",
   "metadata": {},
   "outputs": [
    {
     "name": "stdout",
     "output_type": "stream",
     "text": [
      "20 is an even num\n"
     ]
    }
   ],
   "source": [
    "x=20\n",
    "if(x%2==0):\n",
    "    print(x, \"is an even num\")\n",
    "else:\n",
    "    print(x, \"is an odd num\")"
   ]
  },
  {
   "cell_type": "code",
   "execution_count": 10,
   "id": "f5f89e63-7e7d-40d1-853d-a6c0ed3e389a",
   "metadata": {},
   "outputs": [
    {
     "name": "stdout",
     "output_type": "stream",
     "text": [
      "21 is an odd num\n"
     ]
    }
   ],
   "source": [
    "x=21\n",
    "if(x%2==0):\n",
    "    print(x, \"is an even num\")\n",
    "else:\n",
    "    print(x, \"is an odd num\")"
   ]
  },
  {
   "cell_type": "code",
   "execution_count": 14,
   "id": "dfea5a65-04f7-467c-9031-72dc9ad5cdcb",
   "metadata": {},
   "outputs": [
    {
     "ename": "IndentationError",
     "evalue": "expected an indented block after 'if' statement on line 2 (4027829712.py, line 3)",
     "output_type": "error",
     "traceback": [
      "\u001b[1;36m  Cell \u001b[1;32mIn[14], line 3\u001b[1;36m\u001b[0m\n\u001b[1;33m    print(\"Hello\")\u001b[0m\n\u001b[1;37m    ^\u001b[0m\n\u001b[1;31mIndentationError\u001b[0m\u001b[1;31m:\u001b[0m expected an indented block after 'if' statement on line 2\n"
     ]
    }
   ],
   "source": [
    "x=20\n",
    "if(x<25):\n",
    "print(\"Hello\")\n",
    "else:\n",
    "   print(\"Bye\")"
   ]
  },
  {
   "cell_type": "code",
   "execution_count": 15,
   "id": "5638e474-cb39-4389-9a23-1151e68ea10b",
   "metadata": {},
   "outputs": [
    {
     "name": "stdout",
     "output_type": "stream",
     "text": [
      "3\n",
      "5\n"
     ]
    }
   ],
   "source": [
    "x=3\n",
    "if(x==3):\n",
    "    print(x)\n",
    "    print(x+2)\n",
    "else:\n",
    "    print(x+10)\n",
    "    if(x+2==4):\n",
    "        print(x+20)\n",
    "    else:\n",
    "        print(x-1)"
   ]
  },
  {
   "cell_type": "code",
   "execution_count": 16,
   "id": "5c92e497-064a-410f-bd92-42917213cb28",
   "metadata": {},
   "outputs": [
    {
     "name": "stdout",
     "output_type": "stream",
     "text": [
      "12\n",
      "22\n"
     ]
    }
   ],
   "source": [
    "x=2\n",
    "if(x==3):\n",
    "    print(x)\n",
    "    print(x+2)\n",
    "else:\n",
    "    print(x+10)\n",
    "    if(x+2==4):\n",
    "        print(x+20)\n",
    "    else:\n",
    "        print(x-1)"
   ]
  },
  {
   "cell_type": "code",
   "execution_count": 18,
   "id": "540da689-510c-481c-8f14-7ce2c604a331",
   "metadata": {},
   "outputs": [
    {
     "name": "stdout",
     "output_type": "stream",
     "text": [
      "2 is divisible by 2\n"
     ]
    }
   ],
   "source": [
    "x=2\n",
    "if(x%2==0):\n",
    "    print(x, \"is divisible by 2\")\n",
    "elif(x%3==0):\n",
    "    print(x, \"is divisible by 3\")\n",
    "elif(x%4==0):\n",
    "    print(x, \"is divisible by 4\")\n",
    "elif(x%5==0):\n",
    "    print(x, \"is divisible by 5\")\n",
    "else:\n",
    "    print(x, \"is not divisible by 2/3/4/5\")"
   ]
  },
  {
   "cell_type": "code",
   "execution_count": 25,
   "id": "312349b8-a396-4b71-8c8c-b66bfbd3b497",
   "metadata": {},
   "outputs": [
    {
     "name": "stdout",
     "output_type": "stream",
     "text": [
      "1 is between 0 and 10\n"
     ]
    }
   ],
   "source": [
    "x=1\n",
    "if(x>10 and x<20):\n",
    "    print(x, \"is between 10 and 20\")\n",
    "elif(x>0 and x<10):\n",
    "    print(x, \"is between 0 and 10\")\n",
    "else:\n",
    "    print(x, \"is greater than 20\")"
   ]
  },
  {
   "cell_type": "code",
   "execution_count": 26,
   "id": "f8fcb69d-08b0-4ccc-9c50-be3341e46103",
   "metadata": {},
   "outputs": [
    {
     "name": "stdout",
     "output_type": "stream",
     "text": [
      "10\n",
      "20\n",
      "30\n",
      "40\n",
      "50\n",
      "60\n",
      "70\n",
      "80\n",
      "120\n"
     ]
    }
   ],
   "source": [
    "#for loop\n",
    "x=[10,20,30,40,50,60,70,80,120]\n",
    "for i in x:\n",
    "    print(i)"
   ]
  },
  {
   "cell_type": "code",
   "execution_count": 28,
   "id": "81e2cb6c-86d2-4ba0-b3b9-d0976910dc64",
   "metadata": {},
   "outputs": [
    {
     "name": "stdout",
     "output_type": "stream",
     "text": [
      "1\n",
      "2\n",
      "3\n",
      "4\n",
      "5\n",
      "6\n",
      "7\n",
      "8\n",
      "9\n",
      "10\n"
     ]
    }
   ],
   "source": [
    "for i in range(1,10+1):\n",
    "    print(i)"
   ]
  },
  {
   "cell_type": "code",
   "execution_count": 32,
   "id": "a2422784-ea7c-4283-aaf4-90de74e3fd2c",
   "metadata": {},
   "outputs": [
    {
     "name": "stdout",
     "output_type": "stream",
     "text": [
      "5\n",
      "6\n",
      "7\n",
      "8\n",
      "9\n",
      "10\n",
      "11\n",
      "12\n",
      "13\n",
      "14\n",
      "15\n",
      "16\n",
      "17\n",
      "18\n",
      "19\n",
      "20\n"
     ]
    }
   ],
   "source": [
    "x=20\n",
    "for i in range(5,x+1):\n",
    "    print(i)"
   ]
  },
  {
   "cell_type": "code",
   "execution_count": 38,
   "id": "dae3aa29-ff9a-4d2c-9de6-fb07fa079602",
   "metadata": {},
   "outputs": [
    {
     "name": "stdout",
     "output_type": "stream",
     "text": [
      "120\n"
     ]
    }
   ],
   "source": [
    "#factorial\n",
    "abc = 1\n",
    "for i in range(1,6):\n",
    "    abc=abc*i;\n",
    "\n",
    "print(abc)"
   ]
  },
  {
   "cell_type": "code",
   "execution_count": 41,
   "id": "574d65f6-d42b-4659-a950-7bc3dde0a90a",
   "metadata": {},
   "outputs": [
    {
     "name": "stdout",
     "output_type": "stream",
     "text": [
      "[1, 2, 3, 4, 5, 6, 7, 8, 9, 10, 11, 12, 13, 14, 15, 16, 17, 18, 19]\n"
     ]
    }
   ],
   "source": [
    "abc=[]\n",
    "for i in range(1,20):\n",
    "    abc.append(i)\n",
    "print(abc)"
   ]
  },
  {
   "cell_type": "code",
   "execution_count": 42,
   "id": "56a7b9d0-0d48-4cc5-9c9d-c34494f8a2a7",
   "metadata": {},
   "outputs": [
    {
     "name": "stdout",
     "output_type": "stream",
     "text": [
      "1\n",
      "2\n",
      "3\n",
      "4\n",
      "5\n",
      "6\n",
      "7\n",
      "8\n",
      "9\n",
      "10\n",
      "11\n",
      "12\n",
      "13\n",
      "14\n"
     ]
    }
   ],
   "source": [
    "x=1;\n",
    "while x<15:\n",
    "    print(x)\n",
    "    x=x+1"
   ]
  },
  {
   "cell_type": "code",
   "execution_count": 43,
   "id": "62ca86b8-db23-47a3-9df7-08f73a4a6da2",
   "metadata": {},
   "outputs": [
    {
     "name": "stdout",
     "output_type": "stream",
     "text": [
      "30\n",
      "29\n",
      "28\n",
      "27\n",
      "26\n",
      "25\n",
      "24\n",
      "23\n",
      "22\n",
      "21\n",
      "20\n",
      "19\n",
      "18\n",
      "17\n",
      "16\n",
      "15\n",
      "14\n",
      "13\n",
      "12\n",
      "11\n",
      "10\n",
      "9\n",
      "8\n",
      "7\n",
      "6\n"
     ]
    }
   ],
   "source": [
    "x=30;\n",
    "while x>5:\n",
    "    print(x)\n",
    "    x=x-1"
   ]
  },
  {
   "cell_type": "code",
   "execution_count": 45,
   "id": "fcb32618-30bd-4efb-8621-374239a79ded",
   "metadata": {},
   "outputs": [
    {
     "name": "stdout",
     "output_type": "stream",
     "text": [
      "6\n",
      "7\n",
      "8\n",
      "10\n",
      "11\n",
      "12\n",
      "13\n",
      "14\n",
      "15\n"
     ]
    }
   ],
   "source": [
    "#continue statement\n",
    "x=5\n",
    "while x<15:\n",
    "    x=x+1;\n",
    "    if(x==9):\n",
    "        continue;\n",
    "    print(x)"
   ]
  },
  {
   "cell_type": "code",
   "execution_count": 46,
   "id": "965b79fd-dc04-4c17-ad0f-70e299e6ad64",
   "metadata": {},
   "outputs": [
    {
     "name": "stdout",
     "output_type": "stream",
     "text": [
      "8\n"
     ]
    }
   ],
   "source": [
    "x=5\n",
    "y=3\n",
    "z=x+y\n",
    "print(z)"
   ]
  },
  {
   "cell_type": "code",
   "execution_count": 48,
   "id": "f70bcdd8-b760-4e4d-891a-761b124d8503",
   "metadata": {},
   "outputs": [
    {
     "name": "stdin",
     "output_type": "stream",
     "text": [
      "Enter a value: 12\n",
      "Enter another value 12\n"
     ]
    },
    {
     "name": "stdout",
     "output_type": "stream",
     "text": [
      "sum of the two number is: 24\n"
     ]
    }
   ],
   "source": [
    "x=input(\"Enter a value:\")\n",
    "y=input(\"Enter another value\")\n",
    "z=int(x)+int(y)\n",
    "print(\"sum of the two number is:\", z)"
   ]
  },
  {
   "cell_type": "code",
   "execution_count": 53,
   "id": "bfaf6408-547c-4a71-98d7-bf4416214509",
   "metadata": {},
   "outputs": [
    {
     "name": "stdin",
     "output_type": "stream",
     "text": [
      "Enter a value for factorial 3\n"
     ]
    },
    {
     "name": "stdout",
     "output_type": "stream",
     "text": [
      "factorial of 3 is 6\n"
     ]
    }
   ],
   "source": [
    "x=int(input(\"Enter a value for factorial\"))\n",
    "abc = 1\n",
    "for i in range(1,x+1):\n",
    "    abc=abc*i;\n",
    "\n",
    "print(\"factorial of\", x, \"is\", abc)"
   ]
  },
  {
   "cell_type": "code",
   "execution_count": 58,
   "id": "51a61b1a-23ac-4a8a-988b-1a6e8ac22d96",
   "metadata": {},
   "outputs": [
    {
     "name": "stdin",
     "output_type": "stream",
     "text": [
      "Enter a range for fibinocci series: 12\n"
     ]
    },
    {
     "name": "stdout",
     "output_type": "stream",
     "text": [
      "0\n",
      "1\n",
      "1\n",
      "2\n",
      "3\n",
      "5\n",
      "8\n",
      "13\n",
      "21\n",
      "34\n",
      "55\n",
      "89\n"
     ]
    }
   ],
   "source": [
    "x=int(input(\"Enter a range for fibinocci series:\"))\n",
    "a=0\n",
    "b=1\n",
    "for i in range(0,x):\n",
    "    if (i<=1):\n",
    "        pqr=i\n",
    "    else:\n",
    "        pqr=a+b\n",
    "        a=b\n",
    "        b=pqr\n",
    "    print(pqr)"
   ]
  },
  {
   "cell_type": "code",
   "execution_count": null,
   "id": "aaf9ecf4-23d3-4b5a-aa50-ea71842816a3",
   "metadata": {},
   "outputs": [],
   "source": []
  }
 ],
 "metadata": {
  "kernelspec": {
   "display_name": "Python 3 (ipykernel)",
   "language": "python",
   "name": "python3"
  },
  "language_info": {
   "codemirror_mode": {
    "name": "ipython",
    "version": 3
   },
   "file_extension": ".py",
   "mimetype": "text/x-python",
   "name": "python",
   "nbconvert_exporter": "python",
   "pygments_lexer": "ipython3",
   "version": "3.12.6"
  }
 },
 "nbformat": 4,
 "nbformat_minor": 5
}
